{
 "cells": [
  {
   "cell_type": "code",
   "execution_count": 1,
   "metadata": {},
   "outputs": [],
   "source": [
    "import palindrome\n",
    "import sympy\n",
    "from sympy.ntheory import is_palindromic\n",
    "from IPython.display import display, Math\n",
    "from sympy import latex"
   ]
  },
  {
   "cell_type": "markdown",
   "metadata": {},
   "source": [
    "# Examples of using palindrome module"
   ]
  },
  {
   "cell_type": "markdown",
   "metadata": {},
   "source": [
    "## Iterating over palindromes\n",
    "\n",
    "We use iteration over palindrome to illustrate the two celebrated results\n",
    "1. Every number can be written as a sum of <=3 palindromes.\n",
    "1. The sum of the reciprocal of every palindrome converges to 3.37028...\n"
   ]
  },
  {
   "cell_type": "code",
   "execution_count": 2,
   "metadata": {},
   "outputs": [
    {
     "name": "stdout",
     "output_type": "stream",
     "text": [
      "98 = 1 + 9 + 88\n",
      "98 = 2 + 8 + 88\n",
      "98 = 3 + 7 + 88\n",
      "98 = 4 + 6 + 88\n",
      "98 = 5 + 5 + 88\n",
      "Number of solutions with 3 palindromes: 5\n"
     ]
    }
   ],
   "source": [
    "# try n=2021 to see the explosion of the number of solutions\n",
    "n = 98 # let's find all representations of 98 as a sum of 2 or 3 palindromes.\n",
    "n_solutions = 0\n",
    "for p1 in palindrome.pal_iterator(1,n//2):\n",
    "    p2 = n-p1\n",
    "    if (is_palindromic(p2) and p2 >= p1):\n",
    "        print(f\"{n} = {p1} + {p2}\")\n",
    "    for p2 in palindrome.pal_iterator(p1,(n-p1)//2):\n",
    "        p3 = n-p1-p2\n",
    "        if (is_palindromic(p3) and p3 >= p2):\n",
    "            print(f\"{n} = {p1} + {p2} + {p3}\")\n",
    "            n_solutions += 1\n",
    "print(f\"Number of solutions with 3 palindromes: {n_solutions}\")"
   ]
  },
  {
   "cell_type": "code",
   "execution_count": 3,
   "metadata": {},
   "outputs": [
    {
     "name": "stdout",
     "output_type": "stream",
     "text": [
      "Sum of reciprocals of palindromes up to 10^10: 3.37028\n"
     ]
    }
   ],
   "source": [
    "rec_pal_sum = 0.0\n",
    "for n in palindrome.pal_iterator(1,10**12):\n",
    "    rec_pal_sum += 1.0/n\n",
    "print(f\"Sum of reciprocals of palindromes up to 10^10: {rec_pal_sum:.5f}\")"
   ]
  },
  {
   "cell_type": "code",
   "execution_count": 4,
   "metadata": {},
   "outputs": [
    {
     "name": "stdout",
     "output_type": "stream",
     "text": [
      "n=2025, pal_floor=2002, pal_ceil=2112\n",
      "n=2002, prev_pal=1991, next_pal=2112\n"
     ]
    }
   ],
   "source": [
    "# examples of pal_floor, pal_ceil, prev_pal, next_pal\n",
    "n = 2025\n",
    "print(f\"n={n}, pal_floor={palindrome.pal_floor(n)}, pal_ceil={palindrome.pal_ceil(n)}\")\n",
    "n = 2002\n",
    "print(f\"n={n}, prev_pal={palindrome.prev_pal(n)}, next_pal={palindrome.next_pal(n)}\")"
   ]
  },
  {
   "cell_type": "markdown",
   "metadata": {},
   "source": [
    "### How many palindromes is divisible by a particular prime?\n",
    "\n",
    "There are 2(9+90+900+9000)=19,998 palindromes in the range $(1,10^8)$.  For a prime $p$, it is natural to assume that roughly $19,998/p$ of the palindromes are divisible by $p$, but for some primes this is not so.  Here we compare the guess $19,998/p$ with the actual number.  Notably, 5 underperforms, while 11 overperforms.\n",
    " "
   ]
  },
  {
   "cell_type": "code",
   "execution_count": 5,
   "metadata": {},
   "outputs": [
    {
     "name": "stdout",
     "output_type": "stream",
     "text": [
      "p= 2, guess=  9999, actual=  8888\n",
      "p= 3, guess=  6666, actual=  6666\n",
      "p= 5, guess=  3999, actual=  2222\n",
      "p= 7, guess=  2856, actual=  2878\n",
      "p=11, guess=  1818, actual= 10907\n",
      "p=13, guess=  1538, actual=  1531\n",
      "p=17, guess=  1176, actual=  1172\n",
      "p=19, guess=  1052, actual=  1048\n",
      "p=23, guess=   869, actual=   868\n",
      "p=29, guess=   689, actual=   686\n"
     ]
    }
   ],
   "source": [
    "for p in sympy.primerange(1,30):\n",
    "    n_pal = 0\n",
    "    for i in palindrome.pal_div_iterator(p,1,10**8):\n",
    "        n_pal += 1\n",
    "    print(f\"p={p:2}, guess={19_998//p:6}, actual={n_pal:6}\")"
   ]
  },
  {
   "cell_type": "markdown",
   "metadata": {},
   "source": [
    "### The case of 81\n",
    "\n",
    "81 is an interesting number in that the first palindrome that is divisible by 81 is $10^9-1$.  This means that fractions with denominators that are multiples of 81 will be difficult to represent as sums of reciprocal palindromes. "
   ]
  },
  {
   "cell_type": "code",
   "execution_count": 6,
   "metadata": {},
   "outputs": [
    {
     "name": "stdout",
     "output_type": "stream",
     "text": [
      "999_999_999\n"
     ]
    }
   ],
   "source": [
    "for i in palindrome.pal_div_iterator(81,1,10**9):\n",
    "    print(f\"{i:_}\")"
   ]
  },
  {
   "cell_type": "markdown",
   "metadata": {},
   "source": [
    "### Palindrome divisors\n",
    "\n",
    "A useful function to discover reciprocal palindromic representation is to find all palindromes dividing a particular number."
   ]
  },
  {
   "cell_type": "code",
   "execution_count": 7,
   "metadata": {},
   "outputs": [
    {
     "name": "stdout",
     "output_type": "stream",
     "text": [
      "9_009\n",
      "10_101\n",
      "30_303\n",
      "90_909\n",
      "111_111\n",
      "333_333\n",
      "999_999\n"
     ]
    }
   ],
   "source": [
    "# find all palindromes larger than 6701 that divide 999,999.\n",
    "for i in palindrome.palindrome_divisors(10**6-1, 6701):\n",
    "    print(f\"{i:_}\")"
   ]
  },
  {
   "cell_type": "code",
   "execution_count": 8,
   "metadata": {},
   "outputs": [
    {
     "data": {
      "text/plain": [
       "'\\\\frac{1}{3}'"
      ]
     },
     "execution_count": 8,
     "metadata": {},
     "output_type": "execute_result"
    }
   ],
   "source": [
    "from sympy import Rational\n",
    "r = Rational(1,3)\n",
    "sympy.latex(r)\n"
   ]
  },
  {
   "cell_type": "markdown",
   "metadata": {},
   "source": [
    "### Solutions to $\\frac{1}{a}+\\frac{1}{b}=\\frac{p}{q}$\n",
    "We iterate over all solutions to $$\\frac{1}{a}+\\frac{1}{b}=\\frac{p}{q}$$\n",
    "when $a\\leq b$, $a<b$ and when $a$ and $b$ are palindromes."
   ]
  },
  {
   "cell_type": "code",
   "execution_count": 9,
   "metadata": {},
   "outputs": [
    {
     "data": {
      "text/latex": [
       "$\\displaystyle \\frac{1}{6}=\\frac{1}{7}+\\frac{1}{42}$"
      ],
      "text/plain": [
       "<IPython.core.display.Math object>"
      ]
     },
     "metadata": {},
     "output_type": "display_data"
    },
    {
     "data": {
      "text/latex": [
       "$\\displaystyle \\frac{1}{6}=\\frac{1}{8}+\\frac{1}{24}$"
      ],
      "text/plain": [
       "<IPython.core.display.Math object>"
      ]
     },
     "metadata": {},
     "output_type": "display_data"
    },
    {
     "data": {
      "text/latex": [
       "$\\displaystyle \\frac{1}{6}=\\frac{1}{9}+\\frac{1}{18}$"
      ],
      "text/plain": [
       "<IPython.core.display.Math object>"
      ]
     },
     "metadata": {},
     "output_type": "display_data"
    },
    {
     "data": {
      "text/latex": [
       "$\\displaystyle \\frac{1}{6}=\\frac{1}{10}+\\frac{1}{15}$"
      ],
      "text/plain": [
       "<IPython.core.display.Math object>"
      ]
     },
     "metadata": {},
     "output_type": "display_data"
    },
    {
     "data": {
      "text/latex": [
       "$\\displaystyle \\frac{1}{6}=\\frac{1}{12}+\\frac{1}{12}$"
      ],
      "text/plain": [
       "<IPython.core.display.Math object>"
      ]
     },
     "metadata": {},
     "output_type": "display_data"
    }
   ],
   "source": [
    "r = Rational(1,6)\n",
    "for a,b in palindrome.reciprocal_pair_iterator_r(r):\n",
    "    display(Math(f\"{latex(r)}={latex(a)}+{latex(b)}\"))"
   ]
  },
  {
   "cell_type": "code",
   "execution_count": 10,
   "metadata": {},
   "outputs": [
    {
     "name": "stdout",
     "output_type": "stream",
     "text": [
      "1/6 = 1/7 + 1/42\n",
      "1/6 = 1/8 + 1/24\n",
      "1/6 = 1/9 + 1/18\n",
      "1/6 = 1/10 + 1/15\n"
     ]
    }
   ],
   "source": [
    "for a,b in palindrome.egyptian_pair_iterator(1,6):\n",
    "    print(f\"1/6 = 1/{a} + 1/{b}\")"
   ]
  },
  {
   "cell_type": "markdown",
   "metadata": {},
   "source": [
    "### A first egyptian palindromic representation of 1/n "
   ]
  },
  {
   "cell_type": "code",
   "execution_count": 11,
   "metadata": {},
   "outputs": [
    {
     "data": {
      "text/latex": [
       "$\\displaystyle \\frac{1}{18}=\\frac{1}{22}+\\frac{1}{99}$"
      ],
      "text/plain": [
       "<IPython.core.display.Math object>"
      ]
     },
     "metadata": {},
     "output_type": "display_data"
    },
    {
     "data": {
      "text/latex": [
       "$\\displaystyle \\frac{1}{24}=\\frac{1}{33}+\\frac{1}{88}$"
      ],
      "text/plain": [
       "<IPython.core.display.Math object>"
      ]
     },
     "metadata": {},
     "output_type": "display_data"
    },
    {
     "data": {
      "text/latex": [
       "$\\displaystyle \\frac{1}{28}=\\frac{1}{44}+\\frac{1}{77}$"
      ],
      "text/plain": [
       "<IPython.core.display.Math object>"
      ]
     },
     "metadata": {},
     "output_type": "display_data"
    },
    {
     "data": {
      "text/latex": [
       "$\\displaystyle \\frac{1}{30}=\\frac{1}{55}+\\frac{1}{66}$"
      ],
      "text/plain": [
       "<IPython.core.display.Math object>"
      ]
     },
     "metadata": {},
     "output_type": "display_data"
    },
    {
     "data": {
      "text/latex": [
       "$\\displaystyle \\frac{1}{64}=\\frac{1}{66}+\\frac{1}{2112}$"
      ],
      "text/plain": [
       "<IPython.core.display.Math object>"
      ]
     },
     "metadata": {},
     "output_type": "display_data"
    },
    {
     "data": {
      "text/latex": [
       "$\\displaystyle \\frac{1}{74}=\\frac{1}{111}+\\frac{1}{222}$"
      ],
      "text/plain": [
       "<IPython.core.display.Math object>"
      ]
     },
     "metadata": {},
     "output_type": "display_data"
    },
    {
     "data": {
      "text/latex": [
       "$\\displaystyle \\frac{1}{94}=\\frac{1}{141}+\\frac{1}{282}$"
      ],
      "text/plain": [
       "<IPython.core.display.Math object>"
      ]
     },
     "metadata": {},
     "output_type": "display_data"
    },
    {
     "data": {
      "text/latex": [
       "$\\displaystyle \\frac{1}{148}=\\frac{1}{222}+\\frac{1}{444}$"
      ],
      "text/plain": [
       "<IPython.core.display.Math object>"
      ]
     },
     "metadata": {},
     "output_type": "display_data"
    },
    {
     "data": {
      "text/latex": [
       "$\\displaystyle \\frac{1}{159}=\\frac{1}{212}+\\frac{1}{636}$"
      ],
      "text/plain": [
       "<IPython.core.display.Math object>"
      ]
     },
     "metadata": {},
     "output_type": "display_data"
    },
    {
     "data": {
      "text/latex": [
       "$\\displaystyle \\frac{1}{174}=\\frac{1}{232}+\\frac{1}{696}$"
      ],
      "text/plain": [
       "<IPython.core.display.Math object>"
      ]
     },
     "metadata": {},
     "output_type": "display_data"
    },
    {
     "data": {
      "text/latex": [
       "$\\displaystyle \\frac{1}{198}=\\frac{1}{202}+\\frac{1}{9999}$"
      ],
      "text/plain": [
       "<IPython.core.display.Math object>"
      ]
     },
     "metadata": {},
     "output_type": "display_data"
    },
    {
     "data": {
      "text/latex": [
       "$\\displaystyle \\frac{1}{231}=\\frac{1}{252}+\\frac{1}{2772}$"
      ],
      "text/plain": [
       "<IPython.core.display.Math object>"
      ]
     },
     "metadata": {},
     "output_type": "display_data"
    },
    {
     "data": {
      "text/latex": [
       "$\\displaystyle \\frac{1}{276}=\\frac{1}{414}+\\frac{1}{828}$"
      ],
      "text/plain": [
       "<IPython.core.display.Math object>"
      ]
     },
     "metadata": {},
     "output_type": "display_data"
    },
    {
     "data": {
      "text/latex": [
       "$\\displaystyle \\frac{1}{296}=\\frac{1}{444}+\\frac{1}{888}$"
      ],
      "text/plain": [
       "<IPython.core.display.Math object>"
      ]
     },
     "metadata": {},
     "output_type": "display_data"
    },
    {
     "data": {
      "text/latex": [
       "$\\displaystyle \\frac{1}{396}=\\frac{1}{444}+\\frac{1}{3663}$"
      ],
      "text/plain": [
       "<IPython.core.display.Math object>"
      ]
     },
     "metadata": {},
     "output_type": "display_data"
    },
    {
     "data": {
      "text/latex": [
       "$\\displaystyle \\frac{1}{407}=\\frac{1}{444}+\\frac{1}{4884}$"
      ],
      "text/plain": [
       "<IPython.core.display.Math object>"
      ]
     },
     "metadata": {},
     "output_type": "display_data"
    },
    {
     "data": {
      "text/latex": [
       "$\\displaystyle \\frac{1}{462}=\\frac{1}{858}+\\frac{1}{1001}$"
      ],
      "text/plain": [
       "<IPython.core.display.Math object>"
      ]
     },
     "metadata": {},
     "output_type": "display_data"
    },
    {
     "data": {
      "text/latex": [
       "$\\displaystyle \\frac{1}{504}=\\frac{1}{616}+\\frac{1}{2772}$"
      ],
      "text/plain": [
       "<IPython.core.display.Math object>"
      ]
     },
     "metadata": {},
     "output_type": "display_data"
    },
    {
     "data": {
      "text/latex": [
       "$\\displaystyle \\frac{1}{572}=\\frac{1}{616}+\\frac{1}{8008}$"
      ],
      "text/plain": [
       "<IPython.core.display.Math object>"
      ]
     },
     "metadata": {},
     "output_type": "display_data"
    },
    {
     "data": {
      "text/latex": [
       "$\\displaystyle \\frac{1}{583}=\\frac{1}{636}+\\frac{1}{6996}$"
      ],
      "text/plain": [
       "<IPython.core.display.Math object>"
      ]
     },
     "metadata": {},
     "output_type": "display_data"
    },
    {
     "data": {
      "text/latex": [
       "$\\displaystyle \\frac{1}{756}=\\frac{1}{777}+\\frac{1}{27972}$"
      ],
      "text/plain": [
       "<IPython.core.display.Math object>"
      ]
     },
     "metadata": {},
     "output_type": "display_data"
    },
    {
     "data": {
      "text/latex": [
       "$\\displaystyle \\frac{1}{814}=\\frac{1}{1221}+\\frac{1}{2442}$"
      ],
      "text/plain": [
       "<IPython.core.display.Math object>"
      ]
     },
     "metadata": {},
     "output_type": "display_data"
    },
    {
     "data": {
      "text/latex": [
       "$\\displaystyle \\frac{1}{822}=\\frac{1}{858}+\\frac{1}{19591}$"
      ],
      "text/plain": [
       "<IPython.core.display.Math object>"
      ]
     },
     "metadata": {},
     "output_type": "display_data"
    },
    {
     "data": {
      "text/latex": [
       "$\\displaystyle \\frac{1}{847}=\\frac{1}{858}+\\frac{1}{66066}$"
      ],
      "text/plain": [
       "<IPython.core.display.Math object>"
      ]
     },
     "metadata": {},
     "output_type": "display_data"
    }
   ],
   "source": [
    "# find all unit reciprocals with a denominator below 1000 \n",
    "# that has an eqyptian palindromic representation with 2 terms.\n",
    "for i in range(10,1000):\n",
    "    if not is_palindromic(i):\n",
    "        r = Rational(1,i)\n",
    "        for a,b in palindrome.egyptian_pal_pair_iterator_r(r):\n",
    "            display(Math(f\"{latex(r)}={latex(a)}+{latex(b)}\"))"
   ]
  },
  {
   "cell_type": "markdown",
   "metadata": {},
   "source": [
    "### Solutions to $\\sum_i \\frac{1}{a_i}=\\frac{p}{q}$\n",
    "We iterate over all solutions to $$\\sum_{i=1}^k \\frac{1}{a_i}=\\frac{p}{q}$$ for small values of $k$ when $a\\leq b$, $a<b$ and when $a$ and $b$ are palindromes.\n",
    "\n",
    "#### Are you smarter than a fifth-grader?\n",
    "An interesting problem to solve is \n",
    "$$1 = \\frac{1}{a}+\\frac{1}{b}+\\frac{1}{c}+\\frac{1}{d}+\\frac{1}{e}$$\n",
    "with $a,b,c,d,e$ distinct.  This problem was posed to a fifth grade class.  Our code can iterate over *all solutions* to this problem.  It's also interesting to see the solutions where $a,b,c,d,e$ are all palindromes."
   ]
  },
  {
   "cell_type": "code",
   "execution_count": 13,
   "metadata": {},
   "outputs": [
    {
     "name": "stdout",
     "output_type": "stream",
     "text": [
      "Number of solutions: 72\n"
     ]
    }
   ],
   "source": [
    "count = 0\n",
    "for sol in palindrome.egyptian_iterator(1,1,5):\n",
    "    count += 1\n",
    "print(f\"Number of solutions: {count}\")"
   ]
  },
  {
   "cell_type": "code",
   "execution_count": 15,
   "metadata": {},
   "outputs": [
    {
     "data": {
      "text/latex": [
       "$\\displaystyle 1=\\frac{1}{2}+\\frac{1}{3}+\\frac{1}{8}+\\frac{1}{33}+\\frac{1}{88}$"
      ],
      "text/plain": [
       "<IPython.core.display.Math object>"
      ]
     },
     "metadata": {},
     "output_type": "display_data"
    },
    {
     "data": {
      "text/latex": [
       "$\\displaystyle 1=\\frac{1}{2}+\\frac{1}{3}+\\frac{1}{9}+\\frac{1}{22}+\\frac{1}{99}$"
      ],
      "text/plain": [
       "<IPython.core.display.Math object>"
      ]
     },
     "metadata": {},
     "output_type": "display_data"
    },
    {
     "data": {
      "text/latex": [
       "$\\displaystyle 1=\\frac{1}{2}+\\frac{1}{3}+\\frac{1}{11}+\\frac{1}{22}+\\frac{1}{33}$"
      ],
      "text/plain": [
       "<IPython.core.display.Math object>"
      ]
     },
     "metadata": {},
     "output_type": "display_data"
    }
   ],
   "source": [
    "# palindromic solutions\n",
    "for sol in palindrome.egyptian_pal_iterator_r(Rational(1,1),5):\n",
    "    display(Math(f\"1={'+'.join([latex(p) for p in sol])}\"))"
   ]
  },
  {
   "cell_type": "code",
   "execution_count": 18,
   "metadata": {},
   "outputs": [
    {
     "data": {
      "text/latex": [
       "$\\displaystyle \\frac{1}{11}=\\frac{1}{22}+\\frac{1}{33}+\\frac{1}{66}$"
      ],
      "text/plain": [
       "<IPython.core.display.Math object>"
      ]
     },
     "metadata": {},
     "output_type": "display_data"
    },
    {
     "data": {
      "text/latex": [
       "$\\displaystyle \\frac{1}{12}=\\frac{1}{22}+\\frac{1}{44}+\\frac{1}{66}$"
      ],
      "text/plain": [
       "<IPython.core.display.Math object>"
      ]
     },
     "metadata": {},
     "output_type": "display_data"
    },
    {
     "data": {
      "text/latex": [
       "$\\displaystyle \\frac{1}{13}=\\frac{1}{22}+\\frac{1}{33}+\\frac{1}{858}$"
      ],
      "text/plain": [
       "<IPython.core.display.Math object>"
      ]
     },
     "metadata": {},
     "output_type": "display_data"
    },
    {
     "data": {
      "text/latex": [
       "$\\displaystyle \\frac{1}{18}=\\frac{1}{33}+\\frac{1}{66}+\\frac{1}{99}$"
      ],
      "text/plain": [
       "<IPython.core.display.Math object>"
      ]
     },
     "metadata": {},
     "output_type": "display_data"
    },
    {
     "data": {
      "text/latex": [
       "$\\displaystyle \\frac{1}{21}=\\frac{1}{22}+\\frac{1}{858}+\\frac{1}{1001}$"
      ],
      "text/plain": [
       "<IPython.core.display.Math object>"
      ]
     },
     "metadata": {},
     "output_type": "display_data"
    },
    {
     "data": {
      "text/latex": [
       "$\\displaystyle \\frac{1}{28}=\\frac{1}{44}+\\frac{1}{88}+\\frac{1}{616}$"
      ],
      "text/plain": [
       "<IPython.core.display.Math object>"
      ]
     },
     "metadata": {},
     "output_type": "display_data"
    },
    {
     "data": {
      "text/latex": [
       "$\\displaystyle \\frac{1}{29}=\\frac{1}{44}+\\frac{1}{88}+\\frac{1}{2552}$"
      ],
      "text/plain": [
       "<IPython.core.display.Math object>"
      ]
     },
     "metadata": {},
     "output_type": "display_data"
    },
    {
     "data": {
      "text/latex": [
       "$\\displaystyle \\frac{1}{36}=\\frac{1}{44}+\\frac{1}{202}+\\frac{1}{9999}$"
      ],
      "text/plain": [
       "<IPython.core.display.Math object>"
      ]
     },
     "metadata": {},
     "output_type": "display_data"
    },
    {
     "data": {
      "text/latex": [
       "$\\displaystyle \\frac{1}{52}=\\frac{1}{66}+\\frac{1}{252}+\\frac{1}{9009}$"
      ],
      "text/plain": [
       "<IPython.core.display.Math object>"
      ]
     },
     "metadata": {},
     "output_type": "display_data"
    },
    {
     "data": {
      "text/latex": [
       "$\\displaystyle \\frac{1}{66}=\\frac{1}{77}+\\frac{1}{858}+\\frac{1}{1001}$"
      ],
      "text/plain": [
       "<IPython.core.display.Math object>"
      ]
     },
     "metadata": {},
     "output_type": "display_data"
    },
    {
     "data": {
      "text/latex": [
       "$\\displaystyle \\frac{1}{66}=\\frac{1}{99}+\\frac{1}{202}+\\frac{1}{9999}$"
      ],
      "text/plain": [
       "<IPython.core.display.Math object>"
      ]
     },
     "metadata": {},
     "output_type": "display_data"
    },
    {
     "data": {
      "text/latex": [
       "$\\displaystyle \\frac{1}{66}=\\frac{1}{101}+\\frac{1}{202}+\\frac{1}{3333}$"
      ],
      "text/plain": [
       "<IPython.core.display.Math object>"
      ]
     },
     "metadata": {},
     "output_type": "display_data"
    },
    {
     "data": {
      "text/latex": [
       "$\\displaystyle \\frac{1}{66}=\\frac{1}{121}+\\frac{1}{242}+\\frac{1}{363}$"
      ],
      "text/plain": [
       "<IPython.core.display.Math object>"
      ]
     },
     "metadata": {},
     "output_type": "display_data"
    },
    {
     "data": {
      "text/latex": [
       "$\\displaystyle \\frac{1}{72}=\\frac{1}{88}+\\frac{1}{444}+\\frac{1}{3663}$"
      ],
      "text/plain": [
       "<IPython.core.display.Math object>"
      ]
     },
     "metadata": {},
     "output_type": "display_data"
    },
    {
     "data": {
      "text/latex": [
       "$\\displaystyle \\frac{1}{74}=\\frac{1}{99}+\\frac{1}{333}+\\frac{1}{2442}$"
      ],
      "text/plain": [
       "<IPython.core.display.Math object>"
      ]
     },
     "metadata": {},
     "output_type": "display_data"
    },
    {
     "data": {
      "text/latex": [
       "$\\displaystyle \\frac{1}{74}=\\frac{1}{111}+\\frac{1}{333}+\\frac{1}{666}$"
      ],
      "text/plain": [
       "<IPython.core.display.Math object>"
      ]
     },
     "metadata": {},
     "output_type": "display_data"
    },
    {
     "data": {
      "text/latex": [
       "$\\displaystyle \\frac{1}{88}=\\frac{1}{101}+\\frac{1}{808}+\\frac{1}{4444}$"
      ],
      "text/plain": [
       "<IPython.core.display.Math object>"
      ]
     },
     "metadata": {},
     "output_type": "display_data"
    },
    {
     "data": {
      "text/latex": [
       "$\\displaystyle \\frac{1}{99}=\\frac{1}{111}+\\frac{1}{1221}+\\frac{1}{3663}$"
      ],
      "text/plain": [
       "<IPython.core.display.Math object>"
      ]
     },
     "metadata": {},
     "output_type": "display_data"
    },
    {
     "name": "stdout",
     "output_type": "stream",
     "text": [
      "CPU times: total: 156 ms\n",
      "Wall time: 147 ms\n"
     ]
    }
   ],
   "source": [
    "%%time\n",
    "# egyptian palindromic representations of 1/n with 3 terms.\n",
    "for i in range(10,100):\n",
    "    r = Rational(1,i)\n",
    "    for sol in palindrome.egyptian_pal_iterator_r(r,3):\n",
    "        display(Math(f\"{latex(r)}={'+'.join([latex(p) for p in sol])}\"))"
   ]
  },
  {
   "cell_type": "code",
   "execution_count": null,
   "metadata": {},
   "outputs": [],
   "source": []
  },
  {
   "cell_type": "code",
   "execution_count": null,
   "metadata": {},
   "outputs": [],
   "source": []
  }
 ],
 "metadata": {
  "kernelspec": {
   "display_name": "palindrome",
   "language": "python",
   "name": "python3"
  },
  "language_info": {
   "codemirror_mode": {
    "name": "ipython",
    "version": 3
   },
   "file_extension": ".py",
   "mimetype": "text/x-python",
   "name": "python",
   "nbconvert_exporter": "python",
   "pygments_lexer": "ipython3",
   "version": "3.13.1"
  }
 },
 "nbformat": 4,
 "nbformat_minor": 2
}
