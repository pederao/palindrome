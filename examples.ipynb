{
 "cells": [
  {
   "cell_type": "markdown",
   "metadata": {},
   "source": [
    "[![Open In Colab](https://colab.research.google.com/assets/colab-badge.svg)](https://githubtocolab.com/pederao/palindrome/blob/main/examples.ipynb)\n"
   ]
  },
  {
   "cell_type": "code",
   "execution_count": 1,
   "metadata": {},
   "outputs": [],
   "source": [
    "import sympy\n",
    "from sympy.ntheory import is_palindromic\n",
    "from IPython.display import display, Math\n",
    "from sympy import latex, Rational\n",
    "\n",
    "import solver\n",
    "import palindrome"
   ]
  },
  {
   "cell_type": "markdown",
   "metadata": {},
   "source": [
    "## Palindrome.py: Iterating over palindromes\n",
    "\n",
    "We use iteration over palindrome to illustrate the two celebrated results\n",
    "1. Every number can be written as a sum of <=3 palindromes.\n",
    "1. The sum of the reciprocal of every palindrome converges to 3.37028...\n"
   ]
  },
  {
   "cell_type": "code",
   "execution_count": 2,
   "metadata": {},
   "outputs": [
    {
     "name": "stdout",
     "output_type": "stream",
     "text": [
      "98 = 1 + 9 + 88\n",
      "98 = 2 + 8 + 88\n",
      "98 = 3 + 7 + 88\n",
      "98 = 4 + 6 + 88\n",
      "98 = 5 + 5 + 88\n",
      "Number of solutions with 3 palindromes: 5\n"
     ]
    }
   ],
   "source": [
    "# try n=2021 to see the explosion of the number of solutions\n",
    "n = 98 # let's find all representations of 98 as a sum of 2 or 3 palindromes.\n",
    "n_solutions = 0\n",
    "for p1 in palindrome.pal_iterator(1,n//2):\n",
    "    p2 = n-p1\n",
    "    if (is_palindromic(p2) and p2 >= p1):\n",
    "        print(f\"{n} = {p1} + {p2}\")\n",
    "    for p2 in palindrome.pal_iterator(p1,(n-p1)//2):\n",
    "        p3 = n-p1-p2\n",
    "        if (is_palindromic(p3) and p3 >= p2):\n",
    "            print(f\"{n} = {p1} + {p2} + {p3}\")\n",
    "            n_solutions += 1\n",
    "print(f\"Number of solutions with 3 palindromes: {n_solutions}\")"
   ]
  },
  {
   "cell_type": "code",
   "execution_count": 3,
   "metadata": {},
   "outputs": [
    {
     "name": "stdout",
     "output_type": "stream",
     "text": [
      "Sum of reciprocals of palindromes up to 10^12: 3.37028\n"
     ]
    }
   ],
   "source": [
    "rec_pal_sum = 0.0\n",
    "for n in palindrome.pal_iterator(1,10**12):\n",
    "    rec_pal_sum += 1.0/n\n",
    "print(f\"Sum of reciprocals of palindromes up to 10^12: {rec_pal_sum:.5f}\")"
   ]
  },
  {
   "cell_type": "code",
   "execution_count": 4,
   "metadata": {},
   "outputs": [
    {
     "name": "stdout",
     "output_type": "stream",
     "text": [
      "n=2025, pal_floor=2002, pal_ceil=2112\n",
      "n=2002, prev_pal=1991, next_pal=2112\n"
     ]
    }
   ],
   "source": [
    "# examples of pal_floor, pal_ceil, prev_pal, next_pal\n",
    "n = 2025\n",
    "print(f\"n={n}, pal_floor={palindrome.pal_floor(n)}, pal_ceil={palindrome.pal_ceil(n)}\")\n",
    "n = 2002\n",
    "print(f\"n={n}, prev_pal={palindrome.prev_pal(n)}, next_pal={palindrome.next_pal(n)}\")"
   ]
  },
  {
   "cell_type": "markdown",
   "metadata": {},
   "source": [
    "### How many palindromes is divisible by a particular prime?\n",
    "\n",
    "There are 2(9+90+900+9000)=19,998 palindromes in the range $(1,10^8)$.  For a prime $p$, it is natural to assume that roughly $19,998/p$ of the palindromes are divisible by $p$, but for some primes this is not so.  Here we compare the guess $19,998/p$ with the actual number.  Notably, 5 underperforms, while 11 overperforms.\n",
    " "
   ]
  },
  {
   "cell_type": "code",
   "execution_count": 5,
   "metadata": {},
   "outputs": [
    {
     "name": "stdout",
     "output_type": "stream",
     "text": [
      "p= 2, guess=  9999, actual=  8888\n",
      "p= 3, guess=  6666, actual=  6666\n",
      "p= 5, guess=  3999, actual=  2222\n",
      "p= 7, guess=  2856, actual=  2878\n",
      "p=11, guess=  1818, actual= 10907\n",
      "p=13, guess=  1538, actual=  1531\n",
      "p=17, guess=  1176, actual=  1172\n",
      "p=19, guess=  1052, actual=  1048\n",
      "p=23, guess=   869, actual=   868\n",
      "p=29, guess=   689, actual=   686\n"
     ]
    }
   ],
   "source": [
    "for p in sympy.primerange(1,30):\n",
    "    n_pal = 0\n",
    "    for i in palindrome.pal_div_iterator(p,1,10**8):\n",
    "        n_pal += 1\n",
    "    print(f\"p={p:2}, guess={19_998//p:6}, actual={n_pal:6}\")"
   ]
  },
  {
   "cell_type": "markdown",
   "metadata": {},
   "source": [
    "### The case of 81\n",
    "\n",
    "81 is an interesting number in that the first palindrome that is divisible by 81 is $10^9-1$.  This means that fractions with denominators that are multiples of 81 will be difficult to represent as sums of reciprocal palindromes. "
   ]
  },
  {
   "cell_type": "code",
   "execution_count": 6,
   "metadata": {},
   "outputs": [
    {
     "name": "stdout",
     "output_type": "stream",
     "text": [
      "999_999_999\n"
     ]
    }
   ],
   "source": [
    "for i in palindrome.pal_div_iterator(81,1,10**9):\n",
    "    print(f\"{i:_}\")"
   ]
  },
  {
   "cell_type": "markdown",
   "metadata": {},
   "source": [
    "### Palindrome divisors\n",
    "\n",
    "A useful function to discover reciprocal palindromic representation is to find all palindromes dividing a particular number."
   ]
  },
  {
   "cell_type": "code",
   "execution_count": 7,
   "metadata": {},
   "outputs": [
    {
     "name": "stdout",
     "output_type": "stream",
     "text": [
      "9_009\n",
      "10_101\n",
      "30_303\n",
      "90_909\n",
      "111_111\n",
      "333_333\n",
      "999_999\n"
     ]
    }
   ],
   "source": [
    "# find all palindromes larger than 6701 that divide 999,999.\n",
    "for i in palindrome.palindrome_divisors(10**6-1, 6701):\n",
    "    print(f\"{i:_}\")"
   ]
  },
  {
   "cell_type": "markdown",
   "metadata": {},
   "source": [
    "### Solutions to $\\frac{1}{a}+\\frac{1}{b}=\\frac{p}{q}$\n",
    "We iterate over all solutions to $$\\frac{1}{a}+\\frac{1}{b}=\\frac{p}{q}$$\n",
    "when $a\\leq b$, $a<b$ and when $a$ and $b$ are positive integers."
   ]
  },
  {
   "cell_type": "code",
   "execution_count": 8,
   "metadata": {},
   "outputs": [
    {
     "data": {
      "text/latex": [
       "$\\displaystyle \\frac{1}{6}=\\frac{1}{7}+\\frac{1}{42}$"
      ],
      "text/plain": [
       "<IPython.core.display.Math object>"
      ]
     },
     "metadata": {},
     "output_type": "display_data"
    },
    {
     "data": {
      "text/latex": [
       "$\\displaystyle \\frac{1}{6}=\\frac{1}{8}+\\frac{1}{24}$"
      ],
      "text/plain": [
       "<IPython.core.display.Math object>"
      ]
     },
     "metadata": {},
     "output_type": "display_data"
    },
    {
     "data": {
      "text/latex": [
       "$\\displaystyle \\frac{1}{6}=\\frac{1}{9}+\\frac{1}{18}$"
      ],
      "text/plain": [
       "<IPython.core.display.Math object>"
      ]
     },
     "metadata": {},
     "output_type": "display_data"
    },
    {
     "data": {
      "text/latex": [
       "$\\displaystyle \\frac{1}{6}=\\frac{1}{10}+\\frac{1}{15}$"
      ],
      "text/plain": [
       "<IPython.core.display.Math object>"
      ]
     },
     "metadata": {},
     "output_type": "display_data"
    },
    {
     "data": {
      "text/latex": [
       "$\\displaystyle \\frac{1}{6}=\\frac{1}{12}+\\frac{1}{12}$"
      ],
      "text/plain": [
       "<IPython.core.display.Math object>"
      ]
     },
     "metadata": {},
     "output_type": "display_data"
    }
   ],
   "source": [
    "r = Rational(1,6)\n",
    "for a,b in palindrome.reciprocal_pair_iterator_r(r):\n",
    "    display(Math(f\"{latex(r)}={latex(a)}+{latex(b)}\"))"
   ]
  },
  {
   "cell_type": "code",
   "execution_count": 9,
   "metadata": {},
   "outputs": [
    {
     "name": "stdout",
     "output_type": "stream",
     "text": [
      "1/6 = 1/7 + 1/42\n",
      "1/6 = 1/8 + 1/24\n",
      "1/6 = 1/9 + 1/18\n",
      "1/6 = 1/10 + 1/15\n"
     ]
    }
   ],
   "source": [
    "for a,b in palindrome.egyptian_pair_iterator(1,6):\n",
    "    print(f\"1/6 = 1/{a} + 1/{b}\")"
   ]
  },
  {
   "cell_type": "markdown",
   "metadata": {},
   "source": [
    "### A first egyptian palindromic representation of 1/n "
   ]
  },
  {
   "cell_type": "code",
   "execution_count": 10,
   "metadata": {},
   "outputs": [
    {
     "data": {
      "text/latex": [
       "$\\displaystyle \\frac{1}{18}=\\frac{1}{22}+\\frac{1}{99}$"
      ],
      "text/plain": [
       "<IPython.core.display.Math object>"
      ]
     },
     "metadata": {},
     "output_type": "display_data"
    },
    {
     "data": {
      "text/latex": [
       "$\\displaystyle \\frac{1}{24}=\\frac{1}{33}+\\frac{1}{88}$"
      ],
      "text/plain": [
       "<IPython.core.display.Math object>"
      ]
     },
     "metadata": {},
     "output_type": "display_data"
    },
    {
     "data": {
      "text/latex": [
       "$\\displaystyle \\frac{1}{28}=\\frac{1}{44}+\\frac{1}{77}$"
      ],
      "text/plain": [
       "<IPython.core.display.Math object>"
      ]
     },
     "metadata": {},
     "output_type": "display_data"
    },
    {
     "data": {
      "text/latex": [
       "$\\displaystyle \\frac{1}{30}=\\frac{1}{55}+\\frac{1}{66}$"
      ],
      "text/plain": [
       "<IPython.core.display.Math object>"
      ]
     },
     "metadata": {},
     "output_type": "display_data"
    },
    {
     "data": {
      "text/latex": [
       "$\\displaystyle \\frac{1}{64}=\\frac{1}{66}+\\frac{1}{2112}$"
      ],
      "text/plain": [
       "<IPython.core.display.Math object>"
      ]
     },
     "metadata": {},
     "output_type": "display_data"
    },
    {
     "data": {
      "text/latex": [
       "$\\displaystyle \\frac{1}{74}=\\frac{1}{111}+\\frac{1}{222}$"
      ],
      "text/plain": [
       "<IPython.core.display.Math object>"
      ]
     },
     "metadata": {},
     "output_type": "display_data"
    },
    {
     "data": {
      "text/latex": [
       "$\\displaystyle \\frac{1}{94}=\\frac{1}{141}+\\frac{1}{282}$"
      ],
      "text/plain": [
       "<IPython.core.display.Math object>"
      ]
     },
     "metadata": {},
     "output_type": "display_data"
    },
    {
     "data": {
      "text/latex": [
       "$\\displaystyle \\frac{1}{148}=\\frac{1}{222}+\\frac{1}{444}$"
      ],
      "text/plain": [
       "<IPython.core.display.Math object>"
      ]
     },
     "metadata": {},
     "output_type": "display_data"
    },
    {
     "data": {
      "text/latex": [
       "$\\displaystyle \\frac{1}{159}=\\frac{1}{212}+\\frac{1}{636}$"
      ],
      "text/plain": [
       "<IPython.core.display.Math object>"
      ]
     },
     "metadata": {},
     "output_type": "display_data"
    },
    {
     "data": {
      "text/latex": [
       "$\\displaystyle \\frac{1}{174}=\\frac{1}{232}+\\frac{1}{696}$"
      ],
      "text/plain": [
       "<IPython.core.display.Math object>"
      ]
     },
     "metadata": {},
     "output_type": "display_data"
    },
    {
     "data": {
      "text/latex": [
       "$\\displaystyle \\frac{1}{198}=\\frac{1}{202}+\\frac{1}{9999}$"
      ],
      "text/plain": [
       "<IPython.core.display.Math object>"
      ]
     },
     "metadata": {},
     "output_type": "display_data"
    },
    {
     "data": {
      "text/latex": [
       "$\\displaystyle \\frac{1}{231}=\\frac{1}{252}+\\frac{1}{2772}$"
      ],
      "text/plain": [
       "<IPython.core.display.Math object>"
      ]
     },
     "metadata": {},
     "output_type": "display_data"
    },
    {
     "data": {
      "text/latex": [
       "$\\displaystyle \\frac{1}{276}=\\frac{1}{414}+\\frac{1}{828}$"
      ],
      "text/plain": [
       "<IPython.core.display.Math object>"
      ]
     },
     "metadata": {},
     "output_type": "display_data"
    },
    {
     "data": {
      "text/latex": [
       "$\\displaystyle \\frac{1}{296}=\\frac{1}{444}+\\frac{1}{888}$"
      ],
      "text/plain": [
       "<IPython.core.display.Math object>"
      ]
     },
     "metadata": {},
     "output_type": "display_data"
    },
    {
     "data": {
      "text/latex": [
       "$\\displaystyle \\frac{1}{396}=\\frac{1}{444}+\\frac{1}{3663}$"
      ],
      "text/plain": [
       "<IPython.core.display.Math object>"
      ]
     },
     "metadata": {},
     "output_type": "display_data"
    },
    {
     "data": {
      "text/latex": [
       "$\\displaystyle \\frac{1}{407}=\\frac{1}{444}+\\frac{1}{4884}$"
      ],
      "text/plain": [
       "<IPython.core.display.Math object>"
      ]
     },
     "metadata": {},
     "output_type": "display_data"
    },
    {
     "data": {
      "text/latex": [
       "$\\displaystyle \\frac{1}{462}=\\frac{1}{858}+\\frac{1}{1001}$"
      ],
      "text/plain": [
       "<IPython.core.display.Math object>"
      ]
     },
     "metadata": {},
     "output_type": "display_data"
    },
    {
     "data": {
      "text/latex": [
       "$\\displaystyle \\frac{1}{504}=\\frac{1}{616}+\\frac{1}{2772}$"
      ],
      "text/plain": [
       "<IPython.core.display.Math object>"
      ]
     },
     "metadata": {},
     "output_type": "display_data"
    },
    {
     "data": {
      "text/latex": [
       "$\\displaystyle \\frac{1}{572}=\\frac{1}{616}+\\frac{1}{8008}$"
      ],
      "text/plain": [
       "<IPython.core.display.Math object>"
      ]
     },
     "metadata": {},
     "output_type": "display_data"
    },
    {
     "data": {
      "text/latex": [
       "$\\displaystyle \\frac{1}{583}=\\frac{1}{636}+\\frac{1}{6996}$"
      ],
      "text/plain": [
       "<IPython.core.display.Math object>"
      ]
     },
     "metadata": {},
     "output_type": "display_data"
    },
    {
     "data": {
      "text/latex": [
       "$\\displaystyle \\frac{1}{756}=\\frac{1}{777}+\\frac{1}{27972}$"
      ],
      "text/plain": [
       "<IPython.core.display.Math object>"
      ]
     },
     "metadata": {},
     "output_type": "display_data"
    },
    {
     "data": {
      "text/latex": [
       "$\\displaystyle \\frac{1}{814}=\\frac{1}{1221}+\\frac{1}{2442}$"
      ],
      "text/plain": [
       "<IPython.core.display.Math object>"
      ]
     },
     "metadata": {},
     "output_type": "display_data"
    },
    {
     "data": {
      "text/latex": [
       "$\\displaystyle \\frac{1}{822}=\\frac{1}{858}+\\frac{1}{19591}$"
      ],
      "text/plain": [
       "<IPython.core.display.Math object>"
      ]
     },
     "metadata": {},
     "output_type": "display_data"
    },
    {
     "data": {
      "text/latex": [
       "$\\displaystyle \\frac{1}{847}=\\frac{1}{858}+\\frac{1}{66066}$"
      ],
      "text/plain": [
       "<IPython.core.display.Math object>"
      ]
     },
     "metadata": {},
     "output_type": "display_data"
    }
   ],
   "source": [
    "# find all unit reciprocals with a denominator below 1000 \n",
    "# that has an eqyptian palindromic representation with 2 terms.\n",
    "for i in range(10,1000):\n",
    "    if not is_palindromic(i):\n",
    "        r = Rational(1,i)\n",
    "        for a,b in palindrome.egyptian_pal_pair_iterator_r(r):\n",
    "            display(Math(f\"{latex(r)}={latex(a)}+{latex(b)}\"))"
   ]
  },
  {
   "cell_type": "markdown",
   "metadata": {},
   "source": [
    "### Solutions to $\\sum_i \\frac{1}{a_i}=\\frac{p}{q}$\n",
    "We iterate over all solutions to $$\\sum_{i=1}^k \\frac{1}{a_i}=\\frac{p}{q}$$ for small values of $k$ when $a\\leq b$, $a<b$ and when $a$ and $b$ are palindromes.\n",
    "\n",
    "#### Are you smarter than a fifth-grader?\n",
    "An interesting problem to solve is \n",
    "$$1 = \\frac{1}{a}+\\frac{1}{b}+\\frac{1}{c}+\\frac{1}{d}+\\frac{1}{e}$$\n",
    "with $a,b,c,d,e$ distinct.  This problem was posed to a fifth grade class.  Our code can iterate over *all solutions* to this problem.  It's also interesting to see the solutions where $a,b,c,d,e$ are all palindromes."
   ]
  },
  {
   "cell_type": "code",
   "execution_count": 11,
   "metadata": {},
   "outputs": [
    {
     "name": "stdout",
     "output_type": "stream",
     "text": [
      "Number of solutions: 72\n"
     ]
    }
   ],
   "source": [
    "count = 0\n",
    "for sol in palindrome.egyptian_iterator(1,1,5):\n",
    "    count += 1\n",
    "print(f\"Number of solutions: {count}\")"
   ]
  },
  {
   "cell_type": "code",
   "execution_count": 12,
   "metadata": {},
   "outputs": [
    {
     "data": {
      "text/latex": [
       "$\\displaystyle 1=\\frac{1}{2}+\\frac{1}{3}+\\frac{1}{8}+\\frac{1}{33}+\\frac{1}{88}$"
      ],
      "text/plain": [
       "<IPython.core.display.Math object>"
      ]
     },
     "metadata": {},
     "output_type": "display_data"
    },
    {
     "data": {
      "text/latex": [
       "$\\displaystyle 1=\\frac{1}{2}+\\frac{1}{3}+\\frac{1}{9}+\\frac{1}{22}+\\frac{1}{99}$"
      ],
      "text/plain": [
       "<IPython.core.display.Math object>"
      ]
     },
     "metadata": {},
     "output_type": "display_data"
    },
    {
     "data": {
      "text/latex": [
       "$\\displaystyle 1=\\frac{1}{2}+\\frac{1}{3}+\\frac{1}{11}+\\frac{1}{22}+\\frac{1}{33}$"
      ],
      "text/plain": [
       "<IPython.core.display.Math object>"
      ]
     },
     "metadata": {},
     "output_type": "display_data"
    }
   ],
   "source": [
    "# palindromic solutions\n",
    "for sol in palindrome.egyptian_pal_iterator_r(Rational(1,1),5):\n",
    "    display(Math(f\"1={'+'.join([latex(p) for p in sol])}\"))"
   ]
  },
  {
   "cell_type": "code",
   "execution_count": 13,
   "metadata": {},
   "outputs": [
    {
     "data": {
      "text/latex": [
       "$\\displaystyle \\frac{1}{11}=\\frac{1}{22}+\\frac{1}{33}+\\frac{1}{66}$"
      ],
      "text/plain": [
       "<IPython.core.display.Math object>"
      ]
     },
     "metadata": {},
     "output_type": "display_data"
    },
    {
     "data": {
      "text/latex": [
       "$\\displaystyle \\frac{1}{12}=\\frac{1}{22}+\\frac{1}{44}+\\frac{1}{66}$"
      ],
      "text/plain": [
       "<IPython.core.display.Math object>"
      ]
     },
     "metadata": {},
     "output_type": "display_data"
    },
    {
     "data": {
      "text/latex": [
       "$\\displaystyle \\frac{1}{13}=\\frac{1}{22}+\\frac{1}{33}+\\frac{1}{858}$"
      ],
      "text/plain": [
       "<IPython.core.display.Math object>"
      ]
     },
     "metadata": {},
     "output_type": "display_data"
    },
    {
     "data": {
      "text/latex": [
       "$\\displaystyle \\frac{1}{18}=\\frac{1}{33}+\\frac{1}{66}+\\frac{1}{99}$"
      ],
      "text/plain": [
       "<IPython.core.display.Math object>"
      ]
     },
     "metadata": {},
     "output_type": "display_data"
    },
    {
     "data": {
      "text/latex": [
       "$\\displaystyle \\frac{1}{21}=\\frac{1}{22}+\\frac{1}{858}+\\frac{1}{1001}$"
      ],
      "text/plain": [
       "<IPython.core.display.Math object>"
      ]
     },
     "metadata": {},
     "output_type": "display_data"
    },
    {
     "data": {
      "text/latex": [
       "$\\displaystyle \\frac{1}{28}=\\frac{1}{44}+\\frac{1}{88}+\\frac{1}{616}$"
      ],
      "text/plain": [
       "<IPython.core.display.Math object>"
      ]
     },
     "metadata": {},
     "output_type": "display_data"
    },
    {
     "data": {
      "text/latex": [
       "$\\displaystyle \\frac{1}{29}=\\frac{1}{44}+\\frac{1}{88}+\\frac{1}{2552}$"
      ],
      "text/plain": [
       "<IPython.core.display.Math object>"
      ]
     },
     "metadata": {},
     "output_type": "display_data"
    },
    {
     "data": {
      "text/latex": [
       "$\\displaystyle \\frac{1}{36}=\\frac{1}{44}+\\frac{1}{202}+\\frac{1}{9999}$"
      ],
      "text/plain": [
       "<IPython.core.display.Math object>"
      ]
     },
     "metadata": {},
     "output_type": "display_data"
    },
    {
     "data": {
      "text/latex": [
       "$\\displaystyle \\frac{1}{52}=\\frac{1}{66}+\\frac{1}{252}+\\frac{1}{9009}$"
      ],
      "text/plain": [
       "<IPython.core.display.Math object>"
      ]
     },
     "metadata": {},
     "output_type": "display_data"
    },
    {
     "data": {
      "text/latex": [
       "$\\displaystyle \\frac{1}{66}=\\frac{1}{77}+\\frac{1}{858}+\\frac{1}{1001}$"
      ],
      "text/plain": [
       "<IPython.core.display.Math object>"
      ]
     },
     "metadata": {},
     "output_type": "display_data"
    },
    {
     "data": {
      "text/latex": [
       "$\\displaystyle \\frac{1}{66}=\\frac{1}{99}+\\frac{1}{202}+\\frac{1}{9999}$"
      ],
      "text/plain": [
       "<IPython.core.display.Math object>"
      ]
     },
     "metadata": {},
     "output_type": "display_data"
    },
    {
     "data": {
      "text/latex": [
       "$\\displaystyle \\frac{1}{66}=\\frac{1}{101}+\\frac{1}{202}+\\frac{1}{3333}$"
      ],
      "text/plain": [
       "<IPython.core.display.Math object>"
      ]
     },
     "metadata": {},
     "output_type": "display_data"
    },
    {
     "data": {
      "text/latex": [
       "$\\displaystyle \\frac{1}{66}=\\frac{1}{121}+\\frac{1}{242}+\\frac{1}{363}$"
      ],
      "text/plain": [
       "<IPython.core.display.Math object>"
      ]
     },
     "metadata": {},
     "output_type": "display_data"
    },
    {
     "data": {
      "text/latex": [
       "$\\displaystyle \\frac{1}{72}=\\frac{1}{88}+\\frac{1}{444}+\\frac{1}{3663}$"
      ],
      "text/plain": [
       "<IPython.core.display.Math object>"
      ]
     },
     "metadata": {},
     "output_type": "display_data"
    },
    {
     "data": {
      "text/latex": [
       "$\\displaystyle \\frac{1}{74}=\\frac{1}{99}+\\frac{1}{333}+\\frac{1}{2442}$"
      ],
      "text/plain": [
       "<IPython.core.display.Math object>"
      ]
     },
     "metadata": {},
     "output_type": "display_data"
    },
    {
     "data": {
      "text/latex": [
       "$\\displaystyle \\frac{1}{74}=\\frac{1}{111}+\\frac{1}{333}+\\frac{1}{666}$"
      ],
      "text/plain": [
       "<IPython.core.display.Math object>"
      ]
     },
     "metadata": {},
     "output_type": "display_data"
    },
    {
     "data": {
      "text/latex": [
       "$\\displaystyle \\frac{1}{88}=\\frac{1}{101}+\\frac{1}{808}+\\frac{1}{4444}$"
      ],
      "text/plain": [
       "<IPython.core.display.Math object>"
      ]
     },
     "metadata": {},
     "output_type": "display_data"
    },
    {
     "data": {
      "text/latex": [
       "$\\displaystyle \\frac{1}{99}=\\frac{1}{111}+\\frac{1}{1221}+\\frac{1}{3663}$"
      ],
      "text/plain": [
       "<IPython.core.display.Math object>"
      ]
     },
     "metadata": {},
     "output_type": "display_data"
    },
    {
     "name": "stdout",
     "output_type": "stream",
     "text": [
      "CPU times: total: 188 ms\n",
      "Wall time: 168 ms\n"
     ]
    }
   ],
   "source": [
    "%%time\n",
    "# egyptian palindromic representations of 1/n with 3 terms.\n",
    "for i in range(10,100):\n",
    "    r = Rational(1,i)\n",
    "    for sol in palindrome.egyptian_pal_iterator_r(r,3):\n",
    "        display(Math(f\"{latex(r)}={'+'.join([latex(p) for p in sol])}\"))"
   ]
  },
  {
   "cell_type": "markdown",
   "metadata": {},
   "source": [
    "# Example usage of Registries"
   ]
  },
  {
   "cell_type": "code",
   "execution_count": 14,
   "metadata": {},
   "outputs": [],
   "source": [
    "from registry import EgyptianRegistry, PalindromeRegistry\n",
    "er = EgyptianRegistry()\n",
    "pr = PalindromeRegistry()"
   ]
  },
  {
   "cell_type": "code",
   "execution_count": 15,
   "metadata": {},
   "outputs": [
    {
     "name": "stdout",
     "output_type": "stream",
     "text": [
      "1/10 = 1/22 + 3/55\n",
      "1/11 = 1/11\n",
      "1/12 = 2/33 + 1/44\n",
      "1/13 = 1/22 + 1/33 + 1/858\n",
      "1/14 = 1/22 + 2/77\n",
      "1/15 = 1/33 + 2/55\n",
      "1/16 = 1/22 + 2/121 + 1/2112 + 1/23232\n",
      "1/17 = 1/55 + 3/77 + 1/595\n",
      "1/18 = 1/22 + 1/99\n",
      "1/19 = 1/33 + 1/99 + 2/171 + 1/1881\n",
      "1/20 = 2/55 + 1/77 + 1/4004 + 2/5005\n",
      "1/21 = 1/22 + 1/858 + 1/1001\n",
      "1/22 = 1/22\n",
      "1/23 = 1/33 + 1/99 + 1/414 + 3/4554\n",
      "1/24 = 1/33 + 1/88\n",
      "1/25 = 1/33 + 1/252 + 1/404 + 1/505 + 1/909 + 1/5775\n",
      "1/26 = 1/44 + 1/66 + 1/3003 + 1/4004\n",
      "1/27 = 1/44 + 1/77 + 1/777 + 1/27972\n",
      "1/28 = 1/44 + 1/77\n",
      "1/29 = 1/44 + 1/88 + 1/2552\n",
      "1/30 = 1/55 + 1/66\n",
      "1/31 = 1/66 + 1/77 + 1/252 + 1/6776 + 1/270072\n",
      "1/32 = 1/33 + 2/2112\n",
      "1/33 = 1/33\n",
      "1/34 = 1/44 + 1/242 + 1/484 + 2/4114\n",
      "1/35 = 1/44 + 1/252 + 1/585 + 1/6006\n",
      "1/36 = 1/44 + 1/202 + 1/9999\n",
      "1/37 = 3/111\n",
      "1/38 = 1/66 + 1/99 + 2/1881\n",
      "1/39 = 1/44 + 1/616 + 1/858 + 1/8008\n",
      "1/40 = 1/44 + 1/505 + 1/5555 + 1/8888\n",
      "1/41 = 1/77 + 1/99 + 1/777 + 1/81918 + 1/333333 + 1/81999918\n",
      "1/42 = 1/44 + 1/2002 + 1/3003 + 1/4004\n",
      "1/43 = 1/44 + 1/2002 + 1/60006 + 1/80808 + 1/2100330012 + 1/4200660024\n",
      "1/44 = 1/44\n",
      "1/45 = 1/55 + 1/585 + 2/858\n",
      "1/46 = 1/77 + 1/161 + 1/828 + 1/858 + 1/6006 + 1/828828\n",
      "1/47 = 3/141\n",
      "1/48 = 2/99 + 1/2112 + 1/6336\n",
      "1/49 = 1/66 + 1/252 + 1/777 + 1/999999 + 1/2545452\n",
      "1/50 = 1/55 + 1/909 + 1/1551 + 1/14241 + 1/529925 + 1/819918\n",
      "1/51 = 1/99 + 1/171 + 1/323 + 2/3553\n",
      "1/52 = 1/66 + 1/252 + 1/9009\n",
      "1/53 = 4/212\n",
      "1/54 = 2/111 + 1/2002 + 1/999999\n",
      "1/55 = 1/55\n",
      "1/56 = 1/88 + 1/252 + 1/444 + 1/3663\n",
      "1/57 = 3/171\n",
      "1/58 = 4/232\n",
      "1/59 = 1/66 + 1/585 + 1/20202 + 1/50505 + 1/55755 + 1/999999\n",
      "1/60 = 1/111 + 1/444 + 3/555\n",
      "1/61 = 1/101 + 1/171 + 1/1881 + 1/8888 + 1/4214124 + 1/8428248\n",
      "1/62 = 1/66 + 1/2002 + 1/3003 + 1/7007 + 1/434434\n",
      "1/63 = 1/66 + 2/2772\n",
      "1/64 = 1/66 + 1/2112\n",
      "1/65 = 1/66 + 1/5005 + 1/55055 + 1/66066\n",
      "1/66 = 1/66\n",
      "1/67 = 1/77 + 1/616 + 1/6776 + 1/7007 + 1/77077 + 1/85358\n",
      "1/68 = 4/272\n",
      "1/69 = 1/77 + 1/1771 + 2/2772 + 1/4554\n",
      "1/70 = 1/99 + 1/252 + 1/5445 + 1/44044 + 1/99099\n",
      "1/71 = 1/101 + 1/505 + 2/1111 + 2/5335 + 2/75757 + 1/538835\n",
      "1/72 = 1/88 + 1/444 + 1/3663\n",
      "1/73 = 4/292\n",
      "1/74 = 1/111 + 1/222\n",
      "1/75 = 1/77 + 2/5775\n",
      "1/76 = 1/99 + 1/444 + 1/1881 + 1/3663\n",
      "1/77 = 1/77\n",
      "1/78 = 1/88 + 1/696 + 1/63336 + 1/232232\n",
      "1/79 = 1/88 + 1/858 + 1/8008 + 2/474474\n",
      "1/80 = 1/202 + 1/232 + 1/505 + 1/808 + 1/46864\n",
      "1/81 = 1/111 + 1/333 + 1/3003 + 1/2002002 + 1/6006006 + 1/3006006003 + 1/4008008004 + 1/20222222202 + 1/27999999972\n",
      "1/82 = 1/99 + 1/606 + 1/2552 + 1/23432 + 1/117711 + 1/1080801\n",
      "1/83 = 9/747\n",
      "1/84 = 3/252\n",
      "1/85 = 1/88 + 1/4114 + 1/8008 + 1/54145 + 1/77077 + 1/595595\n",
      "1/86 = 1/88 + 1/4664 + 1/23532 + 2/401104 + 1/420024\n",
      "1/87 = 1/88 + 1/8008 + 1/232232 + 1/696696\n",
      "1/88 = 1/88\n",
      "1/89 = 1/99 + 1/909 + 1/33033 + 1/378873 + 1/979979 + 1/1112111 + 1/316565613\n",
      "1/90 = 1/222 + 1/333 + 2/555\n",
      "1/91 = 1/99 + 2/2772 + 1/6006\n",
      "1/92 = 4/414 + 1/828\n",
      "1/93 = 1/101 + 1/1331 + 1/9999 + 1/2970792 + 1/27277272\n",
      "1/94 = 1/141 + 1/282\n",
      "1/95 = 1/99 + 1/4884 + 1/8778 + 1/18981 + 1/27972 + 1/54945\n",
      "1/96 = 1/99 + 2/6336\n",
      "1/97 = 1/111 + 1/777 + 1/111111 + 1/241142 + 3/26766762 + 2/221434122\n",
      "1/98 = 1/99 + 1/9999 + 1/606606 + 1/707707\n",
      "1/99 = 1/99\n"
     ]
    }
   ],
   "source": [
    "for i in range(10,100):\n",
    "    print(pr.display(i))"
   ]
  },
  {
   "cell_type": "code",
   "execution_count": 16,
   "metadata": {},
   "outputs": [
    {
     "name": "stdout",
     "output_type": "stream",
     "text": [
      "Hardest cases for i between 100 and 1000\n",
      "1/243 = 1/333 + 1/949 + 1/19491 + 7/1001001 + 1/9009009 + 2/33033033 + 2/333333333 + 2/757757757 + 1/949949949 + 2/979979979 + 2/3666666663 + 1/3000000003000000003 + 1/9000000009000000009 + 2/99000000099000000099 + 1/111000000111000000111 + 1/3663000003663000003663 + 1/72927000072927000072927 + 9/1001001001001001001001001 + 1/3003003003003003003003003 + 1/33033033033033033033033033 + 1/99099099099099099099099099 + 1/111111111111111111111111111 + 1/949949949949949949949949949 + 3/979979979979979979979979979 + 2/999999999999999999999999999 + 6/72999999999999999999999999927 + 11/929070999999999999999999999070929 [65]\n",
      "1/461 = 62/28582 [62]\n",
      "1/486 = 1/666 + 1/2442 + 1/7117 + 4/789987 + 1/1001001 + 1/33033033 + 3/412373214 + 1/757757757 + 1/1222222221 + 40/71888888817 + 4/412785999587214 + 40/1000000001000000001 + 1/2000000002000000002 + 1/33000000033000000033 + 1/222000000222000000222 + 1/999000000999000000999 + 1/7117000007117000007117 + 7/71817000071817000071817 + 8/789987000789987000789987 + 1/2002002002002002002002002 + 1/33033033033033033033033033 + 1/333333333333333333333333333 + 1/412373214412373214412373214 + 1/999999999999999999999999999 + 2/3666666666666666666666666663 + 8/71888888888888888888888888817 + 16/412785999999999999999999999587214 [149]\n",
      "1/577 = 1/777 + 3/10101 + 5/34043 + 8/3778773 + 38/343868343 [55]\n",
      "1/625 = 1/1001 + 3/5005 + 8/5260625 + 4/57866875 + 45/5265885625 [61]\n",
      "1/634 = 11/10001 + 23/48184 + 29/481888184 [63]\n",
      "1/673 = 92/61916 [92]\n",
      "1/729 = 2/1881 + 1/9009 + 4/31713 + 3/171171 + 51/954459 + 62/162171261 + 8/1783883871 + 4/782176757671287 + 22/71178084948087117 [157]\n",
      "1/823 = 24/20302 + 2/60906 + 64/802010208 [90]\n",
      "1/877 = 1/1001 + 1/7777 + 1/101101 + 3/1112111 + 27/351141153 + 18/3227338337223 [51]\n",
      "1/887 = 10/10001 + 4/50005 + 1/110011 + 16/536635 + 2/550055 + 6/1210121 + 22/5366886635 [61]\n",
      "1/907 = 1/1111 + 1/8888 + 1/16261 + 5/178871 + 12/25700752 + 46/2595775952 [66]\n",
      "1/972 = 1/999 + 2/81918 + 3/1001001 + 1/3003003 + 6/111111111 + 1/262262262 + 1/666666666 + 1/757757757 + 1/14555555541 + 1/18999999981 + 14/81999999918 + 29/408195999591804 + 69/1000000001000000001 + 4/111000000111000000111 + 1/393000000393000000393 + 5/14541000014541000014541 + 1/81918000081918000081918 + 1/3003003003003003003003003 + 7/131131131131131131131131131 + 1/999999999999999999999999999 + 1/18999999999999999999999999981 + 5/81999999999999999999999999918 [156]\n",
      "1/983 = 1/1001 + 38/2127212 + 10/23399332 + 4/2129339212 [53]\n",
      "1/985 = 1/1111 + 1/9999 + 80/5310135 + 3/58411485 + 6/536323635 + 2/5899559985 [93]\n"
     ]
    }
   ],
   "source": [
    "print(\"Hardest cases for i between 100 and 1000\")\n",
    "for i in range(100,1000):\n",
    "    if pr.score[i] > 50:\n",
    "        print(pr.display(i, score=True))"
   ]
  },
  {
   "cell_type": "code",
   "execution_count": 17,
   "metadata": {},
   "outputs": [
    {
     "name": "stdout",
     "output_type": "stream",
     "text": [
      "1/71 = 1/77 + 1/2002 + 1/3003 + 1/4004 + 1/67876 + 1/3333333 + 1/6176716 + 1/24444442 + 1/202222202 + 1/404444404 [10]\n",
      "1/81 = 1/88 + 1/1551 + 1/3663 + 1/15651 + 1/6006006 + 1/8008008 + 1/11011011 + 1/99099099 + 1/141141141 + 1/333333333 + 1/999999999 [11]\n",
      "1/83 = 1/88 + 1/3003 + 1/6776 + 1/9009 + 1/21912 + 1/39093 + 1/48984 + 1/747747 + 1/143484341 [9]\n",
      "1/97 = 1/101 + 1/4884 + 1/6666 + 1/22422 + 1/241142 + 1/246642 + 1/2214122 + 1/4428244 + 1/24355342 + 1/245767542 [10]\n"
     ]
    }
   ],
   "source": [
    "# Hardest Egyptian representations under 100\n",
    "for i in range(10,100):\n",
    "    r = Rational(1,i)\n",
    "    if er.score[r] > 8:\n",
    "        print(er.display(r, score=True))"
   ]
  },
  {
   "cell_type": "code",
   "execution_count": 18,
   "metadata": {},
   "outputs": [
    {
     "name": "stdout",
     "output_type": "stream",
     "text": [
      "1/597 = 1/1221 + 1/1331 + 1/11011 + 1/111111 + 1/363363 + 1/1222221 + 1/1233321 + 1/3033303 + 1/11122111 + 1/14788741 + 1/33366333 + 1/112232211 + 1/1234554321 + 1/112100001211 + 1/1121010101211 + 1/10201100110201 + 1/12443100134421 + 1/30603300330603 + 1/1132322112232311 [19]\n",
      "1/639 = 1/909 + 1/3333 + 1/9999 + 1/17271 + 1/156651 + 1/3000003 + 1/11000011 + 1/22000022 + 1/66000066 + 1/99000099 + 1/110131011 + 1/171000171 + 1/1881001881 + 1/2422882242 + 1/8954444598 + 1/11123232111 + 1/22246464222 + 1/1211442332441121 + 1/2422884664882242 [19]\n",
      "1/647 = 1/1001 + 1/3003 + 1/10101 + 1/11211 + 1/71817 + 1/111111 + 1/789987 + 1/1020201 + 1/11000011 + 1/11222211 + 1/33000033 + 1/77000077 + 1/777000777 + 1/3003003003 + 1/7117007117 + 1/10101010101 + 1/71817071817 + 1/789987789987 + 1/71888888888817 [19]\n",
      "1/875 = 1/3003 + 1/5005 + 1/5445 + 1/5775 + 1/9009 + 1/11011 + 1/55055 + 1/57375 + 1/100001 + 1/300003 + 1/900009 + 1/1100011 + 1/3300033 + 1/7700077 + 1/52500525 + 1/59500595 + 1/300303003 + 1/500505005 + 1/577505775 + 1/900909009 + 1/5737557375 [21]\n",
      "1/958 = 1/2002 + 1/4114 + 1/8228 + 1/11011 + 1/31213 + 1/33033 + 1/87178 + 1/93639 + 1/686686 + 1/858858 + 1/2004002 + 1/2334332 + 1/3006003 + 1/3776773 + 1/4008004 + 1/18699681 + 1/212424212 + 1/23116022061132 + 1/254276242672452 [19]\n"
     ]
    }
   ],
   "source": [
    "# Hardest Egyptian representations between 100 and 1000\n",
    "for i in range(100,1000):\n",
    "    r = Rational(1,i)\n",
    "    if r in er.score and (er.score[r] > 18):\n",
    "        print(er.display(r, score=True))"
   ]
  },
  {
   "cell_type": "code",
   "execution_count": 19,
   "metadata": {},
   "outputs": [
    {
     "name": "stdout",
     "output_type": "stream",
     "text": [
      "[243, 347, 379, 389, 401, 419, 421, 433, 449, 461, 466, 486, 491, 547, 571, 577, 587, 593, 607, 613, 617, 622, 625, 631, 634, 641, 643, 653, 661, 662, 673, 674, 677, 691, 698, 701, 719, 723, 729, 733, 734, 743, 751, 753, 758, 761, 766, 769, 773, 778, 794, 809, 811, 821, 823, 827, 839, 841, 842, 853, 857, 859, 862, 866, 877, 887, 907, 911, 922, 937, 953, 971, 972, 977, 982, 983, 985, 997]\n"
     ]
    }
   ],
   "source": [
    "# Actual cases we haven't solved yet.\n",
    "missing = []\n",
    "for i in range(100,1000):\n",
    "    r = Rational(1,i)\n",
    "    if r not in er.score:\n",
    "        missing.append(i)\n",
    "print(missing)"
   ]
  },
  {
   "cell_type": "code",
   "execution_count": 20,
   "metadata": {},
   "outputs": [
    {
     "name": "stdout",
     "output_type": "stream",
     "text": [
      "3/5 = 1/2 + 1/11 + 1/121 + 1/2662 + 1/3993 + 1/5445 + 1/59895 [7]\n",
      "4/5 = 1/2 + 1/6 + 1/9 + 1/66 + 1/242 + 1/363 + 1/5445 [7]\n",
      "8/5 = 1 + 1/2 + 1/11 + 1/121 + 1/2662 + 1/3993 + 1/5445 + 1/59895 [8]\n",
      "9/5 = 1 + 1/2 + 1/6 + 1/9 + 1/66 + 1/242 + 1/363 + 1/5445 [8]\n"
     ]
    }
   ],
   "source": [
    "for r in palindrome.farey_sequence(10):\n",
    "    if r not in er.score:\n",
    "        print(f\"{r} not in registry\")\n",
    "    if r in er.score and (er.score[r] > 6):\n",
    "        print(er.display(r,score=True))"
   ]
  },
  {
   "cell_type": "code",
   "execution_count": 21,
   "metadata": {},
   "outputs": [
    {
     "name": "stdout",
     "output_type": "stream",
     "text": [
      "16/89 = 1/9 + 1/33 + 1/55 + 1/101 + 1/363 + 1/555 + 1/777 + 1/979 + 1/1001 + 1/1111 + 1/1221 + 1/1661 + 1/16761 + 1/33033 + 1/543345 + 1/979979 + 1/5976795 + 1/10200201 + 1/30600603 + 1/93600639 + 1/112202211 + 1/336606633 + 1/1132222311 + 1/3090660903 + 1/11332423311 + 1/12454445421 + 1/114354453411 + 1/1257898987521 [28]\n",
      "19/97 = 1/9 + 1/33 + 1/55 + 1/66 + 1/101 + 1/222 + 1/303 + 1/505 + 1/1221 + 1/5335 + 1/5555 + 1/9999 + 1/10001 + 1/49494 + 1/60006 + 1/110011 + 1/220022 + 1/482284 + 1/538835 + 1/729927 + 1/3030303 + 1/9090909 + 1/26766762 + 1/48844884 + 1/53355335 + 1/99999999 + 1/2411661142 + 1/5388888835 + 1/24335853342 [29]\n",
      "19/71 = 1/7 + 1/11 + 1/77 + 1/121 + 1/171 + 1/363 + 1/616 + 1/939 + 1/1001 + 1/8778 + 1/22022 + 1/33033 + 1/34743 + 1/37873 + 1/44044 + 1/63536 + 1/88088 + 1/698896 + 1/1222221 + 1/1882881 + 1/3161613 + 1/18822881 + 1/34777743 + 1/40599504 + 1/63599536 + 1/189939981 [26]\n",
      "24/71 = 1/6 + 1/7 + 1/77 + 1/101 + 1/313 + 1/1001 + 1/1111 + 1/4774 + 1/7007 + 1/8778 + 1/37873 + 1/77077 + 1/83638 + 1/347743 + 1/1000001 + 1/1711171 + 1/3446443 + 1/11000011 + 1/18822881 + 1/31644613 + 1/77000077 + 1/3443003443 + 1/11011011011 + 1/34123232143 + 1/37873037873 + 1/77077077077 + 1/1711172711171 + 1/18822899822881 + 1/1712883883882171 [29]\n",
      "34/71 = 1/3 + 1/11 + 1/33 + 1/99 + 1/222 + 1/313 + 1/626 + 1/777 + 1/1001 + 1/1221 + 1/1551 + 1/1771 + 1/3663 + 1/6886 + 1/10101 + 1/18981 + 1/68586 + 1/90909 + 1/111111 + 1/141141 + 1/313313 + 1/1424241 + 1/18999981 + 1/110131011 + 1/189939981 + 1/330393033 + 1/1211441121 + 1/1112433342111 [28]\n",
      "35/71 = 1/6 + 1/8 + 1/9 + 1/22 + 1/66 + 1/77 + 1/141 + 1/292 + 1/494 + 1/858 + 1/1001 + 1/1881 + 1/2002 + 1/2112 + 1/6006 + 1/7007 + 1/66066 + 1/82928 + 1/84348 + 1/121121 + 1/141141 + 1/171171 + 1/297792 + 1/616616 + 1/880088 + 1/990099 + 1/27422472 + 1/63366336 + 1/1211441121 + 1/27449894472 + 1/232596695232 [31]\n",
      "41/71 = 1/3 + 1/8 + 1/11 + 1/77 + 1/99 + 1/494 + 1/777 + 1/1551 + 1/2002 + 1/3663 + 1/6006 + 1/7007 + 1/18981 + 1/66066 + 1/90909 + 1/121121 + 1/141141 + 1/616616 + 1/1424241 + 1/18999981 + 1/27422472 + 1/110131011 + 1/330393033 + 1/1211441121 + 1/27449894472 + 1/1112433342111 [26]\n",
      "44/71 = 1/6 + 1/7 + 1/8 + 1/11 + 1/22 + 1/44 + 1/66 + 1/141 + 1/858 + 1/1001 + 1/1881 + 1/2222 + 1/4444 + 1/4774 + 1/8008 + 1/8778 + 1/83638 + 1/84348 + 1/141141 + 1/171171 + 1/297792 + 1/4842484 + 1/9386839 + 1/1211441121 + 1/2423663242 + 1/232596695232 [26]\n",
      "49/71 = 1/2 + 1/8 + 1/33 + 1/44 + 1/222 + 1/313 + 1/626 + 1/1001 + 1/1221 + 1/1771 + 1/6886 + 1/10101 + 1/20002 + 1/29592 + 1/40004 + 1/68586 + 1/80008 + 1/82928 + 1/84348 + 1/90009 + 1/111111 + 1/313313 + 1/330033 + 1/1539351 + 1/21122112 + 1/63366336 + 1/189939981 [27]\n",
      "67/89 = 1/2 + 1/8 + 1/11 + 1/99 + 1/111 + 1/121 + 1/151 + 1/979 + 1/1661 + 1/1771 + 1/2112 + 1/6336 + 1/23232 + 1/33033 + 1/151151 + 1/657756 + 1/1222221 + 1/1525251 + 1/3666663 + 1/10200201 + 1/16777761 + 1/20400402 + 1/40800804 + 1/336606633 + 1/448808844 + 1/12454445421 + 1/21542824512 [27]\n",
      "60/71 = 1/2 + 1/6 + 1/8 + 1/44 + 1/77 + 1/171 + 1/323 + 1/434 + 1/494 + 1/646 + 1/858 + 1/969 + 1/2002 + 1/20002 + 1/29592 + 1/40004 + 1/80008 + 1/82928 + 1/83638 + 1/84348 + 1/90009 + 1/330033 + 1/1539351 + 1/8755578 + 1/21122112 + 1/63366336 [26]\n",
      "62/71 = 1/3 + 1/4 + 1/7 + 1/11 + 1/77 + 1/88 + 1/99 + 1/111 + 1/292 + 1/313 + 1/363 + 1/777 + 1/1221 + 1/3003 + 1/3443 + 1/7227 + 1/10001 + 1/11011 + 1/20002 + 1/29592 + 1/30003 + 1/33033 + 1/34743 + 1/37873 + 1/60006 + 1/84348 + 1/90009 + 1/330033 + 1/1539351 + 1/3161613 + 1/189939981 [31]\n",
      "65/71 = 1/2 + 1/4 + 1/11 + 1/33 + 1/44 + 1/99 + 1/333 + 1/363 + 1/777 + 1/888 + 1/999 + 1/1001 + 1/2112 + 1/3003 + 1/3663 + 1/7007 + 1/37873 + 1/63936 + 1/84348 + 1/313313 + 1/939939 + 1/1711171 + 1/3161613 + 1/3446443 + 1/18822881 + 1/1712882171 [26]\n",
      "100/83 = 1/2 + 1/3 + 1/6 + 1/8 + 1/33 + 1/44 + 1/88 + 1/121 + 1/292 + 1/747 + 1/858 + 1/3003 + 1/4004 + 1/6006 + 1/6776 + 1/9009 + 1/10001 + 1/21912 + 1/39093 + 1/48984 + 1/60006 + 1/88088 + 1/330033 + 1/747747 + 1/7470747 + 1/21933912 + 1/143484341 + 1/219141912 [28]\n",
      "100/79 = 1/2 + 1/3 + 1/8 + 1/9 + 1/11 + 1/22 + 1/44 + 1/66 + 1/77 + 1/242 + 1/474 + 1/484 + 1/2992 + 1/4114 + 1/8228 + 1/9559 + 1/66066 + 1/100001 + 1/200002 + 1/300003 + 1/600006 + 1/700007 + 1/2200022 + 1/3300033 + 1/23400432 + 1/47400474 + 1/85800858 + 1/200202002 + 1/600606006 + 1/4313443134 [30]\n",
      "95/71 = 1 + 1/6 + 1/7 + 1/77 + 1/101 + 1/313 + 1/1001 + 1/1111 + 1/4774 + 1/7007 + 1/8778 + 1/37873 + 1/77077 + 1/83638 + 1/347743 + 1/1000001 + 1/1711171 + 1/3446443 + 1/11000011 + 1/18822881 + 1/31644613 + 1/77000077 + 1/3443003443 + 1/11011011011 + 1/34123232143 + 1/37873037873 + 1/77077077077 + 1/1711172711171 + 1/18822899822881 + 1/1712883883882171 [30]\n"
     ]
    }
   ],
   "source": [
    "for r in palindrome.farey_sequence(100):\n",
    "    if r not in er.score:\n",
    "        print(f\"{r} not in registry\")\n",
    "    if r in er.score and (er.score[r] > 25):\n",
    "        print(er.display(r,score=True))"
   ]
  },
  {
   "cell_type": "markdown",
   "metadata": {},
   "source": [
    "# Solvers"
   ]
  },
  {
   "cell_type": "code",
   "execution_count": 22,
   "metadata": {},
   "outputs": [
    {
     "name": "stdout",
     "output_type": "stream",
     "text": [
      "Best score = 6\n",
      "score=6, active weights=[0, 1, 0, 0, 1, 1, 0, 0, 1, 1, 0, 0, 0, 0, 1, 0]\n"
     ]
    }
   ],
   "source": [
    "import sympy\n",
    "from sympy import latex, Rational\n",
    "import solver\n",
    "\n",
    "x = [66, 77, 99, 252, 585, 858, 1001, 2002, 2772, 3003, 4004, 5005, 6006, 7007, 9009, 252252]\n",
    "target = sympy.lcm(x)//60\n",
    "weight = [sympy.lcm(x) // i for i in x]\n",
    "# recursive knapsack solver:\n",
    "score_1, a_1, error_code_1 = solver.exact_knapsack(weight, capacity=target)\n",
    "# or use the stack_based knapsack solver\n",
    "score_2, a_2, error_code_2 = solver.egyptian_stack_search(weight, capacity=target)\n",
    "assert(error_code_1==0 and error_code_2==0 and score_1==score_2 and a_1==a_2)\n",
    "print(f\"score={score_1}, active weights={a_1}\")\n",
    "a = a_1\n"
   ]
  },
  {
   "cell_type": "code",
   "execution_count": 23,
   "metadata": {},
   "outputs": [
    {
     "data": {
      "text/latex": [
       "$\\displaystyle \\frac{1}{60}=\\frac{1}{77}+\\frac{1}{585}+\\frac{1}{858}+\\frac{1}{2772}+\\frac{1}{3003}+\\frac{1}{9009}$"
      ],
      "text/plain": [
       "<IPython.core.display.Math object>"
      ]
     },
     "metadata": {},
     "output_type": "display_data"
    }
   ],
   "source": [
    "from IPython.display import display, Math\n",
    "active_denominators = [x[i] for i in range(len(a)) if a[i] > 0]\n",
    "target_frac = sum([Rational(1,i) for i in active_denominators])\n",
    "display(Math(f\"{latex(target_frac)}={'+'.join([latex(Rational(1,i)) for i in active_denominators])}\"))"
   ]
  },
  {
   "cell_type": "code",
   "execution_count": 24,
   "metadata": {},
   "outputs": [
    {
     "name": "stdout",
     "output_type": "stream",
     "text": [
      "WARNING: The stack search may get stuck or be extremely slow if weights[-1]!=1.\n",
      "Hit : [1, 0, 0, 0, 0, 0, 0, 1, 1, 0, 0, 3, 0, 0, 0, 14], score=20, its=32\n",
      "Hit : [1, 0, 0, 0, 0, 0, 0, 1, 0, 0, 1, 3, 1, 0, 0, 0], score=7, its=59\n",
      "Hit : [0, 1, 0, 0, 1, 1, 0, 0, 1, 1, 0, 0, 0, 0, 1, 0], score=6, its=168\n"
     ]
    },
    {
     "data": {
      "text/plain": [
       "(6, [0, 1, 0, 0, 1, 1, 0, 0, 1, 1, 0, 0, 0, 0, 1, 0], 0)"
      ]
     },
     "execution_count": 24,
     "metadata": {},
     "output_type": "execute_result"
    }
   ],
   "source": [
    "score_3, a_3, error_code_3 = solver.reciprocal_pal_stack_search(weight, capacity=target)\n",
    "score_3, a_3, error_code_3"
   ]
  },
  {
   "cell_type": "markdown",
   "metadata": {},
   "source": [
    "###  Example with repeated palindromes\n",
    "\n",
    "The following cell shows how to generate a reciprocal palindromic representation with repetitions of palindromes.  The example case 243 is one which we do not (yet) have an egyptian palindromic representation for.  Moreover, we demonstrate how to set up the problem from a seed_value using the function `weights_from_number`.  It was rather simple before, but is more complicated in the case of general fractions."
   ]
  },
  {
   "cell_type": "code",
   "execution_count": 25,
   "metadata": {},
   "outputs": [
    {
     "data": {
      "text/latex": [
       "$\\displaystyle \\frac{1}{243}=\\frac{2}{747}+\\frac{1}{3003}+\\frac{1}{7007}+\\frac{5}{7227}+\\frac{2}{9009}+\\frac{3}{72127}+\\frac{25}{3859583}+\\frac{2}{9325239}+\\frac{37}{1889763679881}+\\frac{1}{19107610541019} [\\mathbf{87}]$"
      ],
      "text/plain": [
       "<IPython.core.display.Math object>"
      ]
     },
     "metadata": {},
     "output_type": "display_data"
    }
   ],
   "source": [
    "n = 243\n",
    "seed_value = 171_968_494_869_171\n",
    "# We have a helper function to set up the knapsack problem for a general fraction\n",
    "# - in this case 1/n with n=243.\n",
    "p_wrapper = solver.weights_from_number(seed_value, 1, n)\n",
    "score, a, error_code = solver.reciprocal_pal_stack_search(weight=p_wrapper.weight, capacity=p_wrapper.capacity, \n",
    "                                                          max_score=2_000, verbose=False)\n",
    "if error_code==0:\n",
    "    numerators = [x for x in a if x>0]\n",
    "    denominators = [p_wrapper.div_list[i] for i in range(len(a)) if a[i]>0]\n",
    "    target_fraction = Rational(1,n)\n",
    "    pal_fractions = [Rational(p,q) for p,q in zip(numerators, denominators)]\n",
    "    display(Math(f\"{latex(target_fraction)}={'+'.join([latex(r) for r in pal_fractions])} [\\\\mathbf{{{score}}}]\"))"
   ]
  },
  {
   "cell_type": "markdown",
   "metadata": {},
   "source": [
    "### Example of searching for a solution\n",
    "\n",
    "In the cells below we find the best solution for 1/10 and 1/16.  Notice that the method to find a set of candidate palindromic denominators\n",
    "is completely different from numbers divisibly by 10 since palindromes cannot end in 0."
   ]
  },
  {
   "cell_type": "code",
   "execution_count": 26,
   "metadata": {},
   "outputs": [
    {
     "data": {
      "text/latex": [
       "$\\displaystyle \\frac{1}{16}=\\frac{1}{33}+\\frac{1}{44}+\\frac{1}{242}+\\frac{1}{363}+\\frac{1}{484}+\\frac{1}{2112}+\\frac{1}{23232} [\\mathbf{7}]$"
      ],
      "text/plain": [
       "<IPython.core.display.Math object>"
      ]
     },
     "metadata": {},
     "output_type": "display_data"
    },
    {
     "data": {
      "text/latex": [
       "$\\displaystyle \\frac{1}{16}=\\frac{1}{22}+\\frac{1}{99}+\\frac{1}{242}+\\frac{1}{363}+\\frac{1}{23232}+\\frac{1}{69696} [\\mathbf{6}]$"
      ],
      "text/plain": [
       "<IPython.core.display.Math object>"
      ]
     },
     "metadata": {},
     "output_type": "display_data"
    }
   ],
   "source": [
    "n = 16\n",
    "best_score = 20\n",
    "for p_wrapper in solver.palindrome_seed_iterator(1, n, start_search=n, end_search=10**8):\n",
    "    score, a, error_code = solver.exact_knapsack(weight=p_wrapper.weight, capacity=p_wrapper.capacity, max_score=best_score, verbose=False)\n",
    "    if error_code==0 and score<best_score:\n",
    "        denominators = [p_wrapper.div_list[i] for i in range(len(a)) if a[i] > 0]\n",
    "        target_frac = sum([Rational(1,i) for i in denominators])\n",
    "        display(Math(f\"{latex(target_frac)}={'+'.join([latex(Rational(1,i)) for i in denominators])} [\\\\mathbf{{{score}}}]\"))\n",
    "        best_score = score\n",
    "        "
   ]
  },
  {
   "cell_type": "code",
   "execution_count": 27,
   "metadata": {},
   "outputs": [
    {
     "name": "stdout",
     "output_type": "stream",
     "text": [
      "Using num_pals2=15, num_pals5=6.\n",
      "pal2_list: start=484, end=4114\n",
      "pal5_list: start=5005, end=54945\n"
     ]
    },
    {
     "data": {
      "text/latex": [
       "$\\displaystyle \\frac{1}{10}=\\frac{1}{22}+\\frac{1}{44}+\\frac{1}{55}+\\frac{1}{121}+\\frac{1}{242}+\\frac{1}{1001}+\\frac{1}{5005}+\\frac{1}{44044}+\\frac{1}{55055} [\\mathbf{9}]$"
      ],
      "text/plain": [
       "<IPython.core.display.Math object>"
      ]
     },
     "metadata": {},
     "output_type": "display_data"
    },
    {
     "data": {
      "text/latex": [
       "$\\displaystyle \\frac{1}{10}=\\frac{1}{11}+\\frac{1}{111}+\\frac{1}{26862}+\\frac{1}{50505}+\\frac{1}{55055}+\\frac{1}{222222}+\\frac{1}{555555}+\\frac{1}{2444442} [\\mathbf{8}]$"
      ],
      "text/plain": [
       "<IPython.core.display.Math object>"
      ]
     },
     "metadata": {},
     "output_type": "display_data"
    },
    {
     "data": {
      "text/latex": [
       "$\\displaystyle \\frac{1}{10}=\\frac{1}{11}+\\frac{1}{242}+\\frac{1}{363}+\\frac{1}{585}+\\frac{1}{5005}+\\frac{1}{5445}+\\frac{1}{9009} [\\mathbf{7}]$"
      ],
      "text/plain": [
       "<IPython.core.display.Math object>"
      ]
     },
     "metadata": {},
     "output_type": "display_data"
    },
    {
     "data": {
      "text/latex": [
       "$\\displaystyle \\frac{1}{10}=\\frac{1}{11}+\\frac{1}{121}+\\frac{1}{2662}+\\frac{1}{3993}+\\frac{1}{5445}+\\frac{1}{59895} [\\mathbf{6}]$"
      ],
      "text/plain": [
       "<IPython.core.display.Math object>"
      ]
     },
     "metadata": {},
     "output_type": "display_data"
    }
   ],
   "source": [
    "# even though the method to find denominators is different for multiples of 10, the code remains the same.\n",
    "# The palindrome_seed_iterator hides the complications under the hood.\n",
    "n = 10\n",
    "best_score = 20\n",
    "for p_wrapper in solver.palindrome_seed_iterator(1, n, start_search=n, end_search=10**6):\n",
    "    score, a, error_code = solver.exact_knapsack(weight=p_wrapper.weight, capacity=p_wrapper.capacity, max_score=best_score, verbose=False)\n",
    "    if error_code==0 and score<best_score:\n",
    "        denominators = [p_wrapper.div_list[i] for i in range(len(a)) if a[i] > 0]\n",
    "        target_frac = sum([Rational(1,i) for i in denominators])\n",
    "        display(Math(f\"{latex(target_frac)}={'+'.join([latex(Rational(1,i)) for i in denominators])} [\\\\mathbf{{{score}}}]\"))\n",
    "        best_score = score"
   ]
  },
  {
   "cell_type": "markdown",
   "metadata": {},
   "source": [
    "#### Representations for general fraction.\n",
    "\n",
    "The same code should also work for general fractions like $p/q$, even when $p>q$.  We just have to make sure to parse the results correctly."
   ]
  },
  {
   "cell_type": "code",
   "execution_count": 28,
   "metadata": {},
   "outputs": [
    {
     "data": {
      "text/latex": [
       "$\\displaystyle \\frac{2025}{13}=151+4 + \\frac{1}{2}+\\frac{1}{7}+\\frac{1}{8}+\\frac{1}{1001}+\\frac{1}{4004}+\\frac{1}{8008} [\\mathbf{8}]$"
      ],
      "text/plain": [
       "<IPython.core.display.Math object>"
      ]
     },
     "metadata": {},
     "output_type": "display_data"
    },
    {
     "data": {
      "text/latex": [
       "$\\displaystyle \\frac{2025}{13}=151+4 + \\frac{1}{2}+\\frac{1}{7}+\\frac{1}{9}+\\frac{1}{66}+\\frac{1}{9009} [\\mathbf{7}]$"
      ],
      "text/plain": [
       "<IPython.core.display.Math object>"
      ]
     },
     "metadata": {},
     "output_type": "display_data"
    }
   ],
   "source": [
    "r = Rational(2025, 13)\n",
    "best_score = 100\n",
    "for p_wrapper in solver.palindrome_seed_iterator_r(r, start_search=r.q, end_search=10**8):\n",
    "    score, a, error_code = solver.exact_knapsack(weight=p_wrapper.weight, capacity=p_wrapper.capacity, max_score=best_score, verbose=False)\n",
    "    if error_code==0 and score<best_score:\n",
    "        n_pal = len(p_wrapper.palindrome_tuple)\n",
    "        palindromes = [p_wrapper.palindrome_tuple[i] for i in range(n_pal) if a[i]>0]\n",
    "        denominators = [p_wrapper.div_list[i] for i in range(len(a)-n_pal) if a[i+n_pal] > 0]\n",
    "        target_frac = sum([Rational(1,i) for i in denominators])+sum(palindromes)\n",
    "        display(Math(f\"{latex(target_frac)}={'+'.join([str(x) for x in p_wrapper.palindrome_tuple])} + {'+'.join([latex(Rational(1,i)) for i in denominators])} [\\\\mathbf{{{score}}}]\"))\n",
    "        best_score = score"
   ]
  },
  {
   "cell_type": "markdown",
   "metadata": {},
   "source": [
    "#### Claiming discovery\n",
    "\n",
    "Assuming you manage to discover a new palindromic representation and you want to record it in the database, the \n",
    "cell below shows you how to do so."
   ]
  },
  {
   "cell_type": "code",
   "execution_count": 29,
   "metadata": {},
   "outputs": [
    {
     "name": "stdout",
     "output_type": "stream",
     "text": [
      "2025/13 = ?  \n"
     ]
    }
   ],
   "source": [
    "# Read in registry\n",
    "from registry import EgyptianRegistry\n",
    "er = EgyptianRegistry()\n",
    "\n",
    "# print out the current best (if any) representation for the fraction\n",
    "print(er.display(r, credits=True, score=True))\n"
   ]
  },
  {
   "cell_type": "code",
   "execution_count": 30,
   "metadata": {},
   "outputs": [
    {
     "name": "stdout",
     "output_type": "stream",
     "text": [
      "2025/13 = 4 + 151 + 1/2 + 1/7 + 1/9 + 1/66 + 1/9009 [7] (Mr. Famous: 01/10/2025)\n"
     ]
    }
   ],
   "source": [
    "# add the discovery to the registry.\n",
    "\n",
    "# We don't have to worry about overwriting other representation as\n",
    "# the new representation is only registered if it is new or strictly shorter\n",
    "# than the recorded representation.as_integer_ratio\n",
    "\n",
    "er.add(palindromes=palindromes, \n",
    "       reciprocal_palindromes=denominators, \n",
    "       discovered_by=\"Mr. Famous\", \n",
    "       date='01/10/2025', \n",
    "       method='exact_knapsack')\n",
    "print(er.display(r, credits=True, score=True))\n",
    "\n"
   ]
  },
  {
   "cell_type": "code",
   "execution_count": 31,
   "metadata": {},
   "outputs": [],
   "source": [
    "# Save the registry to make the record more permanent.\n",
    "# Uncomment for your own discovery below:\n",
    "\n",
    "# er.save()\n",
    "\n",
    "# Next you need to pull and push the corresponding json file to the repo for others to see\n",
    "# your new discovery.  In this case the file is \"egyptian_palindromes.json\"."
   ]
  },
  {
   "cell_type": "markdown",
   "metadata": {},
   "source": [
    "### How do I become famous\n",
    "\n",
    "So, that's all good and well, but how can I make a new egyptian palindromic representation to make me famous?  There are a few ways you can do this:\n",
    "\n",
    "1. Pick a rational number without a valid representation, then choose one of the three solvers and run it on larger and larger seed values until you get a successful match.  Likely, if the fraction is small and missing - it may take a week to a month to be able to find a representation (or longer).\n",
    "1. Be inspired, implement a new way of discovering representation and hope for the best. "
   ]
  },
  {
   "cell_type": "code",
   "execution_count": null,
   "metadata": {},
   "outputs": [
    {
     "name": "stdout",
     "output_type": "stream",
     "text": [
      "Tried 100 seed values, currently at 100_670_296_343_692_076_001\n",
      "Tried 200 seed values, currently at 101_413_355_383_553_314_101\n",
      "Tried 300 seed values, currently at 102_215_458_888_854_512_201\n",
      "Tried 400 seed values, currently at 102_941_975_767_579_149_201\n",
      "Tried 500 seed values, currently at 103_592_944_646_449_295_301\n",
      "Tried 600 seed values, currently at 104_223_256_868_652_322_401\n",
      "Tried 700 seed values, currently at 104_965_764_202_467_569_401\n",
      "Tried 800 seed values, currently at 105_656_373_222_373_656_501\n",
      "Tried 900 seed values, currently at 106_468_572_222_275_864_601\n",
      "Tried 1_000 seed values, currently at 107_416_167_222_761_614_701\n",
      "Tried 1_100 seed values, currently at 108_352_941_393_149_253_801\n",
      "Tried 1_200 seed values, currently at 109_631_095_202_590_136_901\n",
      "Tried 1_300 seed values, currently at 110_374_941_606_149_473_011\n",
      "Tried 1_400 seed values, currently at 111_121_135_646_531_121_111\n",
      "Tried 1_500 seed values, currently at 111_705_838_202_838_507_111\n",
      "Tried 1_600 seed values, currently at 112_438_764_282_467_834_211\n",
      "Tried 1_700 seed values, currently at 113_140_232_707_232_041_311\n",
      "Tried 1_800 seed values, currently at 113_767_577_242_775_767_311\n",
      "Tried 1_900 seed values, currently at 114_408_318_444_813_804_411\n",
      "Tried 2_000 seed values, currently at 115_054_083_585_380_450_511\n",
      "Tried 2_100 seed values, currently at 115_654_143_000_341_456_511\n",
      "Tried 2_200 seed values, currently at 116_470_161_747_161_074_611\n",
      "Tried 2_300 seed values, currently at 117_351_051_525_150_153_711\n",
      "Tried 2_400 seed values, currently at 118_199_967_474_769_991_811\n",
      "Tried 2_500 seed values, currently at 119_316_532_868_235_613_911\n",
      "Tried 2_600 seed values, currently at 120_455_049_303_940_554_021\n",
      "Tried 2_700 seed values, currently at 121_232_495_383_594_232_121\n",
      "Tried 2_800 seed values, currently at 121_864_955_242_559_468_121\n",
      "Tried 2_900 seed values, currently at 122_460_342_888_243_064_221\n",
      "Tried 3_000 seed values, currently at 123_155_333_404_333_551_321\n",
      "Tried 3_100 seed values, currently at 123_764_512_424_215_467_321\n",
      "Tried 3_200 seed values, currently at 124_388_176_121_671_883_421\n",
      "Tried 3_300 seed values, currently at 125_039_348_989_843_930_521\n",
      "Tried 3_400 seed values, currently at 125_696_744_242_447_696_521\n",
      "Tried 3_500 seed values, currently at 126_442_452_858_254_244_621\n",
      "Tried 3_600 seed values, currently at 127_256_256_666_652_652_721\n",
      "Tried 3_700 seed values, currently at 127_947_004_040_400_749_721\n",
      "Tried 3_800 seed values, currently at 128_858_830_101_038_858_821\n",
      "Tried 3_900 seed values, currently at 129_876_753_606_357_678_921\n",
      "Tried 4_000 seed values, currently at 130_642_846_767_648_246_031\n",
      "Tried 4_100 seed values, currently at 131_441_544_666_445_144_131\n",
      "Tried 4_200 seed values, currently at 132_227_223_141_322_722_231\n",
      "Tried 4_300 seed values, currently at 133_005_328_868_823_500_331\n",
      "Tried 4_400 seed values, currently at 133_555_569_888_965_555_331\n",
      "Tried 4_500 seed values, currently at 134_286_487_868_784_682_431\n",
      "Tried 4_600 seed values, currently at 134_843_748_969_847_348_431\n",
      "Tried 4_700 seed values, currently at 135_453_434_727_434_354_531\n",
      "Tried 4_800 seed values, currently at 136_089_764_929_467_980_631\n",
      "Tried 4_900 seed values, currently at 136_764_969_060_969_467_631\n",
      "Tried 5_000 seed values, currently at 137_581_417_232_714_185_731\n",
      "Tried 5_100 seed values, currently at 138_479_774_767_477_974_831\n",
      "Tried 5_200 seed values, currently at 139_463_910_171_019_364_931\n",
      "Tried 5_300 seed values, currently at 140_344_019_323_910_443_041\n",
      "Tried 5_400 seed values, currently at 141_166_834_727_438_661_141\n",
      "Tried 5_500 seed values, currently at 142_122_029_989_920_221_241\n",
      "Tried 5_600 seed values, currently at 142_852_734_444_437_258_241\n",
      "Tried 5_700 seed values, currently at 143_551_609_292_906_155_341\n",
      "Tried 5_800 seed values, currently at 144_364_232_464_232_463_441\n",
      "Tried 5_900 seed values, currently at 145_087_842_909_248_780_541\n",
      "Tried 6_000 seed values, currently at 145_764_953_767_359_467_541\n",
      "Tried 6_100 seed values, currently at 146_575_454_545_454_575_641\n",
      "Tried 6_200 seed values, currently at 147_475_021_343_120_574_741\n",
      "Tried 6_300 seed values, currently at 148_412_110_484_011_214_841\n",
      "Tried 6_400 seed values, currently at 149_486_333_404_333_684_941\n",
      "Tried 6_500 seed values, currently at 150_454_723_343_327_454_051\n",
      "Tried 6_600 seed values, currently at 151_391_681_585_186_193_151\n",
      "Tried 6_700 seed values, currently at 152_244_536_888_635_442_251\n",
      "Tried 6_800 seed values, currently at 153_071_561_989_165_170_351\n",
      "Tried 6_900 seed values, currently at 153_940_216_343_612_049_351\n",
      "Tried 7_000 seed values, currently at 154_755_920_242_029_557_451\n",
      "Tried 7_100 seed values, currently at 155_575_555_666_555_575_551\n",
      "Tried 7_200 seed values, currently at 156_469_323_020_323_964_651\n",
      "Tried 7_300 seed values, currently at 157_275_726_303_627_572_751\n",
      "Tried 7_400 seed values, currently at 158_145_015_848_510_541_851\n",
      "Tried 7_500 seed values, currently at 159_264_209_494_902_462_951\n",
      "Tried 7_600 seed values, currently at 160_374_617_707_716_473_061\n",
      "Tried 7_700 seed values, currently at 161_754_319_343_913_457_161\n",
      "Tried 7_800 seed values, currently at 162_856_633_424_336_658_261\n",
      "Tried 7_900 seed values, currently at 163_824_305_080_503_428_361\n",
      "Tried 8_000 seed values, currently at 164_834_613_282_316_438_461\n",
      "Tried 8_100 seed values, currently at 165_898_877_585_778_898_561\n",
      "Tried 8_200 seed values, currently at 166_993_856_949_658_399_661\n",
      "Tried 8_300 seed values, currently at 168_142_102_949_201_241_861\n",
      "Tried 8_400 seed values, currently at 169_292_629_484_926_292_961\n",
      "Tried 8_500 seed values, currently at 170_576_844_282_448_675_071\n",
      "Tried 8_600 seed values, currently at 171_944_606_161_606_449_171\n",
      "Tried 8_700 seed values, currently at 173_265_665_464_566_562_371\n",
      "Tried 8_800 seed values, currently at 174_485_912_707_219_584_471\n",
      "Tried 8_900 seed values, currently at 175_483_618_949_816_384_571\n",
      "Tried 9_000 seed values, currently at 176_844_113_434_311_448_671\n",
      "Tried 9_100 seed values, currently at 178_164_022_424_220_461_871\n",
      "Tried 9_200 seed values, currently at 179_836_079_989_970_638_971\n",
      "Tried 9_300 seed values, currently at 181_669_842_909_248_966_181\n",
      "Tried 9_400 seed values, currently at 183_562_635_666_536_265_381\n",
      "Tried 9_500 seed values, currently at 184_985_428_343_824_589_481\n",
      "Tried 9_600 seed values, currently at 186_522_216_222_612_225_681\n",
      "Tried 9_700 seed values, currently at 187_998_738_888_837_899_781\n",
      "Tried 9_800 seed values, currently at 189_766_476_909_674_667_981\n",
      "Tried 9_900 seed values, currently at 192_120_335_363_533_021_291\n",
      "Tried 10_000 seed values, currently at 194_242_254_060_452_242_491\n",
      "Tried 10_100 seed values, currently at 196_281_340_202_043_182_691\n",
      "Tried 10_200 seed values, currently at 198_461_122_202_221_164_891\n",
      "Tried 10_300 seed values, currently at 200_042_028_404_820_240_002\n",
      "Tried 10_400 seed values, currently at 200_189_688_606_886_981_002\n",
      "Tried 10_500 seed values, currently at 200_342_276_565_672_243_002\n",
      "Tried 10_600 seed values, currently at 200_516_425_020_524_615_002\n",
      "Tried 10_700 seed values, currently at 200_697_038_545_830_796_002\n",
      "Tried 10_800 seed values, currently at 200_905_748_383_847_509_002\n",
      "Tried 10_900 seed values, currently at 201_107_933_767_339_701_102\n",
      "Tried 11_000 seed values, currently at 201_255_287_818_782_552_102\n",
      "Tried 11_100 seed values, currently at 201_427_665_141_566_724_102\n",
      "Tried 11_200 seed values, currently at 201_589_212_363_212_985_102\n",
      "Tried 11_300 seed values, currently at 201_767_511_363_115_767_102\n",
      "Tried 11_400 seed values, currently at 201_983_498_323_894_389_102\n",
      "Tried 11_500 seed values, currently at 202_142_226_363_622_241_202\n",
      "Tried 11_600 seed values, currently at 202_263_380_242_083_362_202\n",
      "Tried 11_700 seed values, currently at 202_421_463_222_364_124_202\n",
      "Tried 11_800 seed values, currently at 202_554_421_424_124_455_202\n",
      "Tried 11_900 seed values, currently at 202_732_149_525_941_237_202\n",
      "Tried 12_000 seed values, currently at 202_903_629_747_926_309_202\n",
      "Tried 12_100 seed values, currently at 203_109_124_040_421_901_302\n",
      "Tried 12_200 seed values, currently at 203_256_660_323_066_652_302\n",
      "Tried 12_300 seed values, currently at 203_381_933_212_339_183_302\n",
      "Tried 12_400 seed values, currently at 203_532_737_080_737_235_302\n",
      "Tried 12_500 seed values, currently at 203_689_984_343_489_986_302\n",
      "Tried 12_600 seed values, currently at 203_883_386_303_683_388_302\n",
      "Tried 12_700 seed values, currently at 204_070_317_222_713_070_402\n",
      "Tried 12_800 seed values, currently at 204_256_907_929_709_652_402\n",
      "Tried 12_900 seed values, currently at 204_424_485_222_584_424_402\n",
      "Tried 13_000 seed values, currently at 204_556_270_727_072_655_402\n",
      "Tried 13_100 seed values, currently at 204_714_658_989_856_417_402\n",
      "Tried 13_200 seed values, currently at 204_874_780_121_087_478_402\n",
      "Tried 13_300 seed values, currently at 205_083_749_575_947_380_502\n",
      "Tried 13_400 seed values, currently at 205_260_270_727_072_062_502\n",
      "Tried 13_500 seed values, currently at 205_430_740_040_047_034_502\n",
      "Tried 13_600 seed values, currently at 205_595_400_141_004_595_502\n",
      "Tried 13_700 seed values, currently at 205_750_392_585_293_057_502\n",
      "Tried 13_800 seed values, currently at 205_925_923_505_329_529_502\n"
     ]
    }
   ],
   "source": [
    "# WARNING: The code below will take several days to run, so be patient.  If you don't succeed at first try another solver or\n",
    "# go to larger seeds and wait even longer.\n",
    "n = 401 # 1/401 doesn't have an egyptian palindromic representation as of 1/11/2025\n",
    "best_score = 200\n",
    "# Small seeds have already been explored, so let's try larger values - this will take forever to run\n",
    "for p_wrapper in solver.palindrome_seed_iterator(1, n, \n",
    "                                                 start_search=10**20, end_search=10**21, \n",
    "                                                 min_num_divisors=10, max_num_divisors=46, # This number should be <48 for exact_knapsack\n",
    "                                                 verbose=True, report_frequency=100):\n",
    "    #print(f\"seed_value = {p_wrapper.seed_value:_}\")\n",
    "    score, a, error_code = solver.exact_knapsack(weight=p_wrapper.weight, capacity=p_wrapper.capacity, max_score=best_score, verbose=False)\n",
    "    # score, a, error_code = solver.egyptian_stack_search(weight=p_wrapper.weight, \n",
    "    #                                                     capacity=p_wrapper.capacity, \n",
    "    #                                                     max_score=best_score, \n",
    "    #                                                     max_tries=10_000_000,\n",
    "    #                                                     verbose=True)\n",
    "    if error_code==0 and score<best_score:\n",
    "        denominators = [p_wrapper.div_list[i] for i in range(len(a)) if a[i] > 0]\n",
    "        er.add([], denominators, discovered_by=\"Mr. Famous\", date='01/11/2025', method='egyptian_stack_search')\n",
    "        print(er.display())\n",
    "        er.save() # save it right away since your computer may die before the loop finishes running\n",
    "        best_score = score"
   ]
  },
  {
   "cell_type": "code",
   "execution_count": 53,
   "metadata": {},
   "outputs": [
    {
     "name": "stdout",
     "output_type": "stream",
     "text": [
      "\\frac{5}{2} = 2 + \\frac{1}{3} + \\frac{1}{6}\n",
      "\\frac{5}{3} = 1 + \\frac{1}{2} + \\frac{1}{6}\n",
      "\\frac{8}{3} = 2 + \\frac{1}{3} + \\frac{1}{4} + \\frac{1}{22} + \\frac{1}{44} + \\frac{1}{66}\n",
      "\\frac{10}{3} = 1 + 2 + \\frac{1}{3}\n",
      "\\frac{11}{3} = 3 + \\frac{1}{2} + \\frac{1}{6}\n",
      "\\frac{14}{3} = 4 + \\frac{1}{2} + \\frac{1}{6}\n",
      "\\frac{17}{3} = 5 + \\frac{1}{2} + \\frac{1}{6}\n",
      "\\frac{7}{4} = 1 + \\frac{1}{2} + \\frac{1}{4}\n",
      "\\frac{11}{4} = 2 + \\frac{1}{3} + \\frac{1}{4} + \\frac{1}{6}\n",
      "\\frac{15}{4} = 3 + \\frac{1}{2} + \\frac{1}{4}\n",
      "\\frac{17}{4} = 1 + 3 + \\frac{1}{4}\n",
      "\\frac{19}{4} = 1 + 3 + \\frac{1}{2} + \\frac{1}{4}\n",
      "\\frac{2}{5} = \\frac{1}{5} + \\frac{1}{6} + \\frac{1}{55} + \\frac{1}{66}\n",
      "\\frac{3}{5} = \\frac{1}{2} + \\frac{1}{11} + \\frac{1}{121} + \\frac{1}{2662} + \\frac{1}{3993} + \\frac{1}{5445} + \\frac{1}{59895}\n",
      "\\frac{4}{5} = \\frac{1}{2} + \\frac{1}{6} + \\frac{1}{9} + \\frac{1}{66} + \\frac{1}{242} + \\frac{1}{363} + \\frac{1}{5445}\n",
      "\\frac{7}{5} = 1 + \\frac{1}{5} + \\frac{1}{6} + \\frac{1}{55} + \\frac{1}{66}\n",
      "\\frac{8}{5} = 1 + \\frac{1}{2} + \\frac{1}{11} + \\frac{1}{121} + \\frac{1}{2662} + \\frac{1}{3993} + \\frac{1}{5445} + \\frac{1}{59895}\n",
      "\\frac{9}{5} = 1 + \\frac{1}{2} + \\frac{1}{6} + \\frac{1}{9} + \\frac{1}{66} + \\frac{1}{242} + \\frac{1}{363} + \\frac{1}{5445}\n",
      "\\frac{12}{5} = 2 + \\frac{1}{5} + \\frac{1}{6} + \\frac{1}{55} + \\frac{1}{66}\n",
      "\\frac{13}{5} = 2 + \\frac{1}{3} + \\frac{1}{5} + \\frac{1}{22} + \\frac{1}{55} + \\frac{1}{505} + \\frac{1}{1111} + \\frac{1}{6666}\n",
      "\\frac{14}{5} = 2 + \\frac{1}{3} + \\frac{1}{4} + \\frac{1}{9} + \\frac{1}{11} + \\frac{1}{121} + \\frac{1}{242} + \\frac{1}{484} + \\frac{1}{5445}\n",
      "\\frac{17}{5} = 3 + \\frac{1}{5} + \\frac{1}{6} + \\frac{1}{55} + \\frac{1}{66}\n",
      "\\frac{18}{5} = 3 + \\frac{1}{2} + \\frac{1}{11} + \\frac{1}{121} + \\frac{1}{2662} + \\frac{1}{3993} + \\frac{1}{5445} + \\frac{1}{59895}\n",
      "\\frac{19}{5} = 3 + \\frac{1}{2} + \\frac{1}{6} + \\frac{1}{9} + \\frac{1}{66} + \\frac{1}{242} + \\frac{1}{363} + \\frac{1}{5445}\n",
      "\\frac{11}{6} = 1 + \\frac{1}{2} + \\frac{1}{3}\n",
      "\\frac{17}{6} = 2 + \\frac{1}{3} + \\frac{1}{4} + \\frac{1}{6} + \\frac{1}{22} + \\frac{1}{44} + \\frac{1}{66}\n",
      "\\frac{2}{7} = \\frac{1}{4} + \\frac{1}{44} + \\frac{1}{77}\n",
      "\\frac{3}{7} = \\frac{1}{3} + \\frac{1}{11} + \\frac{1}{252} + \\frac{1}{2772}\n",
      "\\frac{4}{7} = \\frac{1}{2} + \\frac{1}{22} + \\frac{1}{77} + \\frac{1}{88} + \\frac{1}{616}\n",
      "\\frac{5}{7} = \\frac{1}{2} + \\frac{1}{6} + \\frac{1}{22} + \\frac{1}{858} + \\frac{1}{1001}\n",
      "\\frac{6}{7} = \\frac{1}{2} + \\frac{1}{3} + \\frac{1}{44} + \\frac{1}{2002} + \\frac{1}{3003} + \\frac{1}{4004}\n",
      "\\frac{9}{7} = 1 + \\frac{1}{4} + \\frac{1}{44} + \\frac{1}{77}\n",
      "\\frac{10}{7} = 1 + \\frac{1}{3} + \\frac{1}{11} + \\frac{1}{252} + \\frac{1}{2772}\n",
      "\\frac{11}{7} = 1 + \\frac{1}{2} + \\frac{1}{22} + \\frac{1}{77} + \\frac{1}{88} + \\frac{1}{616}\n",
      "\\frac{12}{7} = 1 + \\frac{1}{2} + \\frac{1}{6} + \\frac{1}{22} + \\frac{1}{858} + \\frac{1}{1001}\n",
      "\\frac{13}{7} = 1 + \\frac{1}{2} + \\frac{1}{3} + \\frac{1}{44} + \\frac{1}{2002} + \\frac{1}{3003} + \\frac{1}{4004}\n",
      "\\frac{16}{7} = 2 + \\frac{1}{4} + \\frac{1}{44} + \\frac{1}{77}\n",
      "\\frac{17}{7} = 2 + \\frac{1}{3} + \\frac{1}{11} + \\frac{1}{252} + \\frac{1}{2772}\n",
      "\\frac{18}{7} = 2 + \\frac{1}{3} + \\frac{1}{7} + \\frac{1}{11} + \\frac{1}{252} + \\frac{1}{2772}\n",
      "\\frac{19}{7} = 2 + \\frac{1}{3} + \\frac{1}{4} + \\frac{1}{8} + \\frac{1}{252} + \\frac{1}{616} + \\frac{1}{2772}\n",
      "\\frac{7}{8} = \\frac{1}{2} + \\frac{1}{4} + \\frac{1}{8}\n",
      "\\frac{11}{8} = 1 + \\frac{1}{4} + \\frac{1}{8}\n",
      "\\frac{13}{8} = 1 + \\frac{1}{2} + \\frac{1}{8}\n",
      "\\frac{15}{8} = 1 + \\frac{1}{2} + \\frac{1}{4} + \\frac{1}{8}\n",
      "\\frac{19}{8} = 2 + \\frac{1}{4} + \\frac{1}{8}\n",
      "\\frac{2}{9} = \\frac{1}{6} + \\frac{1}{22} + \\frac{1}{99}\n",
      "\\frac{5}{9} = \\frac{1}{2} + \\frac{1}{22} + \\frac{1}{99}\n",
      "\\frac{7}{9} = \\frac{1}{2} + \\frac{1}{6} + \\frac{1}{9}\n",
      "\\frac{8}{9} = \\frac{1}{2} + \\frac{1}{3} + \\frac{1}{22} + \\frac{1}{99}\n",
      "\\frac{11}{9} = 1 + \\frac{1}{6} + \\frac{1}{22} + \\frac{1}{99}\n",
      "\\frac{13}{9} = 1 + \\frac{1}{3} + \\frac{1}{9}\n",
      "\\frac{14}{9} = 1 + \\frac{1}{2} + \\frac{1}{22} + \\frac{1}{99}\n",
      "\\frac{16}{9} = 1 + \\frac{1}{2} + \\frac{1}{6} + \\frac{1}{9}\n",
      "\\frac{17}{9} = 1 + \\frac{1}{2} + \\frac{1}{3} + \\frac{1}{22} + \\frac{1}{99}\n",
      "\\frac{1}{10} = \\frac{1}{11} + \\frac{1}{121} + \\frac{1}{2662} + \\frac{1}{3993} + \\frac{1}{5445} + \\frac{1}{59895}\n",
      "\\frac{3}{10} = \\frac{1}{6} + \\frac{1}{9} + \\frac{1}{66} + \\frac{1}{242} + \\frac{1}{363} + \\frac{1}{5445}\n",
      "\\frac{9}{10} = \\frac{1}{2} + \\frac{1}{5} + \\frac{1}{6} + \\frac{1}{55} + \\frac{1}{66}\n",
      "\\frac{11}{10} = 1 + \\frac{1}{11} + \\frac{1}{121} + \\frac{1}{2662} + \\frac{1}{3993} + \\frac{1}{5445} + \\frac{1}{59895}\n",
      "\\frac{13}{10} = 1 + \\frac{1}{6} + \\frac{1}{9} + \\frac{1}{66} + \\frac{1}{242} + \\frac{1}{363} + \\frac{1}{5445}\n",
      "\\frac{17}{10} = 1 + \\frac{1}{2} + \\frac{1}{5}\n",
      "\\frac{19}{10} = 1 + \\frac{1}{2} + \\frac{1}{5} + \\frac{1}{6} + \\frac{1}{55} + \\frac{1}{66}\n",
      "\\frac{5}{11} = \\frac{1}{3} + \\frac{1}{9} + \\frac{1}{99}\n",
      "\\frac{7}{11} = \\frac{1}{2} + \\frac{1}{8} + \\frac{1}{88}\n",
      "\\frac{8}{11} = \\frac{1}{2} + \\frac{1}{6} + \\frac{1}{22} + \\frac{1}{66}\n",
      "\\frac{9}{11} = \\frac{1}{2} + \\frac{1}{4} + \\frac{1}{22} + \\frac{1}{44}\n",
      "\\frac{10}{11} = \\frac{1}{2} + \\frac{1}{3} + \\frac{1}{22} + \\frac{1}{33}\n",
      "\\frac{13}{11} = 1 + \\frac{1}{6} + \\frac{1}{66}\n",
      "\\frac{14}{11} = 1 + \\frac{1}{4} + \\frac{1}{44}\n",
      "\\frac{15}{11} = 1 + \\frac{1}{3} + \\frac{1}{33}\n",
      "\\frac{16}{11} = 1 + \\frac{1}{3} + \\frac{1}{9} + \\frac{1}{99}\n",
      "\\frac{17}{11} = 1 + \\frac{1}{2} + \\frac{1}{22}\n",
      "\\frac{18}{11} = 1 + \\frac{1}{2} + \\frac{1}{8} + \\frac{1}{88}\n",
      "\\frac{19}{11} = 1 + \\frac{1}{2} + \\frac{1}{6} + \\frac{1}{22} + \\frac{1}{66}\n",
      "\\frac{1}{12} = \\frac{1}{22} + \\frac{1}{44} + \\frac{1}{66}\n",
      "\\frac{11}{12} = \\frac{1}{2} + \\frac{1}{4} + \\frac{1}{6}\n",
      "\\frac{13}{12} = \\frac{1}{2} + \\frac{1}{3} + \\frac{1}{4}\n",
      "\\frac{17}{12} = 1 + \\frac{1}{4} + \\frac{1}{6}\n",
      "\\frac{19}{12} = 1 + \\frac{1}{3} + \\frac{1}{4}\n",
      "\\frac{1}{13} = \\frac{1}{22} + \\frac{1}{33} + \\frac{1}{858}\n",
      "\\frac{2}{13} = \\frac{1}{7} + \\frac{1}{99} + \\frac{1}{1221} + \\frac{1}{20202} + \\frac{1}{60606} + \\frac{1}{333333}\n",
      "\\frac{3}{13} = \\frac{1}{8} + \\frac{1}{11} + \\frac{1}{77} + \\frac{1}{616} + \\frac{1}{4004}\n",
      "\\frac{4}{13} = \\frac{1}{4} + \\frac{1}{22} + \\frac{1}{88} + \\frac{1}{2002} + \\frac{1}{4004} + \\frac{1}{8008}\n",
      "\\frac{5}{13} = \\frac{1}{3} + \\frac{1}{22} + \\frac{1}{222} + \\frac{1}{777} + \\frac{1}{30303} + \\frac{1}{333333}\n",
      "\\frac{6}{13} = \\frac{1}{4} + \\frac{1}{7} + \\frac{1}{22} + \\frac{1}{44} + \\frac{1}{2002}\n",
      "\\frac{7}{13} = \\frac{1}{2} + \\frac{1}{44} + \\frac{1}{66} + \\frac{1}{3003} + \\frac{1}{4004}\n",
      "\\frac{8}{13} = \\frac{1}{2} + \\frac{1}{9} + \\frac{1}{242} + \\frac{1}{9009} + \\frac{1}{33033}\n",
      "\\frac{9}{13} = \\frac{1}{2} + \\frac{1}{6} + \\frac{1}{44} + \\frac{1}{363} + \\frac{1}{6776} + \\frac{1}{88088}\n",
      "\\frac{10}{13} = \\frac{1}{2} + \\frac{1}{4} + \\frac{1}{66} + \\frac{1}{252} + \\frac{1}{9009}\n",
      "\\frac{11}{13} = \\frac{1}{2} + \\frac{1}{3} + \\frac{1}{88} + \\frac{1}{696} + \\frac{1}{63336} + \\frac{1}{232232}\n",
      "\\frac{12}{13} = \\frac{1}{2} + \\frac{1}{3} + \\frac{1}{22} + \\frac{1}{33} + \\frac{1}{77} + \\frac{1}{1001}\n",
      "\\frac{14}{13} = 1 + \\frac{1}{22} + \\frac{1}{33} + \\frac{1}{858}\n",
      "\\frac{15}{13} = 1 + \\frac{1}{7} + \\frac{1}{99} + \\frac{1}{1221} + \\frac{1}{20202} + \\frac{1}{60606} + \\frac{1}{333333}\n",
      "\\frac{16}{13} = 1 + \\frac{1}{8} + \\frac{1}{11} + \\frac{1}{77} + \\frac{1}{616} + \\frac{1}{4004}\n",
      "\\frac{17}{13} = 1 + \\frac{1}{4} + \\frac{1}{22} + \\frac{1}{88} + \\frac{1}{2002} + \\frac{1}{4004} + \\frac{1}{8008}\n",
      "\\frac{18}{13} = 1 + \\frac{1}{3} + \\frac{1}{22} + \\frac{1}{222} + \\frac{1}{777} + \\frac{1}{30303} + \\frac{1}{333333}\n",
      "\\frac{19}{13} = 1 + \\frac{1}{4} + \\frac{1}{7} + \\frac{1}{22} + \\frac{1}{44} + \\frac{1}{2002}\n",
      "\\frac{1}{14} = \\frac{1}{22} + \\frac{1}{77} + \\frac{1}{88} + \\frac{1}{616}\n",
      "\\frac{3}{14} = \\frac{1}{6} + \\frac{1}{22} + \\frac{1}{858} + \\frac{1}{1001}\n",
      "\\frac{5}{14} = \\frac{1}{3} + \\frac{1}{44} + \\frac{1}{2002} + \\frac{1}{3003} + \\frac{1}{4004}\n",
      "\\frac{11}{14} = \\frac{1}{2} + \\frac{1}{4} + \\frac{1}{44} + \\frac{1}{77}\n",
      "\\frac{13}{14} = \\frac{1}{2} + \\frac{1}{3} + \\frac{1}{11} + \\frac{1}{252} + \\frac{1}{2772}\n",
      "\\frac{15}{14} = 1 + \\frac{1}{22} + \\frac{1}{77} + \\frac{1}{88} + \\frac{1}{616}\n",
      "\\frac{17}{14} = 1 + \\frac{1}{6} + \\frac{1}{22} + \\frac{1}{858} + \\frac{1}{1001}\n",
      "\\frac{19}{14} = 1 + \\frac{1}{3} + \\frac{1}{44} + \\frac{1}{2002} + \\frac{1}{3003} + \\frac{1}{4004}\n",
      "\\frac{1}{15} = \\frac{1}{22} + \\frac{1}{55} + \\frac{1}{505} + \\frac{1}{1111} + \\frac{1}{6666}\n",
      "\\frac{2}{15} = \\frac{1}{9} + \\frac{1}{66} + \\frac{1}{242} + \\frac{1}{363} + \\frac{1}{5445}\n",
      "\\frac{4}{15} = \\frac{1}{5} + \\frac{1}{22} + \\frac{1}{55} + \\frac{1}{505} + \\frac{1}{1111} + \\frac{1}{6666}\n",
      "\\frac{7}{15} = \\frac{1}{3} + \\frac{1}{9} + \\frac{1}{66} + \\frac{1}{242} + \\frac{1}{363} + \\frac{1}{5445}\n",
      "\\frac{11}{15} = \\frac{1}{2} + \\frac{1}{5} + \\frac{1}{55} + \\frac{1}{66}\n",
      "\\frac{13}{15} = \\frac{1}{2} + \\frac{1}{5} + \\frac{1}{6}\n",
      "\\frac{14}{15} = \\frac{1}{2} + \\frac{1}{3} + \\frac{1}{11} + \\frac{1}{121} + \\frac{1}{2662} + \\frac{1}{3993} + \\frac{1}{5445} + \\frac{1}{59895}\n",
      "\\frac{16}{15} = \\frac{1}{2} + \\frac{1}{3} + \\frac{1}{5} + \\frac{1}{55} + \\frac{1}{66}\n",
      "\\frac{17}{15} = 1 + \\frac{1}{9} + \\frac{1}{66} + \\frac{1}{242} + \\frac{1}{363} + \\frac{1}{5445}\n",
      "\\frac{19}{15} = 1 + \\frac{1}{5} + \\frac{1}{22} + \\frac{1}{55} + \\frac{1}{505} + \\frac{1}{1111} + \\frac{1}{6666}\n",
      "\\frac{1}{16} = \\frac{1}{22} + \\frac{1}{99} + \\frac{1}{242} + \\frac{1}{363} + \\frac{1}{23232} + \\frac{1}{69696}\n",
      "\\frac{3}{16} = \\frac{1}{9} + \\frac{1}{22} + \\frac{1}{33} + \\frac{1}{2112} + \\frac{1}{6336}\n",
      "\\frac{5}{16} = \\frac{1}{6} + \\frac{1}{9} + \\frac{1}{44} + \\frac{1}{88} + \\frac{1}{2112} + \\frac{1}{6336}\n",
      "\\frac{7}{16} = \\frac{1}{4} + \\frac{1}{9} + \\frac{1}{22} + \\frac{1}{33} + \\frac{1}{2112} + \\frac{1}{6336}\n",
      "\\frac{9}{16} = \\frac{1}{2} + \\frac{1}{22} + \\frac{1}{66} + \\frac{1}{606} + \\frac{1}{4224} + \\frac{1}{213312} + \\frac{1}{426624}\n",
      "\\frac{11}{16} = \\frac{1}{2} + \\frac{1}{9} + \\frac{1}{22} + \\frac{1}{33} + \\frac{1}{2112} + \\frac{1}{6336}\n",
      "\\frac{13}{16} = \\frac{1}{2} + \\frac{1}{6} + \\frac{1}{9} + \\frac{1}{44} + \\frac{1}{88} + \\frac{1}{2112} + \\frac{1}{6336}\n",
      "\\frac{15}{16} = \\frac{1}{2} + \\frac{1}{4} + \\frac{1}{9} + \\frac{1}{22} + \\frac{1}{33} + \\frac{1}{2112} + \\frac{1}{6336}\n",
      "\\frac{17}{16} = 1 + \\frac{1}{22} + \\frac{1}{99} + \\frac{1}{242} + \\frac{1}{363} + \\frac{1}{23232} + \\frac{1}{69696}\n",
      "\\frac{19}{16} = 1 + \\frac{1}{9} + \\frac{1}{22} + \\frac{1}{33} + \\frac{1}{2112} + \\frac{1}{6336}\n",
      "\\frac{1}{17} = \\frac{1}{22} + \\frac{1}{88} + \\frac{1}{595} + \\frac{1}{5005} + \\frac{1}{8008}\n",
      "\\frac{2}{17} = \\frac{1}{11} + \\frac{1}{44} + \\frac{1}{272} + \\frac{1}{2992}\n",
      "\\frac{3}{17} = \\frac{1}{6} + \\frac{1}{111} + \\frac{1}{2222} + \\frac{1}{3333} + \\frac{1}{22422} + \\frac{1}{4192914}\n",
      "\\frac{4}{17} = \\frac{1}{5} + \\frac{1}{33} + \\frac{1}{595} + \\frac{1}{858} + \\frac{1}{969} + \\frac{1}{1001} + \\frac{1}{8778}\n",
      "\\frac{5}{17} = \\frac{1}{6} + \\frac{1}{8} + \\frac{1}{696} + \\frac{1}{1001} + \\frac{1}{86768} + \\frac{1}{272272}\n",
      "\\frac{6}{17} = \\frac{1}{4} + \\frac{1}{11} + \\frac{1}{121} + \\frac{1}{272} + \\frac{1}{11011} + \\frac{1}{2994992}\n",
      "\\frac{7}{17} = \\frac{1}{4} + \\frac{1}{9} + \\frac{1}{22} + \\frac{1}{363} + \\frac{1}{646} + \\frac{1}{1881} + \\frac{1}{4114} + \\frac{1}{8228}\n",
      "\\frac{8}{17} = \\frac{1}{4} + \\frac{1}{8} + \\frac{1}{11} + \\frac{1}{272} + \\frac{1}{1001} + \\frac{1}{272272}\n",
      "\\frac{9}{17} = \\frac{1}{2} + \\frac{1}{44} + \\frac{1}{222} + \\frac{1}{484} + \\frac{1}{13431} + \\frac{1}{26862} + \\frac{1}{456654}\n",
      "\\frac{10}{17} = \\frac{1}{3} + \\frac{1}{4} + \\frac{1}{272} + \\frac{1}{888} + \\frac{1}{10101} + \\frac{1}{2747472}\n",
      "\\frac{11}{17} = \\frac{1}{2} + \\frac{1}{7} + \\frac{1}{303} + \\frac{1}{1111} + \\frac{1}{801108} + \\frac{1}{80911908}\n",
      "\\frac{12}{17} = \\frac{1}{2} + \\frac{1}{5} + \\frac{1}{303} + \\frac{1}{595} + \\frac{1}{1111} + \\frac{1}{801108} + \\frac{1}{80911908}\n",
      "\\frac{13}{17} = \\frac{1}{2} + \\frac{1}{4} + \\frac{1}{121} + \\frac{1}{242} + \\frac{1}{484} + \\frac{1}{4114}\n",
      "\\frac{14}{17} = \\frac{1}{2} + \\frac{1}{6} + \\frac{1}{9} + \\frac{1}{22} + \\frac{1}{3663} + \\frac{1}{41514}\n",
      "\\frac{15}{17} = \\frac{1}{2} + \\frac{1}{3} + \\frac{1}{22} + \\frac{1}{323} + \\frac{1}{3553} + \\frac{1}{5335} + \\frac{1}{5169615}\n",
      "\\frac{16}{17} = \\frac{1}{2} + \\frac{1}{3} + \\frac{1}{11} + \\frac{1}{66} + \\frac{1}{696} + \\frac{1}{2992} + \\frac{1}{86768}\n",
      "\\frac{18}{17} = 1 + \\frac{1}{22} + \\frac{1}{88} + \\frac{1}{595} + \\frac{1}{5005} + \\frac{1}{8008}\n",
      "\\frac{19}{17} = 1 + \\frac{1}{11} + \\frac{1}{44} + \\frac{1}{272} + \\frac{1}{2992}\n",
      "\\frac{7}{18} = \\frac{1}{3} + \\frac{1}{22} + \\frac{1}{99}\n",
      "\\frac{13}{18} = \\frac{1}{2} + \\frac{1}{6} + \\frac{1}{22} + \\frac{1}{99}\n",
      "\\frac{17}{18} = \\frac{1}{2} + \\frac{1}{3} + \\frac{1}{9}\n",
      "\\frac{19}{18} = 1 + \\frac{1}{22} + \\frac{1}{99}\n",
      "\\frac{1}{19} = \\frac{1}{22} + \\frac{1}{171} + \\frac{1}{969} + \\frac{1}{3663} + \\frac{1}{41514}\n",
      "\\frac{2}{19} = \\frac{1}{11} + \\frac{1}{77} + \\frac{1}{999} + \\frac{1}{3003} + \\frac{1}{30303} + \\frac{1}{18999981}\n",
      "\\frac{3}{19} = \\frac{1}{7} + \\frac{1}{77} + \\frac{1}{646} + \\frac{1}{2002} + \\frac{1}{323323}\n",
      "\\frac{4}{19} = \\frac{1}{6} + \\frac{1}{33} + \\frac{1}{99} + \\frac{1}{303} + \\frac{1}{6666} + \\frac{1}{189981}\n",
      "\\frac{5}{19} = \\frac{1}{4} + \\frac{1}{99} + \\frac{1}{444} + \\frac{1}{1881} + \\frac{1}{3663}\n",
      "\\frac{6}{19} = \\frac{1}{6} + \\frac{1}{8} + \\frac{1}{44} + \\frac{1}{808} + \\frac{1}{9999} + \\frac{1}{17271}\n",
      "\\frac{7}{19} = \\frac{1}{3} + \\frac{1}{33} + \\frac{1}{303} + \\frac{1}{909} + \\frac{1}{3553} + \\frac{1}{9999} + \\frac{1}{358853}\n",
      "\\frac{8}{19} = \\frac{1}{4} + \\frac{1}{6} + \\frac{1}{484} + \\frac{1}{494} + \\frac{1}{6006} + \\frac{1}{8778} + \\frac{1}{66066}\n",
      "\\frac{9}{19} = \\frac{1}{3} + \\frac{1}{8} + \\frac{1}{66} + \\frac{1}{6776} + \\frac{1}{22022} + \\frac{1}{171171} + \\frac{1}{1882881}\n",
      "\\frac{10}{19} = \\frac{1}{2} + \\frac{1}{44} + \\frac{1}{303} + \\frac{1}{4444} + \\frac{1}{17271} + \\frac{1}{189981}\n",
      "\\frac{11}{19} = \\frac{1}{2} + \\frac{1}{22} + \\frac{1}{33} + \\frac{1}{494} + \\frac{1}{858}\n",
      "\\frac{12}{19} = \\frac{1}{2} + \\frac{1}{9} + \\frac{1}{111} + \\frac{1}{171} + \\frac{1}{333} + \\frac{1}{646} + \\frac{1}{969} + \\frac{1}{35853}\n",
      "\\frac{13}{19} = \\frac{1}{2} + \\frac{1}{6} + \\frac{1}{77} + \\frac{1}{252} + \\frac{1}{3003} + \\frac{1}{4004} + \\frac{1}{171171}\n",
      "\\frac{14}{19} = \\frac{1}{2} + \\frac{1}{6} + \\frac{1}{22} + \\frac{1}{66} + \\frac{1}{171} + \\frac{1}{494} + \\frac{1}{858} + \\frac{1}{1881}\n",
      "\\frac{15}{19} = \\frac{1}{2} + \\frac{1}{4} + \\frac{1}{33} + \\frac{1}{121} + \\frac{1}{2002} + \\frac{1}{2772} + \\frac{1}{22022} + \\frac{1}{1882881}\n",
      "\\frac{16}{19} = \\frac{1}{2} + \\frac{1}{3} + \\frac{1}{121} + \\frac{1}{2002} + \\frac{1}{171171} + \\frac{1}{765567} + \\frac{1}{1222221}\n",
      "\\frac{17}{19} = \\frac{1}{2} + \\frac{1}{3} + \\frac{1}{22} + \\frac{1}{99} + \\frac{1}{171}\n",
      "\\frac{18}{19} = \\frac{1}{2} + \\frac{1}{3} + \\frac{1}{9} + \\frac{1}{666} + \\frac{1}{1221} + \\frac{1}{1881} + \\frac{1}{20202} + \\frac{1}{60606} + \\frac{1}{171171}\n"
     ]
    }
   ],
   "source": [
    "for q in range(1,20):\n",
    "    for p in range(1,20):\n",
    "        r = Rational(p,q)\n",
    "        if (r.p==p and r.q==q):\n",
    "            if er.score[r]>2:\n",
    "                print(er.latex(r))"
   ]
  },
  {
   "cell_type": "code",
   "execution_count": 46,
   "metadata": {},
   "outputs": [
    {
     "data": {
      "text/plain": [
       "{3: 2, 5: 1, 13: 1}"
      ]
     },
     "execution_count": 46,
     "metadata": {},
     "output_type": "execute_result"
    }
   ],
   "source": []
  },
  {
   "cell_type": "code",
   "execution_count": 44,
   "metadata": {},
   "outputs": [
    {
     "data": {
      "text/latex": [
       "$\\displaystyle 1261260$"
      ],
      "text/plain": [
       "1261260"
      ]
     },
     "execution_count": 44,
     "metadata": {},
     "output_type": "execute_result"
    }
   ],
   "source": []
  },
  {
   "cell_type": "code",
   "execution_count": null,
   "metadata": {},
   "outputs": [],
   "source": []
  }
 ],
 "metadata": {
  "kernelspec": {
   "display_name": "palindrome",
   "language": "python",
   "name": "python3"
  },
  "language_info": {
   "codemirror_mode": {
    "name": "ipython",
    "version": 3
   },
   "file_extension": ".py",
   "mimetype": "text/x-python",
   "name": "python",
   "nbconvert_exporter": "python",
   "pygments_lexer": "ipython3",
   "version": "3.13.1"
  }
 },
 "nbformat": 4,
 "nbformat_minor": 2
}
