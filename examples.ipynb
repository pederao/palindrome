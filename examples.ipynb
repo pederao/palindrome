{
 "cells": [
  {
   "cell_type": "code",
   "execution_count": 3,
   "metadata": {},
   "outputs": [],
   "source": [
    "import palindrome\n",
    "from sympy.ntheory import is_palindromic"
   ]
  },
  {
   "cell_type": "markdown",
   "metadata": {},
   "source": [
    "# Examples of using palindrome module"
   ]
  },
  {
   "cell_type": "markdown",
   "metadata": {},
   "source": [
    "## Iterating over palindromes\n",
    "\n",
    "We use iteration over palindrome to illustrate the two celebrated results\n",
    "1. Every number can be written as a sum of <=3 palindromes.\n",
    "1. The sum of the reciprocal of every palindrome converges to 3.37028...\n"
   ]
  },
  {
   "cell_type": "code",
   "execution_count": 23,
   "metadata": {},
   "outputs": [
    {
     "name": "stdout",
     "output_type": "stream",
     "text": [
      "2021 = 1 + 909 + 1111\n",
      "2021 = 3 + 797 + 1221\n",
      "2021 = 4 + 686 + 1331\n",
      "2021 = 5 + 575 + 1441\n",
      "2021 = 6 + 464 + 1551\n",
      "2021 = 7 + 353 + 1661\n",
      "2021 = 8 + 11 + 2002\n",
      "2021 = 8 + 22 + 1991\n",
      "2021 = 8 + 242 + 1771\n",
      "2021 = 9 + 131 + 1881\n",
      "2021 = 22 + 888 + 1111\n",
      "2021 = 33 + 767 + 1221\n",
      "2021 = 33 + 989 + 999\n",
      "2021 = 44 + 646 + 1331\n",
      "2021 = 55 + 525 + 1441\n",
      "2021 = 66 + 404 + 1551\n",
      "2021 = 77 + 393 + 1551\n",
      "2021 = 88 + 272 + 1661\n",
      "2021 = 99 + 151 + 1771\n",
      "2021 = 101 + 919 + 1001\n",
      "2021 = 111 + 909 + 1001\n",
      "2021 = 202 + 818 + 1001\n",
      "2021 = 212 + 808 + 1001\n",
      "2021 = 303 + 717 + 1001\n",
      "2021 = 313 + 707 + 1001\n",
      "2021 = 404 + 616 + 1001\n",
      "2021 = 414 + 606 + 1001\n",
      "2021 = 505 + 515 + 1001\n",
      "Number of solutions with 3 palindromes: 28\n"
     ]
    }
   ],
   "source": [
    "n = 2021 # let's find all representations of 2023 as a sum of 2 or 3 palindromes\n",
    "n_solutions = 0\n",
    "for p1 in palindrome.pal_iterator(1,n//2):\n",
    "    p2 = n-p1\n",
    "    if (is_palindromic(p2) and p2 >= p1):\n",
    "        print(f\"{n} = {p1} + {p2}\")\n",
    "    for p2 in palindrome.pal_iterator(p1,(n-p1)//2):\n",
    "        p3 = n-p1-p2\n",
    "        if (is_palindromic(p3) and p3 >= p2):\n",
    "            print(f\"{n} = {p1} + {p2} + {p3}\")\n",
    "            n_solutions += 1\n",
    "print(f\"Number of solutions with 3 palindromes: {n_solutions}\")"
   ]
  },
  {
   "cell_type": "code",
   "execution_count": 19,
   "metadata": {},
   "outputs": [
    {
     "name": "stdout",
     "output_type": "stream",
     "text": [
      "n=2025, pal_floor=2002, pal_ceil=2112\n",
      "n=2002, prev_pal=1991, next_pal=2112\n"
     ]
    }
   ],
   "source": [
    "# examples of pal_floor, pal_ceil, prev_pal, next_pal\n",
    "n = 2025\n",
    "print(f\"n={n}, pal_floor={palindrome.pal_floor(n)}, pal_ceil={palindrome.pal_ceil(n)}\")\n",
    "n = 2002\n",
    "print(f\"n={n}, prev_pal={palindrome.prev_pal(n)}, next_pal={palindrome.next_pal(n)}\")"
   ]
  },
  {
   "cell_type": "code",
   "execution_count": 22,
   "metadata": {},
   "outputs": [
    {
     "name": "stdout",
     "output_type": "stream",
     "text": [
      "Sum of reciprocals of palindromes up to 10^10: 3.37028\n"
     ]
    }
   ],
   "source": [
    "rec_pal_sum = 0.0\n",
    "for n in palindrome.pal_iterator(1,10**12):\n",
    "    rec_pal_sum += 1.0/n\n",
    "print(f\"Sum of reciprocals of palindromes up to 10^10: {rec_pal_sum:.5f}\")"
   ]
  },
  {
   "cell_type": "code",
   "execution_count": null,
   "metadata": {},
   "outputs": [],
   "source": []
  }
 ],
 "metadata": {
  "kernelspec": {
   "display_name": "palindrome",
   "language": "python",
   "name": "python3"
  },
  "language_info": {
   "codemirror_mode": {
    "name": "ipython",
    "version": 3
   },
   "file_extension": ".py",
   "mimetype": "text/x-python",
   "name": "python",
   "nbconvert_exporter": "python",
   "pygments_lexer": "ipython3",
   "version": "3.13.1"
  }
 },
 "nbformat": 4,
 "nbformat_minor": 2
}
