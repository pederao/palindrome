{
 "cells": [
  {
   "cell_type": "code",
   "execution_count": 2,
   "metadata": {},
   "outputs": [],
   "source": [
    "import sympy\n",
    "from sympy.ntheory import is_palindromic\n",
    "from IPython.display import display, Math\n",
    "from sympy import latex, Rational\n",
    "\n",
    "import solver\n",
    "import palindrome"
   ]
  },
  {
   "cell_type": "markdown",
   "metadata": {},
   "source": [
    "## Palindrome.py: Iterating over palindromes\n",
    "\n",
    "We use iteration over palindrome to illustrate the two celebrated results\n",
    "1. Every number can be written as a sum of <=3 palindromes.\n",
    "1. The sum of the reciprocal of every palindrome converges to 3.37028...\n"
   ]
  },
  {
   "cell_type": "code",
   "execution_count": 3,
   "metadata": {},
   "outputs": [
    {
     "name": "stdout",
     "output_type": "stream",
     "text": [
      "98 = 1 + 9 + 88\n",
      "98 = 2 + 8 + 88\n",
      "98 = 3 + 7 + 88\n",
      "98 = 4 + 6 + 88\n",
      "98 = 5 + 5 + 88\n",
      "Number of solutions with 3 palindromes: 5\n"
     ]
    }
   ],
   "source": [
    "# try n=2021 to see the explosion of the number of solutions\n",
    "n = 98 # let's find all representations of 98 as a sum of 2 or 3 palindromes.\n",
    "n_solutions = 0\n",
    "for p1 in palindrome.pal_iterator(1,n//2):\n",
    "    p2 = n-p1\n",
    "    if (is_palindromic(p2) and p2 >= p1):\n",
    "        print(f\"{n} = {p1} + {p2}\")\n",
    "    for p2 in palindrome.pal_iterator(p1,(n-p1)//2):\n",
    "        p3 = n-p1-p2\n",
    "        if (is_palindromic(p3) and p3 >= p2):\n",
    "            print(f\"{n} = {p1} + {p2} + {p3}\")\n",
    "            n_solutions += 1\n",
    "print(f\"Number of solutions with 3 palindromes: {n_solutions}\")"
   ]
  },
  {
   "cell_type": "code",
   "execution_count": 4,
   "metadata": {},
   "outputs": [
    {
     "name": "stdout",
     "output_type": "stream",
     "text": [
      "Sum of reciprocals of palindromes up to 10^12: 3.37028\n"
     ]
    }
   ],
   "source": [
    "rec_pal_sum = 0.0\n",
    "for n in palindrome.pal_iterator(1,10**12):\n",
    "    rec_pal_sum += 1.0/n\n",
    "print(f\"Sum of reciprocals of palindromes up to 10^12: {rec_pal_sum:.5f}\")"
   ]
  },
  {
   "cell_type": "code",
   "execution_count": 5,
   "metadata": {},
   "outputs": [
    {
     "name": "stdout",
     "output_type": "stream",
     "text": [
      "n=2025, pal_floor=2002, pal_ceil=2112\n",
      "n=2002, prev_pal=1991, next_pal=2112\n"
     ]
    }
   ],
   "source": [
    "# examples of pal_floor, pal_ceil, prev_pal, next_pal\n",
    "n = 2025\n",
    "print(f\"n={n}, pal_floor={palindrome.pal_floor(n)}, pal_ceil={palindrome.pal_ceil(n)}\")\n",
    "n = 2002\n",
    "print(f\"n={n}, prev_pal={palindrome.prev_pal(n)}, next_pal={palindrome.next_pal(n)}\")"
   ]
  },
  {
   "cell_type": "markdown",
   "metadata": {},
   "source": [
    "### How many palindromes is divisible by a particular prime?\n",
    "\n",
    "There are 2(9+90+900+9000)=19,998 palindromes in the range $(1,10^8)$.  For a prime $p$, it is natural to assume that roughly $19,998/p$ of the palindromes are divisible by $p$, but for some primes this is not so.  Here we compare the guess $19,998/p$ with the actual number.  Notably, 5 underperforms, while 11 overperforms.\n",
    " "
   ]
  },
  {
   "cell_type": "code",
   "execution_count": 6,
   "metadata": {},
   "outputs": [
    {
     "name": "stdout",
     "output_type": "stream",
     "text": [
      "p= 2, guess=  9999, actual=  8888\n",
      "p= 3, guess=  6666, actual=  6666\n",
      "p= 5, guess=  3999, actual=  2222\n",
      "p= 7, guess=  2856, actual=  2878\n",
      "p=11, guess=  1818, actual= 10907\n",
      "p=13, guess=  1538, actual=  1531\n",
      "p=17, guess=  1176, actual=  1172\n",
      "p=19, guess=  1052, actual=  1048\n",
      "p=23, guess=   869, actual=   868\n",
      "p=29, guess=   689, actual=   686\n"
     ]
    }
   ],
   "source": [
    "for p in sympy.primerange(1,30):\n",
    "    n_pal = 0\n",
    "    for i in palindrome.pal_div_iterator(p,1,10**8):\n",
    "        n_pal += 1\n",
    "    print(f\"p={p:2}, guess={19_998//p:6}, actual={n_pal:6}\")"
   ]
  },
  {
   "cell_type": "markdown",
   "metadata": {},
   "source": [
    "### The case of 81\n",
    "\n",
    "81 is an interesting number in that the first palindrome that is divisible by 81 is $10^9-1$.  This means that fractions with denominators that are multiples of 81 will be difficult to represent as sums of reciprocal palindromes. "
   ]
  },
  {
   "cell_type": "code",
   "execution_count": 7,
   "metadata": {},
   "outputs": [
    {
     "name": "stdout",
     "output_type": "stream",
     "text": [
      "999_999_999\n"
     ]
    }
   ],
   "source": [
    "for i in palindrome.pal_div_iterator(81,1,10**9):\n",
    "    print(f\"{i:_}\")"
   ]
  },
  {
   "cell_type": "markdown",
   "metadata": {},
   "source": [
    "### Palindrome divisors\n",
    "\n",
    "A useful function to discover reciprocal palindromic representation is to find all palindromes dividing a particular number."
   ]
  },
  {
   "cell_type": "code",
   "execution_count": 8,
   "metadata": {},
   "outputs": [
    {
     "name": "stdout",
     "output_type": "stream",
     "text": [
      "9_009\n",
      "10_101\n",
      "30_303\n",
      "90_909\n",
      "111_111\n",
      "333_333\n",
      "999_999\n"
     ]
    }
   ],
   "source": [
    "# find all palindromes larger than 6701 that divide 999,999.\n",
    "for i in palindrome.palindrome_divisors(10**6-1, 6701):\n",
    "    print(f\"{i:_}\")"
   ]
  },
  {
   "cell_type": "markdown",
   "metadata": {},
   "source": [
    "### Solutions to $\\frac{1}{a}+\\frac{1}{b}=\\frac{p}{q}$\n",
    "We iterate over all solutions to $$\\frac{1}{a}+\\frac{1}{b}=\\frac{p}{q}$$\n",
    "when $a\\leq b$, $a<b$ and when $a$ and $b$ are positive integers."
   ]
  },
  {
   "cell_type": "code",
   "execution_count": 9,
   "metadata": {},
   "outputs": [
    {
     "data": {
      "text/latex": [
       "$\\displaystyle \\frac{1}{6}=\\frac{1}{7}+\\frac{1}{42}$"
      ],
      "text/plain": [
       "<IPython.core.display.Math object>"
      ]
     },
     "metadata": {},
     "output_type": "display_data"
    },
    {
     "data": {
      "text/latex": [
       "$\\displaystyle \\frac{1}{6}=\\frac{1}{8}+\\frac{1}{24}$"
      ],
      "text/plain": [
       "<IPython.core.display.Math object>"
      ]
     },
     "metadata": {},
     "output_type": "display_data"
    },
    {
     "data": {
      "text/latex": [
       "$\\displaystyle \\frac{1}{6}=\\frac{1}{9}+\\frac{1}{18}$"
      ],
      "text/plain": [
       "<IPython.core.display.Math object>"
      ]
     },
     "metadata": {},
     "output_type": "display_data"
    },
    {
     "data": {
      "text/latex": [
       "$\\displaystyle \\frac{1}{6}=\\frac{1}{10}+\\frac{1}{15}$"
      ],
      "text/plain": [
       "<IPython.core.display.Math object>"
      ]
     },
     "metadata": {},
     "output_type": "display_data"
    },
    {
     "data": {
      "text/latex": [
       "$\\displaystyle \\frac{1}{6}=\\frac{1}{12}+\\frac{1}{12}$"
      ],
      "text/plain": [
       "<IPython.core.display.Math object>"
      ]
     },
     "metadata": {},
     "output_type": "display_data"
    }
   ],
   "source": [
    "r = Rational(1,6)\n",
    "for a,b in palindrome.reciprocal_pair_iterator_r(r):\n",
    "    display(Math(f\"{latex(r)}={latex(a)}+{latex(b)}\"))"
   ]
  },
  {
   "cell_type": "code",
   "execution_count": 10,
   "metadata": {},
   "outputs": [
    {
     "name": "stdout",
     "output_type": "stream",
     "text": [
      "1/6 = 1/7 + 1/42\n",
      "1/6 = 1/8 + 1/24\n",
      "1/6 = 1/9 + 1/18\n",
      "1/6 = 1/10 + 1/15\n"
     ]
    }
   ],
   "source": [
    "for a,b in palindrome.egyptian_pair_iterator(1,6):\n",
    "    print(f\"1/6 = 1/{a} + 1/{b}\")"
   ]
  },
  {
   "cell_type": "markdown",
   "metadata": {},
   "source": [
    "### A first egyptian palindromic representation of 1/n "
   ]
  },
  {
   "cell_type": "code",
   "execution_count": 11,
   "metadata": {},
   "outputs": [
    {
     "data": {
      "text/latex": [
       "$\\displaystyle \\frac{1}{18}=\\frac{1}{22}+\\frac{1}{99}$"
      ],
      "text/plain": [
       "<IPython.core.display.Math object>"
      ]
     },
     "metadata": {},
     "output_type": "display_data"
    },
    {
     "data": {
      "text/latex": [
       "$\\displaystyle \\frac{1}{24}=\\frac{1}{33}+\\frac{1}{88}$"
      ],
      "text/plain": [
       "<IPython.core.display.Math object>"
      ]
     },
     "metadata": {},
     "output_type": "display_data"
    },
    {
     "data": {
      "text/latex": [
       "$\\displaystyle \\frac{1}{28}=\\frac{1}{44}+\\frac{1}{77}$"
      ],
      "text/plain": [
       "<IPython.core.display.Math object>"
      ]
     },
     "metadata": {},
     "output_type": "display_data"
    },
    {
     "data": {
      "text/latex": [
       "$\\displaystyle \\frac{1}{30}=\\frac{1}{55}+\\frac{1}{66}$"
      ],
      "text/plain": [
       "<IPython.core.display.Math object>"
      ]
     },
     "metadata": {},
     "output_type": "display_data"
    },
    {
     "data": {
      "text/latex": [
       "$\\displaystyle \\frac{1}{64}=\\frac{1}{66}+\\frac{1}{2112}$"
      ],
      "text/plain": [
       "<IPython.core.display.Math object>"
      ]
     },
     "metadata": {},
     "output_type": "display_data"
    },
    {
     "data": {
      "text/latex": [
       "$\\displaystyle \\frac{1}{74}=\\frac{1}{111}+\\frac{1}{222}$"
      ],
      "text/plain": [
       "<IPython.core.display.Math object>"
      ]
     },
     "metadata": {},
     "output_type": "display_data"
    },
    {
     "data": {
      "text/latex": [
       "$\\displaystyle \\frac{1}{94}=\\frac{1}{141}+\\frac{1}{282}$"
      ],
      "text/plain": [
       "<IPython.core.display.Math object>"
      ]
     },
     "metadata": {},
     "output_type": "display_data"
    },
    {
     "data": {
      "text/latex": [
       "$\\displaystyle \\frac{1}{148}=\\frac{1}{222}+\\frac{1}{444}$"
      ],
      "text/plain": [
       "<IPython.core.display.Math object>"
      ]
     },
     "metadata": {},
     "output_type": "display_data"
    },
    {
     "data": {
      "text/latex": [
       "$\\displaystyle \\frac{1}{159}=\\frac{1}{212}+\\frac{1}{636}$"
      ],
      "text/plain": [
       "<IPython.core.display.Math object>"
      ]
     },
     "metadata": {},
     "output_type": "display_data"
    },
    {
     "data": {
      "text/latex": [
       "$\\displaystyle \\frac{1}{174}=\\frac{1}{232}+\\frac{1}{696}$"
      ],
      "text/plain": [
       "<IPython.core.display.Math object>"
      ]
     },
     "metadata": {},
     "output_type": "display_data"
    },
    {
     "data": {
      "text/latex": [
       "$\\displaystyle \\frac{1}{198}=\\frac{1}{202}+\\frac{1}{9999}$"
      ],
      "text/plain": [
       "<IPython.core.display.Math object>"
      ]
     },
     "metadata": {},
     "output_type": "display_data"
    },
    {
     "data": {
      "text/latex": [
       "$\\displaystyle \\frac{1}{231}=\\frac{1}{252}+\\frac{1}{2772}$"
      ],
      "text/plain": [
       "<IPython.core.display.Math object>"
      ]
     },
     "metadata": {},
     "output_type": "display_data"
    },
    {
     "data": {
      "text/latex": [
       "$\\displaystyle \\frac{1}{276}=\\frac{1}{414}+\\frac{1}{828}$"
      ],
      "text/plain": [
       "<IPython.core.display.Math object>"
      ]
     },
     "metadata": {},
     "output_type": "display_data"
    },
    {
     "data": {
      "text/latex": [
       "$\\displaystyle \\frac{1}{296}=\\frac{1}{444}+\\frac{1}{888}$"
      ],
      "text/plain": [
       "<IPython.core.display.Math object>"
      ]
     },
     "metadata": {},
     "output_type": "display_data"
    },
    {
     "data": {
      "text/latex": [
       "$\\displaystyle \\frac{1}{396}=\\frac{1}{444}+\\frac{1}{3663}$"
      ],
      "text/plain": [
       "<IPython.core.display.Math object>"
      ]
     },
     "metadata": {},
     "output_type": "display_data"
    },
    {
     "data": {
      "text/latex": [
       "$\\displaystyle \\frac{1}{407}=\\frac{1}{444}+\\frac{1}{4884}$"
      ],
      "text/plain": [
       "<IPython.core.display.Math object>"
      ]
     },
     "metadata": {},
     "output_type": "display_data"
    },
    {
     "data": {
      "text/latex": [
       "$\\displaystyle \\frac{1}{462}=\\frac{1}{858}+\\frac{1}{1001}$"
      ],
      "text/plain": [
       "<IPython.core.display.Math object>"
      ]
     },
     "metadata": {},
     "output_type": "display_data"
    },
    {
     "data": {
      "text/latex": [
       "$\\displaystyle \\frac{1}{504}=\\frac{1}{616}+\\frac{1}{2772}$"
      ],
      "text/plain": [
       "<IPython.core.display.Math object>"
      ]
     },
     "metadata": {},
     "output_type": "display_data"
    },
    {
     "data": {
      "text/latex": [
       "$\\displaystyle \\frac{1}{572}=\\frac{1}{616}+\\frac{1}{8008}$"
      ],
      "text/plain": [
       "<IPython.core.display.Math object>"
      ]
     },
     "metadata": {},
     "output_type": "display_data"
    },
    {
     "data": {
      "text/latex": [
       "$\\displaystyle \\frac{1}{583}=\\frac{1}{636}+\\frac{1}{6996}$"
      ],
      "text/plain": [
       "<IPython.core.display.Math object>"
      ]
     },
     "metadata": {},
     "output_type": "display_data"
    },
    {
     "data": {
      "text/latex": [
       "$\\displaystyle \\frac{1}{756}=\\frac{1}{777}+\\frac{1}{27972}$"
      ],
      "text/plain": [
       "<IPython.core.display.Math object>"
      ]
     },
     "metadata": {},
     "output_type": "display_data"
    },
    {
     "data": {
      "text/latex": [
       "$\\displaystyle \\frac{1}{814}=\\frac{1}{1221}+\\frac{1}{2442}$"
      ],
      "text/plain": [
       "<IPython.core.display.Math object>"
      ]
     },
     "metadata": {},
     "output_type": "display_data"
    },
    {
     "data": {
      "text/latex": [
       "$\\displaystyle \\frac{1}{822}=\\frac{1}{858}+\\frac{1}{19591}$"
      ],
      "text/plain": [
       "<IPython.core.display.Math object>"
      ]
     },
     "metadata": {},
     "output_type": "display_data"
    },
    {
     "data": {
      "text/latex": [
       "$\\displaystyle \\frac{1}{847}=\\frac{1}{858}+\\frac{1}{66066}$"
      ],
      "text/plain": [
       "<IPython.core.display.Math object>"
      ]
     },
     "metadata": {},
     "output_type": "display_data"
    }
   ],
   "source": [
    "# find all unit reciprocals with a denominator below 1000 \n",
    "# that has an eqyptian palindromic representation with 2 terms.\n",
    "for i in range(10,1000):\n",
    "    if not is_palindromic(i):\n",
    "        r = Rational(1,i)\n",
    "        for a,b in palindrome.egyptian_pal_pair_iterator_r(r):\n",
    "            display(Math(f\"{latex(r)}={latex(a)}+{latex(b)}\"))"
   ]
  },
  {
   "cell_type": "markdown",
   "metadata": {},
   "source": [
    "### Solutions to $\\sum_i \\frac{1}{a_i}=\\frac{p}{q}$\n",
    "We iterate over all solutions to $$\\sum_{i=1}^k \\frac{1}{a_i}=\\frac{p}{q}$$ for small values of $k$ when $a\\leq b$, $a<b$ and when $a$ and $b$ are palindromes.\n",
    "\n",
    "#### Are you smarter than a fifth-grader?\n",
    "An interesting problem to solve is \n",
    "$$1 = \\frac{1}{a}+\\frac{1}{b}+\\frac{1}{c}+\\frac{1}{d}+\\frac{1}{e}$$\n",
    "with $a,b,c,d,e$ distinct.  This problem was posed to a fifth grade class.  Our code can iterate over *all solutions* to this problem.  It's also interesting to see the solutions where $a,b,c,d,e$ are all palindromes."
   ]
  },
  {
   "cell_type": "code",
   "execution_count": 12,
   "metadata": {},
   "outputs": [
    {
     "name": "stdout",
     "output_type": "stream",
     "text": [
      "Number of solutions: 72\n"
     ]
    }
   ],
   "source": [
    "count = 0\n",
    "for sol in palindrome.egyptian_iterator(1,1,5):\n",
    "    count += 1\n",
    "print(f\"Number of solutions: {count}\")"
   ]
  },
  {
   "cell_type": "code",
   "execution_count": 13,
   "metadata": {},
   "outputs": [
    {
     "data": {
      "text/latex": [
       "$\\displaystyle 1=\\frac{1}{2}+\\frac{1}{3}+\\frac{1}{8}+\\frac{1}{33}+\\frac{1}{88}$"
      ],
      "text/plain": [
       "<IPython.core.display.Math object>"
      ]
     },
     "metadata": {},
     "output_type": "display_data"
    },
    {
     "data": {
      "text/latex": [
       "$\\displaystyle 1=\\frac{1}{2}+\\frac{1}{3}+\\frac{1}{9}+\\frac{1}{22}+\\frac{1}{99}$"
      ],
      "text/plain": [
       "<IPython.core.display.Math object>"
      ]
     },
     "metadata": {},
     "output_type": "display_data"
    },
    {
     "data": {
      "text/latex": [
       "$\\displaystyle 1=\\frac{1}{2}+\\frac{1}{3}+\\frac{1}{11}+\\frac{1}{22}+\\frac{1}{33}$"
      ],
      "text/plain": [
       "<IPython.core.display.Math object>"
      ]
     },
     "metadata": {},
     "output_type": "display_data"
    }
   ],
   "source": [
    "# palindromic solutions\n",
    "for sol in palindrome.egyptian_pal_iterator_r(Rational(1,1),5):\n",
    "    display(Math(f\"1={'+'.join([latex(p) for p in sol])}\"))"
   ]
  },
  {
   "cell_type": "code",
   "execution_count": 14,
   "metadata": {},
   "outputs": [
    {
     "data": {
      "text/latex": [
       "$\\displaystyle \\frac{1}{11}=\\frac{1}{22}+\\frac{1}{33}+\\frac{1}{66}$"
      ],
      "text/plain": [
       "<IPython.core.display.Math object>"
      ]
     },
     "metadata": {},
     "output_type": "display_data"
    },
    {
     "data": {
      "text/latex": [
       "$\\displaystyle \\frac{1}{12}=\\frac{1}{22}+\\frac{1}{44}+\\frac{1}{66}$"
      ],
      "text/plain": [
       "<IPython.core.display.Math object>"
      ]
     },
     "metadata": {},
     "output_type": "display_data"
    },
    {
     "data": {
      "text/latex": [
       "$\\displaystyle \\frac{1}{13}=\\frac{1}{22}+\\frac{1}{33}+\\frac{1}{858}$"
      ],
      "text/plain": [
       "<IPython.core.display.Math object>"
      ]
     },
     "metadata": {},
     "output_type": "display_data"
    },
    {
     "data": {
      "text/latex": [
       "$\\displaystyle \\frac{1}{18}=\\frac{1}{33}+\\frac{1}{66}+\\frac{1}{99}$"
      ],
      "text/plain": [
       "<IPython.core.display.Math object>"
      ]
     },
     "metadata": {},
     "output_type": "display_data"
    },
    {
     "data": {
      "text/latex": [
       "$\\displaystyle \\frac{1}{21}=\\frac{1}{22}+\\frac{1}{858}+\\frac{1}{1001}$"
      ],
      "text/plain": [
       "<IPython.core.display.Math object>"
      ]
     },
     "metadata": {},
     "output_type": "display_data"
    },
    {
     "data": {
      "text/latex": [
       "$\\displaystyle \\frac{1}{28}=\\frac{1}{44}+\\frac{1}{88}+\\frac{1}{616}$"
      ],
      "text/plain": [
       "<IPython.core.display.Math object>"
      ]
     },
     "metadata": {},
     "output_type": "display_data"
    },
    {
     "data": {
      "text/latex": [
       "$\\displaystyle \\frac{1}{29}=\\frac{1}{44}+\\frac{1}{88}+\\frac{1}{2552}$"
      ],
      "text/plain": [
       "<IPython.core.display.Math object>"
      ]
     },
     "metadata": {},
     "output_type": "display_data"
    },
    {
     "data": {
      "text/latex": [
       "$\\displaystyle \\frac{1}{36}=\\frac{1}{44}+\\frac{1}{202}+\\frac{1}{9999}$"
      ],
      "text/plain": [
       "<IPython.core.display.Math object>"
      ]
     },
     "metadata": {},
     "output_type": "display_data"
    },
    {
     "data": {
      "text/latex": [
       "$\\displaystyle \\frac{1}{52}=\\frac{1}{66}+\\frac{1}{252}+\\frac{1}{9009}$"
      ],
      "text/plain": [
       "<IPython.core.display.Math object>"
      ]
     },
     "metadata": {},
     "output_type": "display_data"
    },
    {
     "data": {
      "text/latex": [
       "$\\displaystyle \\frac{1}{66}=\\frac{1}{77}+\\frac{1}{858}+\\frac{1}{1001}$"
      ],
      "text/plain": [
       "<IPython.core.display.Math object>"
      ]
     },
     "metadata": {},
     "output_type": "display_data"
    },
    {
     "data": {
      "text/latex": [
       "$\\displaystyle \\frac{1}{66}=\\frac{1}{99}+\\frac{1}{202}+\\frac{1}{9999}$"
      ],
      "text/plain": [
       "<IPython.core.display.Math object>"
      ]
     },
     "metadata": {},
     "output_type": "display_data"
    },
    {
     "data": {
      "text/latex": [
       "$\\displaystyle \\frac{1}{66}=\\frac{1}{101}+\\frac{1}{202}+\\frac{1}{3333}$"
      ],
      "text/plain": [
       "<IPython.core.display.Math object>"
      ]
     },
     "metadata": {},
     "output_type": "display_data"
    },
    {
     "data": {
      "text/latex": [
       "$\\displaystyle \\frac{1}{66}=\\frac{1}{121}+\\frac{1}{242}+\\frac{1}{363}$"
      ],
      "text/plain": [
       "<IPython.core.display.Math object>"
      ]
     },
     "metadata": {},
     "output_type": "display_data"
    },
    {
     "data": {
      "text/latex": [
       "$\\displaystyle \\frac{1}{72}=\\frac{1}{88}+\\frac{1}{444}+\\frac{1}{3663}$"
      ],
      "text/plain": [
       "<IPython.core.display.Math object>"
      ]
     },
     "metadata": {},
     "output_type": "display_data"
    },
    {
     "data": {
      "text/latex": [
       "$\\displaystyle \\frac{1}{74}=\\frac{1}{99}+\\frac{1}{333}+\\frac{1}{2442}$"
      ],
      "text/plain": [
       "<IPython.core.display.Math object>"
      ]
     },
     "metadata": {},
     "output_type": "display_data"
    },
    {
     "data": {
      "text/latex": [
       "$\\displaystyle \\frac{1}{74}=\\frac{1}{111}+\\frac{1}{333}+\\frac{1}{666}$"
      ],
      "text/plain": [
       "<IPython.core.display.Math object>"
      ]
     },
     "metadata": {},
     "output_type": "display_data"
    },
    {
     "data": {
      "text/latex": [
       "$\\displaystyle \\frac{1}{88}=\\frac{1}{101}+\\frac{1}{808}+\\frac{1}{4444}$"
      ],
      "text/plain": [
       "<IPython.core.display.Math object>"
      ]
     },
     "metadata": {},
     "output_type": "display_data"
    },
    {
     "data": {
      "text/latex": [
       "$\\displaystyle \\frac{1}{99}=\\frac{1}{111}+\\frac{1}{1221}+\\frac{1}{3663}$"
      ],
      "text/plain": [
       "<IPython.core.display.Math object>"
      ]
     },
     "metadata": {},
     "output_type": "display_data"
    },
    {
     "name": "stdout",
     "output_type": "stream",
     "text": [
      "CPU times: total: 188 ms\n",
      "Wall time: 216 ms\n"
     ]
    }
   ],
   "source": [
    "%%time\n",
    "# egyptian palindromic representations of 1/n with 3 terms.\n",
    "for i in range(10,100):\n",
    "    r = Rational(1,i)\n",
    "    for sol in palindrome.egyptian_pal_iterator_r(r,3):\n",
    "        display(Math(f\"{latex(r)}={'+'.join([latex(p) for p in sol])}\"))"
   ]
  },
  {
   "cell_type": "markdown",
   "metadata": {},
   "source": [
    "# Example usage of Registries"
   ]
  },
  {
   "cell_type": "code",
   "execution_count": 15,
   "metadata": {},
   "outputs": [],
   "source": [
    "from registry import EgyptianRegistry, PalindromeRegistry\n",
    "er = EgyptianRegistry()\n",
    "pr = PalindromeRegistry()"
   ]
  },
  {
   "cell_type": "code",
   "execution_count": 16,
   "metadata": {},
   "outputs": [
    {
     "name": "stdout",
     "output_type": "stream",
     "text": [
      "1/10 = 1/22 + 3/55\n",
      "1/11 = 1/11\n",
      "1/12 = 2/33 + 1/44\n",
      "1/13 = 1/22 + 1/33 + 1/858\n",
      "1/14 = 1/22 + 2/77\n",
      "1/15 = 1/33 + 2/55\n",
      "1/16 = 1/22 + 2/121 + 1/2112 + 1/23232\n",
      "1/17 = 1/55 + 3/77 + 1/595\n",
      "1/18 = 1/22 + 1/99\n",
      "1/19 = 1/33 + 1/99 + 2/171 + 1/1881\n",
      "1/20 = 2/55 + 1/77 + 1/4004 + 2/5005\n",
      "1/21 = 1/22 + 1/858 + 1/1001\n",
      "1/22 = 1/22\n",
      "1/23 = 1/33 + 1/99 + 1/414 + 3/4554\n",
      "1/24 = 1/33 + 1/88\n",
      "1/25 = 1/33 + 1/252 + 1/404 + 1/505 + 1/909 + 1/5775\n",
      "1/26 = 1/44 + 1/66 + 1/3003 + 1/4004\n",
      "1/27 = 1/44 + 1/77 + 1/777 + 1/27972\n",
      "1/28 = 1/44 + 1/77\n",
      "1/29 = 1/44 + 1/88 + 1/2552\n",
      "1/30 = 1/55 + 1/66\n",
      "1/31 = 1/66 + 1/77 + 1/252 + 1/6776 + 1/270072\n",
      "1/32 = 1/33 + 2/2112\n",
      "1/33 = 1/33\n",
      "1/34 = 1/44 + 1/242 + 1/484 + 2/4114\n",
      "1/35 = 1/44 + 1/252 + 1/585 + 1/6006\n",
      "1/36 = 1/44 + 1/202 + 1/9999\n",
      "1/37 = 3/111\n",
      "1/38 = 1/66 + 1/99 + 2/1881\n",
      "1/39 = 1/44 + 1/616 + 1/858 + 1/8008\n",
      "1/40 = 1/44 + 1/505 + 1/5555 + 1/8888\n",
      "1/41 = 1/77 + 1/99 + 1/777 + 1/81918 + 1/333333 + 1/81999918\n",
      "1/42 = 1/44 + 1/2002 + 1/3003 + 1/4004\n",
      "1/43 = 1/44 + 1/2002 + 1/60006 + 1/80808 + 1/2100330012 + 1/4200660024\n",
      "1/44 = 1/44\n",
      "1/45 = 1/55 + 1/585 + 2/858\n",
      "1/46 = 1/77 + 1/161 + 1/828 + 1/858 + 1/6006 + 1/828828\n",
      "1/47 = 3/141\n",
      "1/48 = 2/99 + 1/2112 + 1/6336\n",
      "1/49 = 1/66 + 1/252 + 1/777 + 1/999999 + 1/2545452\n",
      "1/50 = 1/55 + 1/909 + 1/1551 + 1/14241 + 1/529925 + 1/819918\n",
      "1/51 = 1/99 + 1/171 + 1/323 + 2/3553\n",
      "1/52 = 1/66 + 1/252 + 1/9009\n",
      "1/53 = 4/212\n",
      "1/54 = 2/111 + 1/2002 + 1/999999\n",
      "1/55 = 1/55\n",
      "1/56 = 1/88 + 1/252 + 1/444 + 1/3663\n",
      "1/57 = 3/171\n",
      "1/58 = 4/232\n",
      "1/59 = 1/66 + 1/585 + 1/20202 + 1/50505 + 1/55755 + 1/999999\n",
      "1/60 = 1/111 + 1/444 + 3/555\n",
      "1/61 = 1/101 + 1/171 + 1/1881 + 1/8888 + 1/4214124 + 1/8428248\n",
      "1/62 = 1/66 + 1/2002 + 1/3003 + 1/7007 + 1/434434\n",
      "1/63 = 1/66 + 2/2772\n",
      "1/64 = 1/66 + 1/2112\n",
      "1/65 = 1/66 + 1/5005 + 1/55055 + 1/66066\n",
      "1/66 = 1/66\n",
      "1/67 = 1/77 + 1/616 + 1/6776 + 1/7007 + 1/77077 + 1/85358\n",
      "1/68 = 4/272\n",
      "1/69 = 1/77 + 1/1771 + 2/2772 + 1/4554\n",
      "1/70 = 1/99 + 1/252 + 1/5445 + 1/44044 + 1/99099\n",
      "1/71 = 1/101 + 1/505 + 2/1111 + 2/5335 + 2/75757 + 1/538835\n",
      "1/72 = 1/88 + 1/444 + 1/3663\n",
      "1/73 = 4/292\n",
      "1/74 = 1/111 + 1/222\n",
      "1/75 = 1/77 + 2/5775\n",
      "1/76 = 1/99 + 1/444 + 1/1881 + 1/3663\n",
      "1/77 = 1/77\n",
      "1/78 = 1/88 + 1/696 + 1/63336 + 1/232232\n",
      "1/79 = 1/88 + 1/858 + 1/8008 + 2/474474\n",
      "1/80 = 1/202 + 1/232 + 1/505 + 1/808 + 1/46864\n",
      "1/81 = 1/111 + 1/333 + 1/3003 + 1/2002002 + 1/6006006 + 1/3006006003 + 1/4008008004 + 1/20222222202 + 1/27999999972\n",
      "1/82 = 1/99 + 1/606 + 1/2552 + 1/23432 + 1/117711 + 1/1080801\n",
      "1/83 = 9/747\n",
      "1/84 = 3/252\n",
      "1/85 = 1/88 + 1/4114 + 1/8008 + 1/54145 + 1/77077 + 1/595595\n",
      "1/86 = 1/88 + 1/4664 + 1/23532 + 2/401104 + 1/420024\n",
      "1/87 = 1/88 + 1/8008 + 1/232232 + 1/696696\n",
      "1/88 = 1/88\n",
      "1/89 = 1/99 + 1/909 + 1/33033 + 1/378873 + 1/979979 + 1/1112111 + 1/316565613\n",
      "1/90 = 1/222 + 1/333 + 2/555\n",
      "1/91 = 1/99 + 2/2772 + 1/6006\n",
      "1/92 = 4/414 + 1/828\n",
      "1/93 = 1/101 + 1/1331 + 1/9999 + 1/2970792 + 1/27277272\n",
      "1/94 = 1/141 + 1/282\n",
      "1/95 = 1/99 + 1/4884 + 1/8778 + 1/18981 + 1/27972 + 1/54945\n",
      "1/96 = 1/99 + 2/6336\n",
      "1/97 = 1/111 + 1/777 + 1/111111 + 1/241142 + 3/26766762 + 2/221434122\n",
      "1/98 = 1/99 + 1/9999 + 1/606606 + 1/707707\n",
      "1/99 = 1/99\n"
     ]
    }
   ],
   "source": [
    "for i in range(10,100):\n",
    "    print(pr.display(i))"
   ]
  },
  {
   "cell_type": "code",
   "execution_count": 17,
   "metadata": {},
   "outputs": [
    {
     "name": "stdout",
     "output_type": "stream",
     "text": [
      "Hardest cases for i between 100 and 1000\n",
      "1/243 = 1/333 + 1/949 + 1/19491 + 7/1001001 + 1/9009009 + 2/33033033 + 2/333333333 + 2/757757757 + 1/949949949 + 2/979979979 + 2/3666666663 + 1/3000000003000000003 + 1/9000000009000000009 + 2/99000000099000000099 + 1/111000000111000000111 + 1/3663000003663000003663 + 1/72927000072927000072927 + 9/1001001001001001001001001 + 1/3003003003003003003003003 + 1/33033033033033033033033033 + 1/99099099099099099099099099 + 1/111111111111111111111111111 + 1/949949949949949949949949949 + 3/979979979979979979979979979 + 2/999999999999999999999999999 + 6/72999999999999999999999999927 + 11/929070999999999999999999999070929 [65]\n",
      "1/461 = 62/28582 [62]\n",
      "1/486 = 1/666 + 1/2442 + 1/7117 + 4/789987 + 1/1001001 + 1/33033033 + 3/412373214 + 1/757757757 + 1/1222222221 + 40/71888888817 + 4/412785999587214 + 40/1000000001000000001 + 1/2000000002000000002 + 1/33000000033000000033 + 1/222000000222000000222 + 1/999000000999000000999 + 1/7117000007117000007117 + 7/71817000071817000071817 + 8/789987000789987000789987 + 1/2002002002002002002002002 + 1/33033033033033033033033033 + 1/333333333333333333333333333 + 1/412373214412373214412373214 + 1/999999999999999999999999999 + 2/3666666666666666666666666663 + 8/71888888888888888888888888817 + 16/412785999999999999999999999587214 [149]\n",
      "1/577 = 1/777 + 3/10101 + 5/34043 + 8/3778773 + 38/343868343 [55]\n",
      "1/625 = 1/1001 + 3/5005 + 8/5260625 + 4/57866875 + 45/5265885625 [61]\n",
      "1/634 = 11/10001 + 23/48184 + 29/481888184 [63]\n",
      "1/673 = 92/61916 [92]\n",
      "1/729 = 2/1881 + 1/9009 + 4/31713 + 3/171171 + 51/954459 + 62/162171261 + 8/1783883871 + 4/782176757671287 + 22/71178084948087117 [157]\n",
      "1/823 = 24/20302 + 2/60906 + 64/802010208 [90]\n",
      "1/877 = 1/1001 + 1/7777 + 1/101101 + 3/1112111 + 27/351141153 + 18/3227338337223 [51]\n",
      "1/887 = 10/10001 + 4/50005 + 1/110011 + 16/536635 + 2/550055 + 6/1210121 + 22/5366886635 [61]\n",
      "1/907 = 1/1111 + 1/8888 + 1/16261 + 5/178871 + 12/25700752 + 46/2595775952 [66]\n",
      "1/972 = 1/999 + 2/81918 + 3/1001001 + 1/3003003 + 6/111111111 + 1/262262262 + 1/666666666 + 1/757757757 + 1/14555555541 + 1/18999999981 + 14/81999999918 + 29/408195999591804 + 69/1000000001000000001 + 4/111000000111000000111 + 1/393000000393000000393 + 5/14541000014541000014541 + 1/81918000081918000081918 + 1/3003003003003003003003003 + 7/131131131131131131131131131 + 1/999999999999999999999999999 + 1/18999999999999999999999999981 + 5/81999999999999999999999999918 [156]\n",
      "1/983 = 1/1001 + 38/2127212 + 10/23399332 + 4/2129339212 [53]\n",
      "1/985 = 1/1111 + 1/9999 + 80/5310135 + 3/58411485 + 6/536323635 + 2/5899559985 [93]\n"
     ]
    }
   ],
   "source": [
    "print(\"Hardest cases for i between 100 and 1000\")\n",
    "for i in range(100,1000):\n",
    "    if pr.score[i] > 50:\n",
    "        print(pr.display(i, score=True))"
   ]
  },
  {
   "cell_type": "code",
   "execution_count": 18,
   "metadata": {},
   "outputs": [
    {
     "name": "stdout",
     "output_type": "stream",
     "text": [
      "1/71 = 1/77 + 1/2002 + 1/3003 + 1/4004 + 1/67876 + 1/3333333 + 1/6176716 + 1/24444442 + 1/202222202 + 1/404444404 [10]\n",
      "1/81 = 1/88 + 1/1551 + 1/3663 + 1/15651 + 1/6006006 + 1/8008008 + 1/11011011 + 1/99099099 + 1/141141141 + 1/333333333 + 1/999999999 [11]\n",
      "1/83 = 1/88 + 1/3003 + 1/6776 + 1/9009 + 1/21912 + 1/39093 + 1/48984 + 1/747747 + 1/143484341 [9]\n",
      "1/97 = 1/101 + 1/4884 + 1/6666 + 1/22422 + 1/241142 + 1/246642 + 1/2214122 + 1/4428244 + 1/24355342 + 1/245767542 [10]\n"
     ]
    }
   ],
   "source": [
    "# Hardest Egyptian representations under 100\n",
    "for i in range(10,100):\n",
    "    r = Rational(1,i)\n",
    "    if er.score[r] > 8:\n",
    "        print(er.display(r, score=True))"
   ]
  },
  {
   "cell_type": "code",
   "execution_count": 19,
   "metadata": {},
   "outputs": [
    {
     "name": "stdout",
     "output_type": "stream",
     "text": [
      "1/597 = 1/1221 + 1/1331 + 1/11011 + 1/111111 + 1/363363 + 1/1222221 + 1/1233321 + 1/3033303 + 1/11122111 + 1/14788741 + 1/33366333 + 1/112232211 + 1/1234554321 + 1/112100001211 + 1/1121010101211 + 1/10201100110201 + 1/12443100134421 + 1/30603300330603 + 1/1132322112232311 [19]\n",
      "1/639 = 1/909 + 1/3333 + 1/9999 + 1/17271 + 1/156651 + 1/3000003 + 1/11000011 + 1/22000022 + 1/66000066 + 1/99000099 + 1/110131011 + 1/171000171 + 1/1881001881 + 1/2422882242 + 1/8954444598 + 1/11123232111 + 1/22246464222 + 1/1211442332441121 + 1/2422884664882242 [19]\n",
      "1/647 = 1/1001 + 1/3003 + 1/10101 + 1/11211 + 1/71817 + 1/111111 + 1/789987 + 1/1020201 + 1/11000011 + 1/11222211 + 1/33000033 + 1/77000077 + 1/777000777 + 1/3003003003 + 1/7117007117 + 1/10101010101 + 1/71817071817 + 1/789987789987 + 1/71888888888817 [19]\n",
      "1/875 = 1/3003 + 1/5005 + 1/5445 + 1/5775 + 1/9009 + 1/11011 + 1/55055 + 1/57375 + 1/100001 + 1/300003 + 1/900009 + 1/1100011 + 1/3300033 + 1/7700077 + 1/52500525 + 1/59500595 + 1/300303003 + 1/500505005 + 1/577505775 + 1/900909009 + 1/5737557375 [21]\n",
      "1/958 = 1/2002 + 1/4114 + 1/8228 + 1/11011 + 1/31213 + 1/33033 + 1/87178 + 1/93639 + 1/686686 + 1/858858 + 1/2004002 + 1/2334332 + 1/3006003 + 1/3776773 + 1/4008004 + 1/18699681 + 1/212424212 + 1/23116022061132 + 1/254276242672452 [19]\n"
     ]
    }
   ],
   "source": [
    "# Hardest Egyptian representations between 100 and 1000\n",
    "for i in range(100,1000):\n",
    "    r = Rational(1,i)\n",
    "    if r in er.score and (er.score[r] > 18):\n",
    "        print(er.display(r, score=True))"
   ]
  },
  {
   "cell_type": "code",
   "execution_count": 20,
   "metadata": {},
   "outputs": [
    {
     "name": "stdout",
     "output_type": "stream",
     "text": [
      "[243, 347, 379, 389, 401, 419, 421, 433, 449, 461, 466, 486, 491, 547, 571, 577, 587, 593, 607, 613, 617, 622, 625, 631, 634, 641, 643, 653, 661, 662, 673, 674, 677, 691, 698, 701, 719, 723, 729, 733, 734, 743, 751, 753, 758, 761, 766, 769, 773, 778, 794, 809, 811, 821, 823, 827, 839, 841, 842, 853, 857, 859, 862, 866, 877, 887, 907, 911, 922, 937, 953, 971, 972, 977, 982, 983, 985, 997]\n"
     ]
    }
   ],
   "source": [
    "# Actual cases we haven't solved yet.\n",
    "missing = []\n",
    "for i in range(100,1000):\n",
    "    r = Rational(1,i)\n",
    "    if r not in er.score:\n",
    "        missing.append(i)\n",
    "print(missing)"
   ]
  },
  {
   "cell_type": "code",
   "execution_count": 21,
   "metadata": {},
   "outputs": [
    {
     "name": "stdout",
     "output_type": "stream",
     "text": [
      "3/5 = 1/2 + 1/11 + 1/121 + 1/2662 + 1/3993 + 1/5445 + 1/59895 [7]\n",
      "4/5 = 1/2 + 1/6 + 1/9 + 1/66 + 1/242 + 1/363 + 1/5445 [7]\n",
      "8/5 = 1 + 1/2 + 1/11 + 1/121 + 1/2662 + 1/3993 + 1/5445 + 1/59895 [8]\n",
      "9/5 = 1 + 1/2 + 1/6 + 1/9 + 1/66 + 1/242 + 1/363 + 1/5445 [8]\n"
     ]
    }
   ],
   "source": [
    "for r in palindrome.farey_sequence(10):\n",
    "    if r not in er.score:\n",
    "        print(f\"{r} not in registry\")\n",
    "    if r in er.score and (er.score[r] > 6):\n",
    "        print(er.display(r,score=True))"
   ]
  },
  {
   "cell_type": "code",
   "execution_count": 22,
   "metadata": {},
   "outputs": [
    {
     "name": "stdout",
     "output_type": "stream",
     "text": [
      "16/89 = 1/9 + 1/33 + 1/55 + 1/101 + 1/363 + 1/555 + 1/777 + 1/979 + 1/1001 + 1/1111 + 1/1221 + 1/1661 + 1/16761 + 1/33033 + 1/543345 + 1/979979 + 1/5976795 + 1/10200201 + 1/30600603 + 1/93600639 + 1/112202211 + 1/336606633 + 1/1132222311 + 1/3090660903 + 1/11332423311 + 1/12454445421 + 1/114354453411 + 1/1257898987521 [28]\n",
      "19/97 = 1/9 + 1/33 + 1/55 + 1/66 + 1/101 + 1/222 + 1/303 + 1/505 + 1/1221 + 1/5335 + 1/5555 + 1/9999 + 1/10001 + 1/49494 + 1/60006 + 1/110011 + 1/220022 + 1/482284 + 1/538835 + 1/729927 + 1/3030303 + 1/9090909 + 1/26766762 + 1/48844884 + 1/53355335 + 1/99999999 + 1/2411661142 + 1/5388888835 + 1/24335853342 [29]\n",
      "19/71 = 1/7 + 1/11 + 1/77 + 1/121 + 1/171 + 1/363 + 1/616 + 1/939 + 1/1001 + 1/8778 + 1/22022 + 1/33033 + 1/34743 + 1/37873 + 1/44044 + 1/63536 + 1/88088 + 1/698896 + 1/1222221 + 1/1882881 + 1/3161613 + 1/18822881 + 1/34777743 + 1/40599504 + 1/63599536 + 1/189939981 [26]\n",
      "24/71 = 1/6 + 1/7 + 1/77 + 1/101 + 1/313 + 1/1001 + 1/1111 + 1/4774 + 1/7007 + 1/8778 + 1/37873 + 1/77077 + 1/83638 + 1/347743 + 1/1000001 + 1/1711171 + 1/3446443 + 1/11000011 + 1/18822881 + 1/31644613 + 1/77000077 + 1/3443003443 + 1/11011011011 + 1/34123232143 + 1/37873037873 + 1/77077077077 + 1/1711172711171 + 1/18822899822881 + 1/1712883883882171 [29]\n",
      "34/71 = 1/3 + 1/11 + 1/33 + 1/99 + 1/222 + 1/313 + 1/626 + 1/777 + 1/1001 + 1/1221 + 1/1551 + 1/1771 + 1/3663 + 1/6886 + 1/10101 + 1/18981 + 1/68586 + 1/90909 + 1/111111 + 1/141141 + 1/313313 + 1/1424241 + 1/18999981 + 1/110131011 + 1/189939981 + 1/330393033 + 1/1211441121 + 1/1112433342111 [28]\n",
      "35/71 = 1/6 + 1/8 + 1/9 + 1/22 + 1/66 + 1/77 + 1/141 + 1/292 + 1/494 + 1/858 + 1/1001 + 1/1881 + 1/2002 + 1/2112 + 1/6006 + 1/7007 + 1/66066 + 1/82928 + 1/84348 + 1/121121 + 1/141141 + 1/171171 + 1/297792 + 1/616616 + 1/880088 + 1/990099 + 1/27422472 + 1/63366336 + 1/1211441121 + 1/27449894472 + 1/232596695232 [31]\n",
      "41/71 = 1/3 + 1/8 + 1/11 + 1/77 + 1/99 + 1/494 + 1/777 + 1/1551 + 1/2002 + 1/3663 + 1/6006 + 1/7007 + 1/18981 + 1/66066 + 1/90909 + 1/121121 + 1/141141 + 1/616616 + 1/1424241 + 1/18999981 + 1/27422472 + 1/110131011 + 1/330393033 + 1/1211441121 + 1/27449894472 + 1/1112433342111 [26]\n",
      "44/71 = 1/6 + 1/7 + 1/8 + 1/11 + 1/22 + 1/44 + 1/66 + 1/141 + 1/858 + 1/1001 + 1/1881 + 1/2222 + 1/4444 + 1/4774 + 1/8008 + 1/8778 + 1/83638 + 1/84348 + 1/141141 + 1/171171 + 1/297792 + 1/4842484 + 1/9386839 + 1/1211441121 + 1/2423663242 + 1/232596695232 [26]\n",
      "49/71 = 1/2 + 1/8 + 1/33 + 1/44 + 1/222 + 1/313 + 1/626 + 1/1001 + 1/1221 + 1/1771 + 1/6886 + 1/10101 + 1/20002 + 1/29592 + 1/40004 + 1/68586 + 1/80008 + 1/82928 + 1/84348 + 1/90009 + 1/111111 + 1/313313 + 1/330033 + 1/1539351 + 1/21122112 + 1/63366336 + 1/189939981 [27]\n",
      "67/89 = 1/2 + 1/8 + 1/11 + 1/99 + 1/111 + 1/121 + 1/151 + 1/979 + 1/1661 + 1/1771 + 1/2112 + 1/6336 + 1/23232 + 1/33033 + 1/151151 + 1/657756 + 1/1222221 + 1/1525251 + 1/3666663 + 1/10200201 + 1/16777761 + 1/20400402 + 1/40800804 + 1/336606633 + 1/448808844 + 1/12454445421 + 1/21542824512 [27]\n",
      "60/71 = 1/2 + 1/6 + 1/8 + 1/44 + 1/77 + 1/171 + 1/323 + 1/434 + 1/494 + 1/646 + 1/858 + 1/969 + 1/2002 + 1/20002 + 1/29592 + 1/40004 + 1/80008 + 1/82928 + 1/83638 + 1/84348 + 1/90009 + 1/330033 + 1/1539351 + 1/8755578 + 1/21122112 + 1/63366336 [26]\n",
      "62/71 = 1/3 + 1/4 + 1/7 + 1/11 + 1/77 + 1/88 + 1/99 + 1/111 + 1/292 + 1/313 + 1/363 + 1/777 + 1/1221 + 1/3003 + 1/3443 + 1/7227 + 1/10001 + 1/11011 + 1/20002 + 1/29592 + 1/30003 + 1/33033 + 1/34743 + 1/37873 + 1/60006 + 1/84348 + 1/90009 + 1/330033 + 1/1539351 + 1/3161613 + 1/189939981 [31]\n",
      "65/71 = 1/2 + 1/4 + 1/11 + 1/33 + 1/44 + 1/99 + 1/333 + 1/363 + 1/777 + 1/888 + 1/999 + 1/1001 + 1/2112 + 1/3003 + 1/3663 + 1/7007 + 1/37873 + 1/63936 + 1/84348 + 1/313313 + 1/939939 + 1/1711171 + 1/3161613 + 1/3446443 + 1/18822881 + 1/1712882171 [26]\n",
      "100/83 = 1/2 + 1/3 + 1/6 + 1/8 + 1/33 + 1/44 + 1/88 + 1/121 + 1/292 + 1/747 + 1/858 + 1/3003 + 1/4004 + 1/6006 + 1/6776 + 1/9009 + 1/10001 + 1/21912 + 1/39093 + 1/48984 + 1/60006 + 1/88088 + 1/330033 + 1/747747 + 1/7470747 + 1/21933912 + 1/143484341 + 1/219141912 [28]\n",
      "100/79 = 1/2 + 1/3 + 1/8 + 1/9 + 1/11 + 1/22 + 1/44 + 1/66 + 1/77 + 1/242 + 1/474 + 1/484 + 1/2992 + 1/4114 + 1/8228 + 1/9559 + 1/66066 + 1/100001 + 1/200002 + 1/300003 + 1/600006 + 1/700007 + 1/2200022 + 1/3300033 + 1/23400432 + 1/47400474 + 1/85800858 + 1/200202002 + 1/600606006 + 1/4313443134 [30]\n",
      "95/71 = 1 + 1/6 + 1/7 + 1/77 + 1/101 + 1/313 + 1/1001 + 1/1111 + 1/4774 + 1/7007 + 1/8778 + 1/37873 + 1/77077 + 1/83638 + 1/347743 + 1/1000001 + 1/1711171 + 1/3446443 + 1/11000011 + 1/18822881 + 1/31644613 + 1/77000077 + 1/3443003443 + 1/11011011011 + 1/34123232143 + 1/37873037873 + 1/77077077077 + 1/1711172711171 + 1/18822899822881 + 1/1712883883882171 [30]\n"
     ]
    }
   ],
   "source": [
    "for r in palindrome.farey_sequence(100):\n",
    "    if r not in er.score:\n",
    "        print(f\"{r} not in registry\")\n",
    "    if r in er.score and (er.score[r] > 25):\n",
    "        print(er.display(r,score=True))"
   ]
  },
  {
   "cell_type": "markdown",
   "metadata": {},
   "source": [
    "# Solvers"
   ]
  },
  {
   "cell_type": "code",
   "execution_count": 23,
   "metadata": {},
   "outputs": [
    {
     "name": "stdout",
     "output_type": "stream",
     "text": [
      "Best score = 6\n",
      "score=6, active weights=[0, 1, 0, 0, 1, 1, 0, 0, 1, 1, 0, 0, 0, 0, 1, 0]\n"
     ]
    }
   ],
   "source": [
    "import sympy\n",
    "from sympy import latex, Rational\n",
    "import solver\n",
    "\n",
    "x = [66, 77, 99, 252, 585, 858, 1001, 2002, 2772, 3003, 4004, 5005, 6006, 7007, 9009, 252252]\n",
    "target = sympy.lcm(x)//60\n",
    "weight = [sympy.lcm(x) // i for i in x]\n",
    "# recursive knapsack solver:\n",
    "score_1, a_1, error_code_1 = solver.exact_knapsack(weight, capacity=target)\n",
    "# or use the stack_based knapsack solver\n",
    "score_2, a_2, error_code_2 = solver.egyptian_stack_search(weight, capacity=target)\n",
    "assert(error_code_1==0 and error_code_2==0 and score_1==score_2 and a_1==a_2)\n",
    "print(f\"score={score_1}, active weights={a_1}\")\n",
    "a = a_1\n"
   ]
  },
  {
   "cell_type": "code",
   "execution_count": 24,
   "metadata": {},
   "outputs": [
    {
     "data": {
      "text/latex": [
       "$\\displaystyle \\frac{1}{60}=\\frac{1}{77}+\\frac{1}{585}+\\frac{1}{858}+\\frac{1}{2772}+\\frac{1}{3003}+\\frac{1}{9009}$"
      ],
      "text/plain": [
       "<IPython.core.display.Math object>"
      ]
     },
     "metadata": {},
     "output_type": "display_data"
    }
   ],
   "source": [
    "from IPython.display import display, Math\n",
    "active_denominators = [x[i] for i in range(len(a)) if a[i] > 0]\n",
    "target_frac = sum([Rational(1,i) for i in active_denominators])\n",
    "display(Math(f\"{latex(target_frac)}={'+'.join([latex(Rational(1,i)) for i in active_denominators])}\"))"
   ]
  },
  {
   "cell_type": "code",
   "execution_count": 25,
   "metadata": {},
   "outputs": [
    {
     "name": "stdout",
     "output_type": "stream",
     "text": [
      "WARNING: The stack search may get stuck or be extremely slow if weights[-1]!=1.\n",
      "Hit : [1, 0, 0, 0, 0, 0, 0, 1, 1, 0, 0, 3, 0, 0, 0, 14], score=20, its=32\n",
      "Hit : [1, 0, 0, 0, 0, 0, 0, 1, 0, 0, 1, 3, 1, 0, 0, 0], score=7, its=59\n",
      "Hit : [0, 1, 0, 0, 1, 1, 0, 0, 1, 1, 0, 0, 0, 0, 1, 0], score=6, its=168\n"
     ]
    },
    {
     "data": {
      "text/plain": [
       "(6, [0, 1, 0, 0, 1, 1, 0, 0, 1, 1, 0, 0, 0, 0, 1, 0], 0)"
      ]
     },
     "execution_count": 25,
     "metadata": {},
     "output_type": "execute_result"
    }
   ],
   "source": [
    "score_3, a_3, error_code_3 = solver.reciprocal_pal_stack_search(weight, capacity=target)\n",
    "score_3, a_3, error_code_3"
   ]
  },
  {
   "cell_type": "markdown",
   "metadata": {},
   "source": [
    "###  Example with repeated palindromes\n",
    "\n",
    "The following cell shows how to generate a reciprocal palindromic representation with repeatitions of palindromes.  The example case 243 is one which we do not (yet) have an egyptian palindromic representation for.  Moreover, we demonstrate how to set up the problem from a seed_value using the function `weights_from_number`.  It was rather simple before, but is more complicated in the case of general fractions."
   ]
  },
  {
   "cell_type": "code",
   "execution_count": 26,
   "metadata": {},
   "outputs": [
    {
     "data": {
      "text/latex": [
       "$\\displaystyle \\frac{1}{243}=\\frac{2}{747}+\\frac{1}{3003}+\\frac{1}{7007}+\\frac{5}{7227}+\\frac{2}{9009}+\\frac{3}{72127}+\\frac{25}{3859583}+\\frac{2}{9325239}+\\frac{37}{1889763679881}+\\frac{1}{19107610541019} [\\mathbf{87}]$"
      ],
      "text/plain": [
       "<IPython.core.display.Math object>"
      ]
     },
     "metadata": {},
     "output_type": "display_data"
    }
   ],
   "source": [
    "n = 243\n",
    "seed_value = 171_968_494_869_171\n",
    "# We have a helper function to set up the knapsack problem for a general fraction\n",
    "# - in this case 1/n with n=243.\n",
    "p_wrapper = solver.weights_from_number(seed_value, 1, n)\n",
    "score, a, error_code = solver.reciprocal_pal_stack_search(weight=p_wrapper.weight, capacity=p_wrapper.capacity, \n",
    "                                                          max_score=2_000, verbose=False)\n",
    "if error_code==0:\n",
    "    numerators = [x for x in a if x>0]\n",
    "    denominators = [p_wrapper.div_list[i] for i in range(len(a)) if a[i]>0]\n",
    "    target_fraction = Rational(1,n)\n",
    "    pal_fractions = [Rational(p,q) for p,q in zip(numerators, denominators)]\n",
    "    display(Math(f\"{latex(target_fraction)}={'+'.join([latex(r) for r in pal_fractions])} [\\\\mathbf{{{score}}}]\"))"
   ]
  },
  {
   "cell_type": "markdown",
   "metadata": {},
   "source": [
    "### Example of searching for a solution\n",
    "\n",
    "In the cells below we find the best solution for 1/10 and 1/16.  Notice that the method to find a set of candidate palindromic denominators\n",
    "is completely different from numbers divisibly by 10 since palindromes cannot end in 0."
   ]
  },
  {
   "cell_type": "code",
   "execution_count": 27,
   "metadata": {},
   "outputs": [
    {
     "data": {
      "text/latex": [
       "$\\displaystyle \\frac{1}{16}=\\frac{1}{33}+\\frac{1}{44}+\\frac{1}{242}+\\frac{1}{363}+\\frac{1}{484}+\\frac{1}{2112}+\\frac{1}{23232} [\\mathbf{7}]$"
      ],
      "text/plain": [
       "<IPython.core.display.Math object>"
      ]
     },
     "metadata": {},
     "output_type": "display_data"
    },
    {
     "data": {
      "text/latex": [
       "$\\displaystyle \\frac{1}{16}=\\frac{1}{22}+\\frac{1}{99}+\\frac{1}{242}+\\frac{1}{363}+\\frac{1}{23232}+\\frac{1}{69696} [\\mathbf{6}]$"
      ],
      "text/plain": [
       "<IPython.core.display.Math object>"
      ]
     },
     "metadata": {},
     "output_type": "display_data"
    }
   ],
   "source": [
    "n = 16\n",
    "best_score = 20\n",
    "for p_wrapper in solver.palindrome_seed_iterator(1, n, start_search=n, end_search=10**8):\n",
    "    score, a, error_code = solver.exact_knapsack(weight=p_wrapper.weight, capacity=p_wrapper.capacity, max_score=best_score, verbose=False)\n",
    "    if error_code==0 and score<best_score:\n",
    "        denominators = [p_wrapper.div_list[i] for i in range(len(a)) if a[i] > 0]\n",
    "        target_frac = sum([Rational(1,i) for i in denominators])\n",
    "        display(Math(f\"{latex(target_frac)}={'+'.join([latex(Rational(1,i)) for i in denominators])} [\\\\mathbf{{{score}}}]\"))\n",
    "        best_score = score\n",
    "        "
   ]
  },
  {
   "cell_type": "code",
   "execution_count": 28,
   "metadata": {},
   "outputs": [
    {
     "name": "stdout",
     "output_type": "stream",
     "text": [
      "Using num_pals2=15, num_pals5=6.\n",
      "pal2_list: start=484, end=4114\n",
      "pal5_list: start=5005, end=54945\n"
     ]
    },
    {
     "data": {
      "text/latex": [
       "$\\displaystyle \\frac{1}{10}=\\frac{1}{22}+\\frac{1}{44}+\\frac{1}{55}+\\frac{1}{121}+\\frac{1}{242}+\\frac{1}{1001}+\\frac{1}{5005}+\\frac{1}{44044}+\\frac{1}{55055} [\\mathbf{9}]$"
      ],
      "text/plain": [
       "<IPython.core.display.Math object>"
      ]
     },
     "metadata": {},
     "output_type": "display_data"
    },
    {
     "data": {
      "text/latex": [
       "$\\displaystyle \\frac{1}{10}=\\frac{1}{11}+\\frac{1}{111}+\\frac{1}{26862}+\\frac{1}{50505}+\\frac{1}{55055}+\\frac{1}{222222}+\\frac{1}{555555}+\\frac{1}{2444442} [\\mathbf{8}]$"
      ],
      "text/plain": [
       "<IPython.core.display.Math object>"
      ]
     },
     "metadata": {},
     "output_type": "display_data"
    },
    {
     "data": {
      "text/latex": [
       "$\\displaystyle \\frac{1}{10}=\\frac{1}{11}+\\frac{1}{242}+\\frac{1}{363}+\\frac{1}{585}+\\frac{1}{5005}+\\frac{1}{5445}+\\frac{1}{9009} [\\mathbf{7}]$"
      ],
      "text/plain": [
       "<IPython.core.display.Math object>"
      ]
     },
     "metadata": {},
     "output_type": "display_data"
    },
    {
     "data": {
      "text/latex": [
       "$\\displaystyle \\frac{1}{10}=\\frac{1}{11}+\\frac{1}{121}+\\frac{1}{2662}+\\frac{1}{3993}+\\frac{1}{5445}+\\frac{1}{59895} [\\mathbf{6}]$"
      ],
      "text/plain": [
       "<IPython.core.display.Math object>"
      ]
     },
     "metadata": {},
     "output_type": "display_data"
    }
   ],
   "source": [
    "# even though the method to find denominators is different for multiples of 10, the code remains the same.\n",
    "# The palindrome_seed_iterator hides the complications under the hood.\n",
    "n = 10\n",
    "best_score = 20\n",
    "for p_wrapper in solver.palindrome_seed_iterator(1, n, start_search=n, end_search=10**6):\n",
    "    score, a, error_code = solver.exact_knapsack(weight=p_wrapper.weight, capacity=p_wrapper.capacity, max_score=best_score, verbose=False)\n",
    "    if error_code==0 and score<best_score:\n",
    "        denominators = [p_wrapper.div_list[i] for i in range(len(a)) if a[i] > 0]\n",
    "        target_frac = sum([Rational(1,i) for i in denominators])\n",
    "        display(Math(f\"{latex(target_frac)}={'+'.join([latex(Rational(1,i)) for i in denominators])} [\\\\mathbf{{{score}}}]\"))\n",
    "        best_score = score"
   ]
  },
  {
   "cell_type": "markdown",
   "metadata": {},
   "source": [
    "#### Representations for general fraction.\n",
    "\n",
    "The same code should also work for general fractions like $p/q$, even when $p>q$.  We just have to make sure to parse the results correctly."
   ]
  },
  {
   "cell_type": "code",
   "execution_count": 29,
   "metadata": {},
   "outputs": [
    {
     "data": {
      "text/latex": [
       "$\\displaystyle \\frac{2025}{13}=151+4 + \\frac{1}{2}+\\frac{1}{7}+\\frac{1}{8}+\\frac{1}{1001}+\\frac{1}{4004}+\\frac{1}{8008} [\\mathbf{8}]$"
      ],
      "text/plain": [
       "<IPython.core.display.Math object>"
      ]
     },
     "metadata": {},
     "output_type": "display_data"
    },
    {
     "data": {
      "text/latex": [
       "$\\displaystyle \\frac{2025}{13}=151+4 + \\frac{1}{2}+\\frac{1}{7}+\\frac{1}{9}+\\frac{1}{66}+\\frac{1}{9009} [\\mathbf{7}]$"
      ],
      "text/plain": [
       "<IPython.core.display.Math object>"
      ]
     },
     "metadata": {},
     "output_type": "display_data"
    }
   ],
   "source": [
    "r = Rational(2025, 13)\n",
    "best_score = 100\n",
    "for p_wrapper in solver.palindrome_seed_iterator_r(r, start_search=r.q, end_search=10**8):\n",
    "    score, a, error_code = solver.exact_knapsack(weight=p_wrapper.weight, capacity=p_wrapper.capacity, max_score=best_score, verbose=False)\n",
    "    if error_code==0 and score<best_score:\n",
    "        n_pal = len(p_wrapper.palindrome_tuple)\n",
    "        palindromes = [p_wrapper.palindrome_tuple[i] for i in range(n_pal) if a[i]>0]\n",
    "        denominators = [p_wrapper.div_list[i] for i in range(len(a)-n_pal) if a[i+n_pal] > 0]\n",
    "        target_frac = sum([Rational(1,i) for i in denominators])+sum(palindromes)\n",
    "        display(Math(f\"{latex(target_frac)}={'+'.join([str(x) for x in p_wrapper.palindrome_tuple])} + {'+'.join([latex(Rational(1,i)) for i in denominators])} [\\\\mathbf{{{score}}}]\"))\n",
    "        best_score = score"
   ]
  },
  {
   "cell_type": "markdown",
   "metadata": {},
   "source": [
    "#### Claiming discovery\n",
    "\n",
    "Assuming you manage to discover a new palindromic representation and you want to record it in the database, the \n",
    "cell below shows you how to do so."
   ]
  },
  {
   "cell_type": "code",
   "execution_count": 30,
   "metadata": {},
   "outputs": [
    {
     "name": "stdout",
     "output_type": "stream",
     "text": [
      "2025/13 = ?  \n"
     ]
    }
   ],
   "source": [
    "# Read in registry\n",
    "from registry import EgyptianRegistry\n",
    "er = EgyptianRegistry()\n",
    "\n",
    "# print out the current best (if any) representation for the fraction\n",
    "print(er.display(r, credits=True, score=True))\n"
   ]
  },
  {
   "cell_type": "code",
   "execution_count": 31,
   "metadata": {},
   "outputs": [
    {
     "name": "stdout",
     "output_type": "stream",
     "text": [
      "2025/13 = 4 + 151 + 1/2 + 1/7 + 1/9 + 1/66 + 1/9009 [7] (Mr. Famous: 01/10/2025)\n"
     ]
    }
   ],
   "source": [
    "# add the discovery to the registry.\n",
    "\n",
    "# We don't have to worry about overwriting other representation as\n",
    "# the new representation is only registered if it is new or strictly shorter\n",
    "# than the recorded representation.as_integer_ratio\n",
    "\n",
    "er.add(palindromes=palindromes, \n",
    "       reciprocal_palindromes=denominators, \n",
    "       discovered_by=\"Mr. Famous\", \n",
    "       date='01/10/2025', \n",
    "       method='exact_knapsack')\n",
    "print(er.display(r, credits=True, score=True))\n",
    "\n"
   ]
  },
  {
   "cell_type": "code",
   "execution_count": 32,
   "metadata": {},
   "outputs": [],
   "source": [
    "# Save the registry to make the record more permanent.\n",
    "# Uncomment for your own discovery below:\n",
    "\n",
    "# er.save()\n",
    "\n",
    "# Next you need to pull and push the corresponding json file to the repo for others to see\n",
    "# your new discovery.  In this case the file is \"egyptian_palindromes.json\"."
   ]
  },
  {
   "cell_type": "markdown",
   "metadata": {},
   "source": [
    "### How do I become famous\n",
    "\n",
    "So, that's all good and well, but how can I make a new egyptian palindromic representation to make me famous?  There are a few ways you can do this:\n",
    "\n",
    "1. Pick a rational number without a valid representation, then choose one of the three solvers and run it on larger and larger seed values until you get a successful match.  Likely, if the fraction is small and missing - it may take a week to a month to be able to find a representation (or longer).\n",
    "1. Be inspired, implement a new way of discovering representation and hope for the best. "
   ]
  },
  {
   "cell_type": "code",
   "execution_count": 34,
   "metadata": {},
   "outputs": [
    {
     "name": "stdout",
     "output_type": "stream",
     "text": [
      "Tried 100 seed values, currently at 100_670_296_343_692_076_001\n",
      "Tried 200 seed values, currently at 101_413_355_383_553_314_101\n",
      "Tried 300 seed values, currently at 102_215_458_888_854_512_201\n",
      "Tried 400 seed values, currently at 102_941_975_767_579_149_201\n",
      "Tried 500 seed values, currently at 103_592_944_646_449_295_301\n",
      "Tried 600 seed values, currently at 104_223_256_868_652_322_401\n",
      "Tried 700 seed values, currently at 104_965_764_202_467_569_401\n",
      "Tried 800 seed values, currently at 105_656_373_222_373_656_501\n",
      "Tried 900 seed values, currently at 106_468_572_222_275_864_601\n",
      "Tried 1_000 seed values, currently at 107_416_167_222_761_614_701\n",
      "Tried 1_100 seed values, currently at 108_352_941_393_149_253_801\n",
      "Tried 1_200 seed values, currently at 109_631_095_202_590_136_901\n",
      "Tried 1_300 seed values, currently at 110_374_941_606_149_473_011\n",
      "Tried 1_400 seed values, currently at 111_121_135_646_531_121_111\n",
      "Tried 1_500 seed values, currently at 111_705_838_202_838_507_111\n",
      "Tried 1_600 seed values, currently at 112_438_764_282_467_834_211\n",
      "Tried 1_700 seed values, currently at 113_140_232_707_232_041_311\n",
      "Tried 1_800 seed values, currently at 113_767_577_242_775_767_311\n",
      "Tried 1_900 seed values, currently at 114_408_318_444_813_804_411\n",
      "Tried 2_000 seed values, currently at 115_054_083_585_380_450_511\n",
      "Tried 2_100 seed values, currently at 115_654_143_000_341_456_511\n",
      "Tried 2_200 seed values, currently at 116_470_161_747_161_074_611\n",
      "Tried 2_300 seed values, currently at 117_351_051_525_150_153_711\n",
      "Tried 2_400 seed values, currently at 118_199_967_474_769_991_811\n",
      "Tried 2_500 seed values, currently at 119_316_532_868_235_613_911\n",
      "Tried 2_600 seed values, currently at 120_455_049_303_940_554_021\n",
      "Tried 2_700 seed values, currently at 121_232_495_383_594_232_121\n",
      "Tried 2_800 seed values, currently at 121_864_955_242_559_468_121\n",
      "Tried 2_900 seed values, currently at 122_460_342_888_243_064_221\n",
      "Tried 3_000 seed values, currently at 123_155_333_404_333_551_321\n",
      "Tried 3_100 seed values, currently at 123_764_512_424_215_467_321\n",
      "Tried 3_200 seed values, currently at 124_388_176_121_671_883_421\n",
      "Tried 3_300 seed values, currently at 125_039_348_989_843_930_521\n",
      "Tried 3_400 seed values, currently at 125_696_744_242_447_696_521\n",
      "Tried 3_500 seed values, currently at 126_442_452_858_254_244_621\n",
      "Tried 3_600 seed values, currently at 127_256_256_666_652_652_721\n",
      "Tried 3_700 seed values, currently at 127_947_004_040_400_749_721\n",
      "Tried 3_800 seed values, currently at 128_858_830_101_038_858_821\n",
      "Tried 3_900 seed values, currently at 129_876_753_606_357_678_921\n",
      "Tried 4_000 seed values, currently at 130_642_846_767_648_246_031\n",
      "Tried 4_100 seed values, currently at 131_441_544_666_445_144_131\n",
      "Tried 4_200 seed values, currently at 132_227_223_141_322_722_231\n",
      "Tried 4_300 seed values, currently at 133_005_328_868_823_500_331\n",
      "Tried 4_400 seed values, currently at 133_555_569_888_965_555_331\n",
      "Tried 4_500 seed values, currently at 134_286_487_868_784_682_431\n",
      "Tried 4_600 seed values, currently at 134_843_748_969_847_348_431\n",
      "Tried 4_700 seed values, currently at 135_453_434_727_434_354_531\n",
      "Tried 4_800 seed values, currently at 136_089_764_929_467_980_631\n",
      "Tried 4_900 seed values, currently at 136_764_969_060_969_467_631\n",
      "Tried 5_000 seed values, currently at 137_581_417_232_714_185_731\n",
      "Tried 5_100 seed values, currently at 138_479_774_767_477_974_831\n",
      "Tried 5_200 seed values, currently at 139_463_910_171_019_364_931\n",
      "Tried 5_300 seed values, currently at 140_344_019_323_910_443_041\n",
      "Tried 5_400 seed values, currently at 141_166_834_727_438_661_141\n",
      "Tried 5_500 seed values, currently at 142_122_029_989_920_221_241\n",
      "Tried 5_600 seed values, currently at 142_852_734_444_437_258_241\n",
      "Tried 5_700 seed values, currently at 143_551_609_292_906_155_341\n",
      "Tried 5_800 seed values, currently at 144_364_232_464_232_463_441\n",
      "Tried 5_900 seed values, currently at 145_087_842_909_248_780_541\n",
      "Tried 6_000 seed values, currently at 145_764_953_767_359_467_541\n",
      "Tried 6_100 seed values, currently at 146_575_454_545_454_575_641\n",
      "Tried 6_200 seed values, currently at 147_475_021_343_120_574_741\n",
      "Tried 6_300 seed values, currently at 148_412_110_484_011_214_841\n",
      "Tried 6_400 seed values, currently at 149_486_333_404_333_684_941\n",
      "Tried 6_500 seed values, currently at 150_454_723_343_327_454_051\n",
      "Tried 6_600 seed values, currently at 151_391_681_585_186_193_151\n",
      "Tried 6_700 seed values, currently at 152_244_536_888_635_442_251\n",
      "Tried 6_800 seed values, currently at 153_071_561_989_165_170_351\n",
      "Tried 6_900 seed values, currently at 153_940_216_343_612_049_351\n",
      "Tried 7_000 seed values, currently at 154_755_920_242_029_557_451\n",
      "Tried 7_100 seed values, currently at 155_575_555_666_555_575_551\n",
      "Tried 7_200 seed values, currently at 156_469_323_020_323_964_651\n",
      "Tried 7_300 seed values, currently at 157_275_726_303_627_572_751\n",
      "Tried 7_400 seed values, currently at 158_145_015_848_510_541_851\n",
      "Tried 7_500 seed values, currently at 159_264_209_494_902_462_951\n",
      "Tried 7_600 seed values, currently at 160_374_617_707_716_473_061\n",
      "Tried 7_700 seed values, currently at 161_754_319_343_913_457_161\n",
      "Tried 7_800 seed values, currently at 162_856_633_424_336_658_261\n",
      "Tried 7_900 seed values, currently at 163_824_305_080_503_428_361\n",
      "Tried 8_000 seed values, currently at 164_834_613_282_316_438_461\n",
      "Tried 8_100 seed values, currently at 165_898_877_585_778_898_561\n",
      "Tried 8_200 seed values, currently at 166_993_856_949_658_399_661\n",
      "Tried 8_300 seed values, currently at 168_142_102_949_201_241_861\n",
      "Tried 8_400 seed values, currently at 169_292_629_484_926_292_961\n",
      "Tried 8_500 seed values, currently at 170_576_844_282_448_675_071\n",
      "Tried 8_600 seed values, currently at 171_944_606_161_606_449_171\n",
      "Tried 8_700 seed values, currently at 173_265_665_464_566_562_371\n",
      "Tried 8_800 seed values, currently at 174_485_912_707_219_584_471\n",
      "Tried 8_900 seed values, currently at 175_483_618_949_816_384_571\n",
      "Tried 9_000 seed values, currently at 176_844_113_434_311_448_671\n",
      "Tried 9_100 seed values, currently at 178_164_022_424_220_461_871\n",
      "Tried 9_200 seed values, currently at 179_836_079_989_970_638_971\n",
      "Tried 9_300 seed values, currently at 181_669_842_909_248_966_181\n",
      "Tried 9_400 seed values, currently at 183_562_635_666_536_265_381\n",
      "Tried 9_500 seed values, currently at 184_985_428_343_824_589_481\n",
      "Tried 9_600 seed values, currently at 186_522_216_222_612_225_681\n",
      "Tried 9_700 seed values, currently at 187_998_738_888_837_899_781\n",
      "Tried 9_800 seed values, currently at 189_766_476_909_674_667_981\n",
      "Tried 9_900 seed values, currently at 192_120_335_363_533_021_291\n",
      "Tried 10_000 seed values, currently at 194_242_254_060_452_242_491\n",
      "Tried 10_100 seed values, currently at 196_281_340_202_043_182_691\n",
      "Tried 10_200 seed values, currently at 198_461_122_202_221_164_891\n",
      "Tried 10_300 seed values, currently at 200_042_028_404_820_240_002\n",
      "Tried 10_400 seed values, currently at 200_189_688_606_886_981_002\n",
      "Tried 10_500 seed values, currently at 200_342_276_565_672_243_002\n",
      "Tried 10_600 seed values, currently at 200_516_425_020_524_615_002\n",
      "Tried 10_700 seed values, currently at 200_697_038_545_830_796_002\n",
      "Tried 10_800 seed values, currently at 200_905_748_383_847_509_002\n",
      "Tried 10_900 seed values, currently at 201_107_933_767_339_701_102\n",
      "Tried 11_000 seed values, currently at 201_255_287_818_782_552_102\n",
      "Tried 11_100 seed values, currently at 201_427_665_141_566_724_102\n",
      "Tried 11_200 seed values, currently at 201_589_212_363_212_985_102\n",
      "Tried 11_300 seed values, currently at 201_767_511_363_115_767_102\n",
      "Tried 11_400 seed values, currently at 201_983_498_323_894_389_102\n",
      "Tried 11_500 seed values, currently at 202_142_226_363_622_241_202\n",
      "Tried 11_600 seed values, currently at 202_263_380_242_083_362_202\n",
      "Tried 11_700 seed values, currently at 202_421_463_222_364_124_202\n",
      "Tried 11_800 seed values, currently at 202_554_421_424_124_455_202\n",
      "Tried 11_900 seed values, currently at 202_732_149_525_941_237_202\n",
      "Tried 12_000 seed values, currently at 202_903_629_747_926_309_202\n",
      "Tried 12_100 seed values, currently at 203_109_124_040_421_901_302\n",
      "Tried 12_200 seed values, currently at 203_256_660_323_066_652_302\n",
      "Tried 12_300 seed values, currently at 203_381_933_212_339_183_302\n",
      "Tried 12_400 seed values, currently at 203_532_737_080_737_235_302\n",
      "Tried 12_500 seed values, currently at 203_689_984_343_489_986_302\n",
      "Tried 12_600 seed values, currently at 203_883_386_303_683_388_302\n",
      "Tried 12_700 seed values, currently at 204_070_317_222_713_070_402\n",
      "Tried 12_800 seed values, currently at 204_256_907_929_709_652_402\n",
      "Tried 12_900 seed values, currently at 204_424_485_222_584_424_402\n",
      "Tried 13_000 seed values, currently at 204_556_270_727_072_655_402\n",
      "Tried 13_100 seed values, currently at 204_714_658_989_856_417_402\n",
      "Tried 13_200 seed values, currently at 204_874_780_121_087_478_402\n",
      "Tried 13_300 seed values, currently at 205_083_749_575_947_380_502\n",
      "Tried 13_400 seed values, currently at 205_260_270_727_072_062_502\n",
      "Tried 13_500 seed values, currently at 205_430_740_040_047_034_502\n",
      "Tried 13_600 seed values, currently at 205_595_400_141_004_595_502\n",
      "Tried 13_700 seed values, currently at 205_750_392_585_293_057_502\n",
      "Tried 13_800 seed values, currently at 205_925_923_505_329_529_502\n",
      "Tried 13_900 seed values, currently at 206_157_915_333_519_751_602\n",
      "Tried 14_000 seed values, currently at 206_326_022_101_220_623_602\n",
      "Tried 14_100 seed values, currently at 206_476_085_323_580_674_602\n",
      "Tried 14_200 seed values, currently at 206_641_826_474_628_146_602\n",
      "Tried 14_300 seed values, currently at 206_788_696_787_696_887_602\n",
      "Tried 14_400 seed values, currently at 206_973_079_232_970_379_602\n",
      "Tried 14_500 seed values, currently at 207_208_723_949_327_802_702\n",
      "Tried 14_600 seed values, currently at 207_410_298_949_892_014_702\n",
      "Tried 14_700 seed values, currently at 207_561_284_949_482_165_702\n",
      "Tried 14_800 seed values, currently at 207_737_456_545_654_737_702\n",
      "Tried 14_900 seed values, currently at 207_928_633_121_336_829_702\n",
      "Tried 15_000 seed values, currently at 208_164_081_525_180_461_802\n",
      "Tried 15_100 seed values, currently at 208_406_524_949_425_604_802\n",
      "Tried 15_200 seed values, currently at 208_633_429_646_924_336_802\n",
      "Tried 15_300 seed values, currently at 208_831_053_444_350_138_802\n",
      "Tried 15_400 seed values, currently at 209_045_513_353_315_540_902\n",
      "Tried 15_500 seed values, currently at 209_353_262_929_262_353_902\n",
      "Tried 15_600 seed values, currently at 209_639_367_666_763_936_902\n",
      "Tried 15_700 seed values, currently at 209_857_352_101_253_758_902\n",
      "Tried 15_800 seed values, currently at 210_022_080_888_080_220_012\n",
      "Tried 15_900 seed values, currently at 210_098_991_666_199_890_012\n",
      "Tried 16_000 seed values, currently at 210_160_932_424_239_061_012\n",
      "Tried 16_100 seed values, currently at 210_234_566_545_665_432_012\n",
      "Tried 16_200 seed values, currently at 210_314_495_989_594_413_012\n",
      "Tried 16_300 seed values, currently at 210_371_616_000_616_173_012\n",
      "Tried 16_400 seed values, currently at 210_438_379_313_973_834_012\n",
      "Tried 16_500 seed values, currently at 210_519_365_080_563_915_012\n",
      "Tried 16_600 seed values, currently at 210_580_086_444_680_085_012\n",
      "Tried 16_700 seed values, currently at 210_657_983_181_389_756_012\n",
      "Tried 16_800 seed values, currently at 210_744_384_717_483_447_012\n",
      "Tried 16_900 seed values, currently at 210_830_893_505_398_038_012\n",
      "Tried 17_000 seed values, currently at 210_931_666_484_666_139_012\n",
      "Tried 17_100 seed values, currently at 211_013_779_181_977_310_112\n",
      "Tried 17_200 seed values, currently at 211_047_166_727_661_740_112\n",
      "Tried 17_300 seed values, currently at 211_089_510_747_015_980_112\n",
      "Tried 17_400 seed values, currently at 211_136_419_565_914_631_112\n",
      "Tried 17_500 seed values, currently at 211_176_286_565_682_671_112\n",
      "Tried 17_600 seed values, currently at 211_218_365_494_563_812_112\n",
      "Tried 17_700 seed values, currently at 211_247_117_505_711_742_112\n",
      "Tried 17_800 seed values, currently at 211_283_196_888_691_382_112\n",
      "Tried 17_900 seed values, currently at 211_328_343_969_343_823_112\n",
      "Tried 18_000 seed values, currently at 211_358_773_141_377_853_112\n",
      "Tried 18_100 seed values, currently at 211_411_364_989_463_114_112\n",
      "Tried 18_200 seed values, currently at 211_440_553_747_355_044_112\n",
      "Tried 18_300 seed values, currently at 211_476_670_161_076_674_112\n",
      "Tried 18_400 seed values, currently at 211_516_506_909_605_615_112\n",
      "Tried 18_500 seed values, currently at 211_549_449_222_944_945_112\n",
      "Tried 18_600 seed values, currently at 211_600_734_888_437_006_112\n",
      "Tried 18_700 seed values, currently at 211_636_714_424_417_636_112\n",
      "Tried 18_800 seed values, currently at 211_671_834_888_438_176_112\n",
      "Tried 18_900 seed values, currently at 211_718_312_424_213_817_112\n",
      "Tried 19_000 seed values, currently at 211_760_712_040_217_067_112\n",
      "Tried 19_100 seed values, currently at 211_813_938_727_839_318_112\n",
      "Tried 19_200 seed values, currently at 211_856_136_060_631_658_112\n",
      "Tried 19_300 seed values, currently at 211_903_500_606_005_309_112\n",
      "Tried 19_400 seed values, currently at 211_959_988_282_889_959_112\n",
      "Tried 19_500 seed values, currently at 212_027_440_343_044_720_212\n",
      "Tried 19_600 seed values, currently at 212_105_037_585_730_501_212\n",
      "Tried 19_700 seed values, currently at 212_160_328_535_823_061_212\n",
      "Tried 19_800 seed values, currently at 212_230_930_676_039_032_212\n",
      "Tried 19_900 seed values, currently at 212_300_252_101_252_003_212\n",
      "Tried 20_000 seed values, currently at 212_354_615_464_516_453_212\n",
      "Tried 20_100 seed values, currently at 212_420_511_606_115_024_212\n",
      "Tried 20_200 seed values, currently at 212_478_476_404_674_874_212\n",
      "Tried 20_300 seed values, currently at 212_545_434_282_434_545_212\n",
      "Tried 20_400 seed values, currently at 212_610_171_525_171_016_212\n",
      "Tried 20_500 seed values, currently at 212_667_460_949_064_766_212\n",
      "Tried 20_600 seed values, currently at 212_735_052_000_250_537_212\n",
      "Tried 20_700 seed values, currently at 212_814_370_454_073_418_212\n",
      "Tried 20_800 seed values, currently at 212_894_771_464_177_498_212\n",
      "Tried 20_900 seed values, currently at 212_984_578_646_875_489_212\n",
      "Tried 21_000 seed values, currently at 213_041_610_333_016_140_312\n",
      "Tried 21_100 seed values, currently at 213_084_712_646_217_480_312\n",
      "Tried 21_200 seed values, currently at 213_127_070_323_070_721_312\n",
      "Tried 21_300 seed values, currently at 213_153_238_343_832_351_312\n",
      "Tried 21_400 seed values, currently at 213_195_925_676_529_591_312\n",
      "Tried 21_500 seed values, currently at 213_235_796_525_697_532_312\n",
      "Tried 21_600 seed values, currently at 213_267_752_323_257_762_312\n",
      "Tried 21_700 seed values, currently at 213_311_024_787_420_113_312\n",
      "Tried 21_800 seed values, currently at 213_341_242_868_242_143_312\n",
      "Tried 21_900 seed values, currently at 213_371_295_868_592_173_312\n",
      "Tried 22_000 seed values, currently at 213_410_107_909_701_014_312\n",
      "Tried 22_100 seed values, currently at 213_445_590_949_095_544_312\n",
      "Tried 22_200 seed values, currently at 213_481_370_303_073_184_312\n",
      "Tried 22_300 seed values, currently at 213_524_072_737_270_425_312\n",
      "Tried 22_400 seed values, currently at 213_552_376_949_673_255_312\n",
      "Tried 22_500 seed values, currently at 213_583_995_909_599_385_312\n",
      "Tried 22_600 seed values, currently at 213_630_030_040_030_036_312\n",
      "Tried 22_700 seed values, currently at 213_667_751_242_157_766_312\n",
      "Tried 22_800 seed values, currently at 213_720_867_808_768_027_312\n",
      "Tried 22_900 seed values, currently at 213_755_964_888_469_557_312\n",
      "Tried 23_000 seed values, currently at 213_799_337_404_733_997_312\n",
      "Tried 23_100 seed values, currently at 213_844_899_282_998_448_312\n",
      "Tried 23_200 seed values, currently at 213_894_354_787_453_498_312\n",
      "Tried 23_300 seed values, currently at 213_942_661_161_166_249_312\n",
      "Tried 23_400 seed values, currently at 213_980_322_969_223_089_312\n",
      "Tried 23_500 seed values, currently at 214_043_032_505_230_340_412\n",
      "Tried 23_600 seed values, currently at 214_122_049_040_940_221_412\n",
      "Tried 23_700 seed values, currently at 214_187_682_444_286_781_412\n",
      "Tried 23_800 seed values, currently at 214_255_131_565_131_552_412\n",
      "Tried 23_900 seed values, currently at 214_323_044_989_440_323_412\n",
      "Tried 24_000 seed values, currently at 214_371_942_636_249_173_412\n",
      "Tried 24_100 seed values, currently at 214_442_249_494_942_244_412\n",
      "Tried 24_200 seed values, currently at 214_489_704_464_407_984_412\n",
      "Tried 24_300 seed values, currently at 214_562_571_303_175_265_412\n",
      "Tried 24_400 seed values, currently at 214_629_743_161_347_926_412\n",
      "Tried 24_500 seed values, currently at 214_695_591_363_195_596_412\n",
      "Tried 24_600 seed values, currently at 214_765_020_181_020_567_412\n",
      "Tried 24_700 seed values, currently at 214_836_958_606_859_638_412\n",
      "Tried 24_800 seed values, currently at 214_913_206_202_602_319_412\n",
      "Tried 24_900 seed values, currently at 215_000_740_151_047_000_512\n",
      "Tried 25_000 seed values, currently at 215_036_265_969_562_630_512\n",
      "Tried 25_100 seed values, currently at 215_071_344_272_443_170_512\n",
      "Tried 25_200 seed values, currently at 215_118_062_505_260_811_512\n",
      "Tried 25_300 seed values, currently at 215_153_865_666_568_351_512\n",
      "Tried 25_400 seed values, currently at 215_193_843_828_348_391_512\n",
      "Tried 25_500 seed values, currently at 215_238_202_303_202_832_512\n",
      "Tried 25_600 seed values, currently at 215_269_757_515_757_962_512\n",
      "Tried 25_700 seed values, currently at 215_313_487_626_784_313_512\n",
      "Tried 25_800 seed values, currently at 215_353_375_727_573_353_512\n",
      "Tried 25_900 seed values, currently at 215_394_351_080_153_493_512\n",
      "Tried 26_000 seed values, currently at 215_439_740_141_047_934_512\n",
      "Tried 26_100 seed values, currently at 215_469_953_606_359_964_512\n",
      "Tried 26_200 seed values, currently at 215_509_071_555_170_905_512\n",
      "Tried 26_300 seed values, currently at 215_554_617_666_716_455_512\n",
      "Tried 26_400 seed values, currently at 215_596_540_626_045_695_512\n",
      "Tried 26_500 seed values, currently at 215_637_679_646_976_736_512\n",
      "Tried 26_600 seed values, currently at 215_668_041_888_140_866_512\n",
      "Tried 26_700 seed values, currently at 215_705_237_242_732_507_512\n",
      "Tried 26_800 seed values, currently at 215_758_331_191_133_857_512\n",
      "Tried 26_900 seed values, currently at 215_800_117_747_711_008_512\n",
      "Tried 27_000 seed values, currently at 215_844_420_363_024_448_512\n",
      "Tried 27_100 seed values, currently at 215_880_849_555_948_088_512\n",
      "Tried 27_200 seed values, currently at 215_931_638_141_836_139_512\n",
      "Tried 27_300 seed values, currently at 215_971_396_666_693_179_512\n",
      "Tried 27_400 seed values, currently at 216_043_548_060_845_340_612\n",
      "Tried 27_500 seed values, currently at 216_128_226_727_622_821_612\n",
      "Tried 27_600 seed values, currently at 216_195_813_909_318_591_612\n",
      "Tried 27_700 seed values, currently at 216_274_380_545_083_472_612\n",
      "Tried 27_800 seed values, currently at 216_347_668_040_866_743_612\n",
      "Tried 27_900 seed values, currently at 216_415_510_424_015_514_612\n",
      "Tried 28_000 seed values, currently at 216_479_453_545_354_974_612\n",
      "Tried 28_100 seed values, currently at 216_546_774_393_477_645_612\n",
      "Tried 28_200 seed values, currently at 216_624_040_040_040_426_612\n",
      "Tried 28_300 seed values, currently at 216_689_460_303_064_986_612\n",
      "Tried 28_400 seed values, currently at 216_761_252_646_252_167_612\n",
      "Tried 28_500 seed values, currently at 216_832_367_767_763_238_612\n",
      "Tried 28_600 seed values, currently at 216_911_224_444_422_119_612\n",
      "Tried 28_700 seed values, currently at 216_995_665_080_566_599_612\n",
      "Tried 28_800 seed values, currently at 217_062_800_161_008_260_712\n",
      "Tried 28_900 seed values, currently at 217_118_115_000_511_811_712\n",
      "Tried 29_000 seed values, currently at 217_163_332_202_233_361_712\n",
      "Tried 29_100 seed values, currently at 217_196_181_888_181_691_712\n",
      "Tried 29_200 seed values, currently at 217_257_618_444_816_752_712\n",
      "Tried 29_300 seed values, currently at 217_297_422_343_224_792_712\n",
      "Tried 29_400 seed values, currently at 217_347_459_888_954_743_712\n",
      "Tried 29_500 seed values, currently at 217_387_159_121_951_783_712\n",
      "Tried 29_600 seed values, currently at 217_444_428_565_824_444_712\n",
      "Tried 29_700 seed values, currently at 217_488_172_000_271_884_712\n",
      "Tried 29_800 seed values, currently at 217_543_144_747_441_345_712\n",
      "Tried 29_900 seed values, currently at 217_574_432_909_234_475_712\n",
      "Tried 30_000 seed values, currently at 217_626_633_646_336_626_712\n",
      "Tried 30_100 seed values, currently at 217_667_267_525_762_766_712\n",
      "Tried 30_200 seed values, currently at 217_713_327_949_723_317_712\n",
      "Tried 30_300 seed values, currently at 217_762_870_848_078_267_712\n",
      "Tried 30_400 seed values, currently at 217_797_838_989_838_797_712\n",
      "Tried 30_500 seed values, currently at 217_851_295_565_592_158_712\n",
      "Tried 30_600 seed values, currently at 217_900_316_949_613_009_712\n",
      "Tried 30_700 seed values, currently at 217_954_551_222_155_459_712\n",
      "Tried 30_800 seed values, currently at 217_991_773_616_377_199_712\n",
      "Tried 30_900 seed values, currently at 218_091_336_717_633_190_812\n",
      "Tried 31_000 seed values, currently at 218_198_523_525_325_891_812\n",
      "Tried 31_100 seed values, currently at 218_295_835_515_538_592_812\n",
      "Tried 31_200 seed values, currently at 218_382_655_424_556_283_812\n",
      "Tried 31_300 seed values, currently at 218_488_334_161_433_884_812\n",
      "Tried 31_400 seed values, currently at 218_579_582_343_285_975_812\n",
      "Tried 31_500 seed values, currently at 218_670_798_747_897_076_812\n",
      "Tried 31_600 seed values, currently at 218_762_383_767_383_267_812\n",
      "Tried 31_700 seed values, currently at 218_848_177_282_771_848_812\n",
      "Tried 31_800 seed values, currently at 218_941_186_565_681_149_812\n",
      "Tried 31_900 seed values, currently at 219_029_146_969_641_920_912\n",
      "Tried 32_000 seed values, currently at 219_085_436_353_634_580_912\n",
      "Tried 32_100 seed values, currently at 219_166_155_666_551_661_912\n",
      "Tried 32_200 seed values, currently at 219_231_078_484_870_132_912\n",
      "Tried 32_300 seed values, currently at 219_280_554_909_455_082_912\n",
      "Tried 32_400 seed values, currently at 219_350_135_646_531_053_912\n",
      "Tried 32_500 seed values, currently at 219_396_131_848_131_693_912\n",
      "Tried 32_600 seed values, currently at 219_460_617_939_716_064_912\n",
      "Tried 32_700 seed values, currently at 219_513_421_727_124_315_912\n",
      "Tried 32_800 seed values, currently at 219_578_849_929_948_875_912\n",
      "Tried 32_900 seed values, currently at 219_645_296_686_692_546_912\n",
      "Tried 33_000 seed values, currently at 219_688_387_727_783_886_912\n",
      "Tried 33_100 seed values, currently at 219_754_366_828_663_457_912\n",
      "Tried 33_200 seed values, currently at 219_807_934_989_439_708_912\n",
      "Tried 33_300 seed values, currently at 219_861_650_797_056_168_912\n",
      "Tried 33_400 seed values, currently at 219_906_069_040_960_609_912\n",
      "Tried 33_500 seed values, currently at 219_976_749_444_947_679_912\n",
      "Tried 33_600 seed values, currently at 220_078_479_747_974_870_022\n",
      "Tried 33_700 seed values, currently at 220_216_204_020_402_612_022\n",
      "Tried 33_800 seed values, currently at 220_346_126_242_621_643_022\n",
      "Tried 33_900 seed values, currently at 220_477_138_202_831_774_022\n",
      "Tried 34_000 seed values, currently at 220_633_717_707_717_336_022\n",
      "Tried 34_100 seed values, currently at 220_819_471_151_174_918_022\n",
      "Tried 34_200 seed values, currently at 221_029_743_484_347_920_122\n",
      "Tried 34_300 seed values, currently at 221_170_190_383_091_071_122\n",
      "Tried 34_400 seed values, currently at 221_316_595_646_595_613_122\n",
      "Tried 34_500 seed values, currently at 221_450_126_404_621_054_122\n",
      "Tried 34_600 seed values, currently at 221_586_873_686_378_685_122\n",
      "Tried 34_700 seed values, currently at 221_761_852_525_258_167_122\n",
      "Tried 34_800 seed values, currently at 221_955_556_040_655_559_122\n",
      "Tried 34_900 seed values, currently at 222_133_120_121_021_331_222\n",
      "Tried 35_000 seed values, currently at 222_258_463_616_364_852_222\n",
      "Tried 35_100 seed values, currently at 222_378_663_989_366_873_222\n",
      "Tried 35_200 seed values, currently at 222_516_714_444_417_615_222\n",
      "Tried 35_300 seed values, currently at 222_631_772_737_277_136_222\n",
      "Tried 35_400 seed values, currently at 222_760_861_646_168_067_222\n",
      "Tried 35_500 seed values, currently at 222_920_027_242_720_029_222\n",
      "Tried 35_600 seed values, currently at 223_111_569_282_965_111_322\n",
      "Tried 35_700 seed values, currently at 223_259_572_181_275_952_322\n",
      "Tried 35_800 seed values, currently at 223_423_322_343_223_324_322\n",
      "Tried 35_900 seed values, currently at 223_532_614_808_416_235_322\n",
      "Tried 36_000 seed values, currently at 223_658_675_282_576_856_322\n",
      "Tried 36_100 seed values, currently at 223_810_774_484_477_018_322\n",
      "Tried 36_200 seed values, currently at 223_951_551_141_155_159_322\n",
      "Tried 36_300 seed values, currently at 224_119_398_181_893_911_422\n",
      "Tried 36_400 seed values, currently at 224_257_761_747_167_752_422\n",
      "Tried 36_500 seed values, currently at 224_378_294_181_492_873_422\n",
      "Tried 36_600 seed values, currently at 224_535_274_868_472_535_422\n",
      "Tried 36_700 seed values, currently at 224_647_323_141_323_746_422\n",
      "Tried 36_800 seed values, currently at 224_786_673_222_376_687_422\n",
      "Tried 36_900 seed values, currently at 224_960_340_000_043_069_422\n",
      "Tried 37_000 seed values, currently at 225_139_404_606_404_931_522\n",
      "Tried 37_100 seed values, currently at 225_295_865_767_568_592_522\n",
      "Tried 37_200 seed values, currently at 225_435_014_686_410_534_522\n",
      "Tried 37_300 seed values, currently at 225_554_554_565_455_455_522\n",
      "Tried 37_400 seed values, currently at 225_700_007_989_700_007_522\n",
      "Tried 37_500 seed values, currently at 225_860_627_080_726_068_522\n",
      "Tried 37_600 seed values, currently at 226_057_533_909_335_750_622\n",
      "Tried 37_700 seed values, currently at 226_250_305_262_503_052_622\n",
      "Tried 37_800 seed values, currently at 226_422_095_161_590_224_622\n",
      "Tried 37_900 seed values, currently at 226_567_352_121_253_765_622\n",
      "Tried 38_000 seed values, currently at 226_730_094_060_490_037_622\n",
      "Tried 38_100 seed values, currently at 226_878_978_949_879_878_622\n",
      "Tried 38_200 seed values, currently at 227_083_822_535_228_380_722\n",
      "Tried 38_300 seed values, currently at 227_279_549_191_945_972_722\n",
      "Tried 38_400 seed values, currently at 227_442_253_505_352_244_722\n",
      "Tried 38_500 seed values, currently at 227_593_461_828_164_395_722\n",
      "Tried 38_600 seed values, currently at 227_760_933_393_339_067_722\n",
      "Tried 38_700 seed values, currently at 227_916_714_666_417_619_722\n",
      "Tried 38_800 seed values, currently at 228_167_213_020_312_761_822\n",
      "Tried 38_900 seed values, currently at 228_444_061_838_160_444_822\n",
      "Tried 39_000 seed values, currently at 228_616_359_525_953_616_822\n",
      "Tried 39_100 seed values, currently at 228_788_045_686_540_887_822\n",
      "Tried 39_200 seed values, currently at 228_937_528_727_825_739_822\n",
      "Tried 39_300 seed values, currently at 229_247_217_090_712_742_922\n",
      "Tried 39_400 seed values, currently at 229_494_253_565_352_494_922\n",
      "Tried 39_500 seed values, currently at 229_751_231_606_132_157_922\n",
      "Tried 39_600 seed values, currently at 229_958_280_333_082_859_922\n",
      "Tried 39_700 seed values, currently at 230_022_488_787_884_220_032\n",
      "Tried 39_800 seed values, currently at 230_062_823_464_328_260_032\n",
      "Tried 39_900 seed values, currently at 230_119_637_989_736_911_032\n",
      "Tried 40_000 seed values, currently at 230_163_043_121_340_361_032\n",
      "Tried 40_100 seed values, currently at 230_221_222_181_222_122_032\n",
      "Tried 40_200 seed values, currently at 230_253_421_202_124_352_032\n",
      "Tried 40_300 seed values, currently at 230_304_372_939_273_403_032\n",
      "Tried 40_400 seed values, currently at 230_345_401_565_104_543_032\n",
      "Tried 40_500 seed values, currently at 230_398_396_060_693_893_032\n",
      "Tried 40_600 seed values, currently at 230_433_234_909_432_334_032\n",
      "Tried 40_700 seed values, currently at 230_468_633_141_336_864_032\n",
      "Tried 40_800 seed values, currently at 230_523_674_848_476_325_032\n",
      "Tried 40_900 seed values, currently at 230_566_541_080_145_665_032\n",
      "Tried 41_000 seed values, currently at 230_617_150_747_051_716_032\n",
      "Tried 41_100 seed values, currently at 230_653_235_383_532_356_032\n",
      "Tried 41_200 seed values, currently at 230_707_688_686_886_707_032\n",
      "Tried 41_300 seed values, currently at 230_755_630_727_036_557_032\n",
      "Tried 41_400 seed values, currently at 230_814_728_585_827_418_032\n",
      "Tried 41_500 seed values, currently at 230_851_453_060_354_158_032\n",
      "Tried 41_600 seed values, currently at 230_903_494_535_494_309_032\n",
      "Tried 41_700 seed values, currently at 230_951_469_585_964_159_032\n",
      "Tried 41_800 seed values, currently at 231_022_988_848_889_220_132\n",
      "Tried 41_900 seed values, currently at 231_103_191_828_191_301_132\n",
      "Tried 42_000 seed values, currently at 231_157_842_545_248_751_132\n",
      "Tried 42_100 seed values, currently at 231_232_733_969_337_232_132\n",
      "Tried 42_200 seed values, currently at 231_304_716_505_617_403_132\n",
      "Tried 42_300 seed values, currently at 231_352_002_202_200_253_132\n",
      "Tried 42_400 seed values, currently at 231_425_546_282_645_524_132\n",
      "Tried 42_500 seed values, currently at 231_491_781_888_187_194_132\n",
      "Tried 42_600 seed values, currently at 231_556_945_646_549_655_132\n",
      "Tried 42_700 seed values, currently at 231_630_232_282_232_036_132\n",
      "Tried 42_800 seed values, currently at 231_700_112_848_211_007_132\n",
      "Tried 42_900 seed values, currently at 231_765_654_141_456_567_132\n",
      "Tried 43_000 seed values, currently at 231_858_773_545_377_858_132\n",
      "Tried 43_100 seed values, currently at 231_941_344_060_443_149_132\n",
      "Tried 43_200 seed values, currently at 232_018_475_545_574_810_232\n",
      "Tried 43_300 seed values, currently at 232_058_721_404_127_850_232\n",
      "Tried 43_400 seed values, currently at 232_110_627_282_726_011_232\n",
      "Tried 43_500 seed values, currently at 232_138_304_202_403_831_232\n",
      "Tried 43_600 seed values, currently at 232_169_856_888_658_961_232\n",
      "Tried 43_700 seed values, currently at 232_217_687_040_786_712_232\n",
      "Tried 43_800 seed values, currently at 232_260_296_404_692_062_232\n",
      "Tried 43_900 seed values, currently at 232_303_387_525_783_303_232\n",
      "Tried 44_000 seed values, currently at 232_331_022_242_220_133_232\n",
      "Tried 44_100 seed values, currently at 232_355_643_545_346_553_232\n",
      "Tried 44_200 seed values, currently at 232_400_272_000_272_004_232\n",
      "Tried 44_300 seed values, currently at 232_437_613_101_316_734_232\n",
      "Tried 44_400 seed values, currently at 232_474_700_707_007_474_232\n",
      "Tried 44_500 seed values, currently at 232_519_057_292_750_915_232\n",
      "Tried 44_600 seed values, currently at 232_544_585_282_585_445_232\n",
      "Tried 44_700 seed values, currently at 232_579_214_686_412_975_232\n",
      "Tried 44_800 seed values, currently at 232_621_711_545_117_126_232\n",
      "Tried 44_900 seed values, currently at 232_658_554_080_455_856_232\n",
      "Tried 45_000 seed values, currently at 232_703_340_474_043_307_232\n",
      "Tried 45_100 seed values, currently at 232_738_484_767_484_837_232\n",
      "Tried 45_200 seed values, currently at 232_768_610_101_016_867_232\n",
      "Tried 45_300 seed values, currently at 232_813_020_363_020_318_232\n",
      "Tried 45_400 seed values, currently at 232_853_940_333_049_358_232\n",
      "Tried 45_500 seed values, currently at 232_903_041_929_140_309_232\n",
      "Tried 45_600 seed values, currently at 232_945_389_111_983_549_232\n",
      "Tried 45_700 seed values, currently at 232_978_355_818_553_879_232\n",
      "Tried 45_800 seed values, currently at 233_046_903_090_309_640_332\n",
      "Tried 45_900 seed values, currently at 233_128_037_383_730_821_332\n",
      "Tried 46_000 seed values, currently at 233_191_800_606_008_191_332\n",
      "Tried 46_100 seed values, currently at 233_259_773_404_377_952_332\n",
      "Tried 46_200 seed values, currently at 233_331_413_828_314_133_332\n",
      "Tried 46_300 seed values, currently at 233_379_777_767_777_973_332\n",
      "Tried 46_400 seed values, currently at 233_445_686_464_686_544_332\n",
      "Tried 46_500 seed values, currently at 233_496_963_707_369_694_332\n",
      "Tried 46_600 seed values, currently at 233_549_738_646_837_945_332\n",
      "Tried 46_700 seed values, currently at 233_625_412_040_214_526_332\n",
      "Tried 46_800 seed values, currently at 233_679_965_353_569_976_332\n",
      "Tried 46_900 seed values, currently at 233_753_640_636_046_357_332\n",
      "Tried 47_000 seed values, currently at 233_817_829_787_928_718_332\n",
      "Tried 47_100 seed values, currently at 233_885_703_060_307_588_332\n",
      "Tried 47_200 seed values, currently at 233_967_765_363_567_769_332\n",
      "Tried 47_300 seed values, currently at 234_025_146_999_641_520_432\n",
      "Tried 47_400 seed values, currently at 234_060_627_747_726_060_432\n",
      "Tried 47_500 seed values, currently at 234_111_641_989_146_111_432\n",
      "Tried 47_600 seed values, currently at 234_156_463_444_364_651_432\n",
      "Tried 47_700 seed values, currently at 234_198_925_121_529_891_432\n",
      "Tried 47_800 seed values, currently at 234_235_542_444_245_532_432\n",
      "Tried 47_900 seed values, currently at 234_267_593_515_395_762_432\n",
      "Tried 48_000 seed values, currently at 234_314_788_404_887_413_432\n",
      "Tried 48_100 seed values, currently at 234_351_424_262_424_153_432\n",
      "Tried 48_200 seed values, currently at 234_393_529_424_925_393_432\n",
      "Tried 48_300 seed values, currently at 234_430_146_747_641_034_432\n",
      "Tried 48_400 seed values, currently at 234_458_940_585_049_854_432\n",
      "Tried 48_500 seed values, currently at 234_493_141_424_141_394_432\n",
      "Tried 48_600 seed values, currently at 234_533_618_868_816_335_432\n",
      "Tried 48_700 seed values, currently at 234_563_663_929_366_365_432\n",
      "Tried 48_800 seed values, currently at 234_603_338_969_833_306_432\n",
      "Tried 48_900 seed values, currently at 234_637_828_828_828_736_432\n",
      "Tried 49_000 seed values, currently at 234_666_437_505_734_666_432\n",
      "Tried 49_100 seed values, currently at 234_696_787_848_787_696_432\n",
      "Tried 49_200 seed values, currently at 234_743_096_131_690_347_432\n",
      "Tried 49_300 seed values, currently at 234_782_636_323_636_287_432\n",
      "Tried 49_400 seed values, currently at 234_826_935_646_539_628_432\n",
      "Tried 49_500 seed values, currently at 234_859_929_949_929_958_432\n",
      "Tried 49_600 seed values, currently at 234_887_613_969_316_788_432\n",
      "Tried 49_700 seed values, currently at 234_934_193_878_391_439_432\n",
      "Tried 49_800 seed values, currently at 234_975_733_424_337_579_432\n",
      "Tried 49_900 seed values, currently at 235_041_302_545_203_140_532\n",
      "Tried 50_000 seed values, currently at 235_124_211_363_112_421_532\n",
      "Tried 50_100 seed values, currently at 235_214_799_848_997_412_532\n",
      "Tried 50_200 seed values, currently at 235_271_903_535_309_172_532\n",
      "Tried 50_300 seed values, currently at 235_347_549_525_945_743_532\n",
      "Tried 50_400 seed values, currently at 235_413_576_686_675_314_532\n",
      "Tried 50_500 seed values, currently at 235_476_571_363_175_674_532\n",
      "Tried 50_600 seed values, currently at 235_542_635_909_536_245_532\n",
      "Tried 50_700 seed values, currently at 235_586_863_505_368_685_532\n",
      "Tried 50_800 seed values, currently at 235_655_666_888_666_556_532\n",
      "Tried 50_900 seed values, currently at 235_705_914_888_419_507_532\n",
      "Tried 51_000 seed values, currently at 235_776_875_323_578_677_532\n",
      "Tried 51_100 seed values, currently at 235_851_869_363_968_158_532\n",
      "Tried 51_200 seed values, currently at 235_914_568_020_865_419_532\n",
      "Tried 51_300 seed values, currently at 235_982_120_484_021_289_532\n",
      "Tried 51_400 seed values, currently at 236_047_669_363_966_740_632\n",
      "Tried 51_500 seed values, currently at 236_089_910_767_019_980_632\n",
      "Tried 51_600 seed values, currently at 236_143_045_727_540_341_632\n",
      "Tried 51_700 seed values, currently at 236_179_302_949_203_971_632\n",
      "Tried 51_800 seed values, currently at 236_234_079_525_970_432_632\n",
      "Tried 51_900 seed values, currently at 236_276_562_909_265_672_632\n",
      "Tried 52_000 seed values, currently at 236_324_679_929_976_423_632\n",
      "Tried 52_100 seed values, currently at 236_358_257_666_752_853_632\n",
      "Tried 52_200 seed values, currently at 236_386_919_636_919_683_632\n",
      "Tried 52_300 seed values, currently at 236_435_883_777_388_534_632\n",
      "Tried 52_400 seed values, currently at 236_469_851_444_158_964_632\n",
      "Tried 52_500 seed values, currently at 236_513_010_060_010_315_632\n",
      "Tried 52_600 seed values, currently at 236_548_892_212_298_845_632\n",
      "Tried 52_700 seed values, currently at 236_576_444_767_444_675_632\n",
      "Tried 52_800 seed values, currently at 236_626_355_909_553_626_632\n",
      "Tried 52_900 seed values, currently at 236_665_435_767_534_566_632\n",
      "Tried 53_000 seed values, currently at 236_702_259_565_952_207_632\n",
      "Tried 53_100 seed values, currently at 236_746_647_626_746_647_632\n",
      "Tried 53_200 seed values, currently at 236_774_607_282_706_477_632\n",
      "Tried 53_300 seed values, currently at 236_811_198_888_891_118_632\n",
      "Tried 53_400 seed values, currently at 236_858_159_262_951_858_632\n",
      "Tried 53_500 seed values, currently at 236_889_210_060_012_988_632\n",
      "Tried 53_600 seed values, currently at 236_937_238_262_832_739_632\n",
      "Tried 53_700 seed values, currently at 236_971_142_585_241_179_632\n",
      "Tried 53_800 seed values, currently at 237_025_302_929_203_520_732\n",
      "Tried 53_900 seed values, currently at 237_127_620_767_026_721_732\n",
      "Tried 54_000 seed values, currently at 237_230_561_707_165_032_732\n",
      "Tried 54_100 seed values, currently at 237_320_201_929_102_023_732\n",
      "Tried 54_200 seed values, currently at 237_389_637_585_736_983_732\n",
      "Tried 54_300 seed values, currently at 237_467_785_868_587_764_732\n",
      "Tried 54_400 seed values, currently at 237_558_223_101_322_855_732\n",
      "Tried 54_500 seed values, currently at 237_632_369_383_963_236_732\n",
      "Tried 54_600 seed values, currently at 237_696_483_444_384_696_732\n",
      "Tried 54_700 seed values, currently at 237_776_066_242_660_677_732\n",
      "Tried 54_800 seed values, currently at 237_854_044_232_440_458_732\n",
      "Tried 54_900 seed values, currently at 237_930_297_060_792_039_732\n",
      "Tried 55_000 seed values, currently at 237_992_764_909_467_299_732\n",
      "Tried 55_100 seed values, currently at 238_060_485_303_584_060_832\n",
      "Tried 55_200 seed values, currently at 238_115_382_636_283_511_832\n",
      "Tried 55_300 seed values, currently at 238_182_603_515_306_281_832\n",
      "Tried 55_400 seed values, currently at 238_236_063_020_360_632_832\n",
      "Tried 55_500 seed values, currently at 238_275_545_323_545_572_832\n",
      "Tried 55_600 seed values, currently at 238_330_245_000_542_033_832\n",
      "Tried 55_700 seed values, currently at 238_381_509_282_905_183_832\n",
      "Tried 55_800 seed values, currently at 238_433_346_808_643_334_832\n",
      "Tried 55_900 seed values, currently at 238_469_755_949_557_964_832\n",
      "Tried 56_000 seed values, currently at 238_519_125_282_521_915_832\n",
      "Tried 56_100 seed values, currently at 238_574_362_919_263_475_832\n",
      "Tried 56_200 seed values, currently at 238_620_169_484_961_026_832\n",
      "Tried 56_300 seed values, currently at 238_657_489_484_984_756_832\n",
      "Tried 56_400 seed values, currently at 238_696_277_818_772_696_832\n",
      "Tried 56_500 seed values, currently at 238_756_024_101_420_657_832\n",
      "Tried 56_600 seed values, currently at 238_789_677_474_776_987_832\n",
      "Tried 56_700 seed values, currently at 238_837_348_565_843_738_832\n",
      "Tried 56_800 seed values, currently at 238_880_930_070_039_088_832\n",
      "Tried 56_900 seed values, currently at 238_930_287_444_782_039_832\n",
      "Tried 57_000 seed values, currently at 238_980_946_595_649_089_832\n",
      "Tried 57_100 seed values, currently at 239_076_852_303_258_670_932\n",
      "Tried 57_200 seed values, currently at 239_216_395_121_593_612_932\n",
      "Tried 57_300 seed values, currently at 239_343_487_202_784_343_932\n",
      "Tried 57_400 seed values, currently at 239_450_207_575_702_054_932\n",
      "Tried 57_500 seed values, currently at 239_547_144_282_441_745_932\n",
      "Tried 57_600 seed values, currently at 239_654_012_404_210_456_932\n",
      "Tried 57_700 seed values, currently at 239_752_620_171_026_257_932\n",
      "Tried 57_800 seed values, currently at 239_844_336_606_633_448_932\n",
      "Tried 57_900 seed values, currently at 239_952_334_181_433_259_932\n",
      "Tried 58_000 seed values, currently at 240_042_440_484_044_240_042\n",
      "Tried 58_100 seed values, currently at 240_224_204_242_402_422_042\n",
      "Tried 58_200 seed values, currently at 240_383_543_404_345_383_042\n",
      "Tried 58_300 seed values, currently at 240_563_941_808_149_365_042\n",
      "Tried 58_400 seed values, currently at 240_759_691_454_196_957_042\n",
      "Tried 58_500 seed values, currently at 240_969_998_878_899_969_042\n",
      "Tried 58_600 seed values, currently at 241_166_948_989_849_661_142\n",
      "Tried 58_700 seed values, currently at 241_355_744_666_447_553_142\n",
      "Tried 58_800 seed values, currently at 241_526_209_343_902_625_142\n",
      "Tried 58_900 seed values, currently at 241_699_945_424_549_996_142\n",
      "Tried 59_000 seed values, currently at 241_891_588_767_885_198_142\n",
      "Tried 59_100 seed values, currently at 242_105_265_969_562_501_242\n",
      "Tried 59_200 seed values, currently at 242_242_363_484_363_242_242\n",
      "Tried 59_300 seed values, currently at 242_372_148_828_841_273_242\n",
      "Tried 59_400 seed values, currently at 242_534_631_282_136_435_242\n",
      "Tried 59_500 seed values, currently at 242_659_914_202_419_956_242\n",
      "Tried 59_600 seed values, currently at 242_812_502_161_205_218_242\n",
      "Tried 59_700 seed values, currently at 242_973_864_464_468_379_242\n",
      "Tried 59_800 seed values, currently at 243_149_301_141_103_941_342\n",
      "Tried 59_900 seed values, currently at 243_292_078_949_870_292_342\n",
      "Tried 60_000 seed values, currently at 243_423_989_353_989_324_342\n",
      "Tried 60_100 seed values, currently at 243_573_633_606_336_375_342\n",
      "Tried 60_200 seed values, currently at 243_715_404_161_404_517_342\n",
      "Tried 60_300 seed values, currently at 243_863_444_242_444_368_342\n",
      "Tried 60_400 seed values, currently at 244_039_849_040_948_930_442\n",
      "Tried 60_500 seed values, currently at 244_219_203_060_302_912_442\n",
      "Tried 60_600 seed values, currently at 244_359_865_202_568_953_442\n",
      "Tried 60_700 seed values, currently at 244_489_857_828_758_984_442\n",
      "Tried 60_800 seed values, currently at 244_642_223_464_322_246_442\n",
      "Tried 60_900 seed values, currently at 244_781_925_444_529_187_442\n",
      "Tried 61_000 seed values, currently at 244_932_119_545_911_239_442\n",
      "Tried 61_100 seed values, currently at 245_098_301_929_103_890_542\n",
      "Tried 61_200 seed values, currently at 245_296_671_525_176_692_542\n",
      "Tried 61_300 seed values, currently at 245_467_121_161_121_764_542\n",
      "Tried 61_400 seed values, currently at 245_614_439_767_934_416_542\n",
      "Tried 61_500 seed values, currently at 245_754_934_949_439_457_542\n",
      "Tried 61_600 seed values, currently at 245_895_711_606_117_598_542\n",
      "Tried 61_700 seed values, currently at 246_084_734_626_437_480_642\n",
      "Tried 61_800 seed values, currently at 246_285_541_707_145_582_642\n",
      "Tried 61_900 seed values, currently at 246_457_167_969_761_754_642\n",
      "Tried 62_000 seed values, currently at 246_593_762_929_267_395_642\n",
      "Tried 62_100 seed values, currently at 246_758_583_414_385_857_642\n",
      "Tried 62_200 seed values, currently at 246_901_150_898_051_109_642\n",
      "Tried 62_300 seed values, currently at 247_111_338_222_833_111_742\n",
      "Tried 62_400 seed values, currently at 247_350_779_848_977_053_742\n",
      "Tried 62_500 seed values, currently at 247_552_641_969_146_255_742\n",
      "Tried 62_600 seed values, currently at 247_749_306_444_603_947_742\n",
      "Tried 62_700 seed values, currently at 247_898_573_141_375_898_742\n",
      "Tried 62_800 seed values, currently at 248_147_322_747_223_741_842\n",
      "Tried 62_900 seed values, currently at 248_385_857_323_758_583_842\n",
      "Tried 63_000 seed values, currently at 248_575_994_707_499_575_842\n",
      "Tried 63_100 seed values, currently at 248_757_157_484_751_757_842\n",
      "Tried 63_200 seed values, currently at 248_948_334_060_433_849_842\n",
      "Tried 63_300 seed values, currently at 249_173_548_868_845_371_942\n",
      "Tried 63_400 seed values, currently at 249_479_461_727_164_974_942\n",
      "Tried 63_500 seed values, currently at 249_688_249_808_942_886_942\n",
      "Tried 63_600 seed values, currently at 249_889_193_767_391_988_942\n",
      "Tried 63_700 seed values, currently at 250_028_710_181_017_820_052\n",
      "Tried 63_800 seed values, currently at 250_121_804_909_408_121_052\n",
      "Tried 63_900 seed values, currently at 250_212_601_343_106_212_052\n",
      "Tried 64_000 seed values, currently at 250_297_845_606_548_792_052\n",
      "Tried 64_100 seed values, currently at 250_370_850_767_058_073_052\n",
      "Tried 64_200 seed values, currently at 250_454_227_838_722_454_052\n",
      "Tried 64_300 seed values, currently at 250_545_503_020_305_545_052\n",
      "Tried 64_400 seed values, currently at 250_633_537_787_735_336_052\n",
      "Tried 64_500 seed values, currently at 250_726_682_707_286_627_052\n",
      "Tried 64_600 seed values, currently at 250_826_481_525_184_628_052\n",
      "Tried 64_700 seed values, currently at 250_928_884_808_488_829_052\n",
      "Tried 64_800 seed values, currently at 251_021_675_545_576_120_152\n",
      "Tried 64_900 seed values, currently at 251_079_874_585_478_970_152\n",
      "Tried 65_000 seed values, currently at 251_125_178_575_871_521_152\n",
      "Tried 65_100 seed values, currently at 251_165_490_868_094_561_152\n",
      "Tried 65_200 seed values, currently at 251_215_899_969_998_512_152\n",
      "Tried 65_300 seed values, currently at 251_256_724_646_427_652_152\n",
      "Tried 65_400 seed values, currently at 251_312_424_000_424_213_152\n",
      "Tried 65_500 seed values, currently at 251_346_224_060_422_643_152\n",
      "Tried 65_600 seed values, currently at 251_381_662_767_266_183_152\n",
      "Tried 65_700 seed values, currently at 251_432_636_888_636_234_152\n",
      "Tried 65_800 seed values, currently at 251_484_842_161_248_484_152\n",
      "Tried 65_900 seed values, currently at 251_531_564_161_465_135_152\n",
      "Tried 66_000 seed values, currently at 251_571_701_545_107_175_152\n",
      "Tried 66_100 seed values, currently at 251_628_203_686_302_826_152\n",
      "Tried 66_200 seed values, currently at 251_673_359_666_953_376_152\n",
      "Tried 66_300 seed values, currently at 251_728_842_939_248_827_152\n",
      "Tried 66_400 seed values, currently at 251_765_752_949_257_567_152\n",
      "Tried 66_500 seed values, currently at 251_822_432_323_234_228_152\n",
      "Tried 66_600 seed values, currently at 251_867_125_646_521_768_152\n",
      "Tried 66_700 seed values, currently at 251_923_778_080_877_329_152\n",
      "Tried 66_800 seed values, currently at 251_967_794_585_497_769_152\n",
      "Tried 66_900 seed values, currently at 252_035_363_060_363_530_252\n",
      "Tried 67_000 seed values, currently at 252_135_449_989_944_531_252\n",
      "Tried 67_100 seed values, currently at 252_213_677_101_776_312_252\n",
      "Tried 67_200 seed values, currently at 252_295_387_626_783_592_252\n",
      "Tried 67_300 seed values, currently at 252_361_550_222_055_163_252\n",
      "Tried 67_400 seed values, currently at 252_439_442_323_244_934_252\n",
      "Tried 67_500 seed values, currently at 252_520_103_545_301_025_252\n",
      "Tried 67_600 seed values, currently at 252_594_950_424_059_495_252\n",
      "Tried 67_700 seed values, currently at 252_665_257_282_752_566_252\n",
      "Tried 67_800 seed values, currently at 252_738_553_929_355_837_252\n",
      "Tried 67_900 seed values, currently at 252_829_154_353_451_928_252\n",
      "Tried 68_000 seed values, currently at 252_914_320_151_023_419_252\n",
      "Tried 68_100 seed values, currently at 253_001_552_141_255_100_352\n",
      "Tried 68_200 seed values, currently at 253_039_149_000_941_930_352\n",
      "Tried 68_300 seed values, currently at 253_079_556_767_655_970_352\n",
      "Tried 68_400 seed values, currently at 253_132_207_787_702_231_352\n",
      "Tried 68_500 seed values, currently at 253_176_975_949_579_671_352\n",
      "Tried 68_600 seed values, currently at 253_224_455_646_554_422_352\n",
      "Tried 68_700 seed values, currently at 253_255_503_111_305_552_352\n",
      "Tried 68_800 seed values, currently at 253_302_001_505_100_203_352\n",
      "Tried 68_900 seed values, currently at 253_351_216_929_612_153_352\n",
      "Tried 69_000 seed values, currently at 253_400_496_020_694_004_352\n",
      "Tried 69_100 seed values, currently at 253_440_294_060_492_044_352\n",
      "Tried 69_200 seed values, currently at 253_473_231_121_132_374_352\n",
      "Tried 69_300 seed values, currently at 253_521_798_646_897_125_352\n",
      "Tried 69_400 seed values, currently at 253_558_444_535_444_855_352\n",
      "Tried 69_500 seed values, currently at 253_607_296_868_692_706_352\n",
      "Tried 69_600 seed values, currently at 253_644_967_121_769_446_352\n",
      "Tried 69_700 seed values, currently at 253_675_249_727_942_576_352\n",
      "Tried 69_800 seed values, currently at 253_722_752_434_257_227_352\n",
      "Tried 69_900 seed values, currently at 253_763_920_424_029_367_352\n",
      "Tried 70_000 seed values, currently at 253_809_530_545_035_908_352\n",
      "Tried 70_100 seed values, currently at 253_845_670_343_076_548_352\n",
      "Tried 70_200 seed values, currently at 253_876_738_262_837_678_352\n",
      "Tried 70_300 seed values, currently at 253_931_424_141_424_139_352\n",
      "Tried 70_400 seed values, currently at 253_975_855_646_558_579_352\n",
      "Tried 70_500 seed values, currently at 254_038_959_282_959_830_452\n",
      "Tried 70_600 seed values, currently at 254_126_293_424_392_621_452\n",
      "Tried 70_700 seed values, currently at 254_198_278_767_872_891_452\n",
      "Tried 70_800 seed values, currently at 254_267_935_787_539_762_452\n",
      "Tried 70_900 seed values, currently at 254_348_325_585_523_843_452\n",
      "Tried 71_000 seed values, currently at 254_417_334_606_433_714_452\n",
      "Tried 71_100 seed values, currently at 254_480_327_191_723_084_452\n",
      "Tried 71_200 seed values, currently at 254_556_677_585_776_655_452\n",
      "Tried 71_300 seed values, currently at 254_629_219_282_912_926_452\n",
      "Tried 71_400 seed values, currently at 254_687_452_181_254_786_452\n",
      "Tried 71_500 seed values, currently at 254_754_515_161_515_457_452\n",
      "Tried 71_600 seed values, currently at 254_821_518_969_815_128_452\n",
      "Tried 71_700 seed values, currently at 254_889_447_000_744_988_452\n",
      "Tried 71_800 seed values, currently at 254_973_817_070_718_379_452\n",
      "Tried 71_900 seed values, currently at 255_031_134_161_431_130_552\n",
      "Tried 72_000 seed values, currently at 255_085_331_606_133_580_552\n",
      "Tried 72_100 seed values, currently at 255_135_973_505_379_531_552\n",
      "Tried 72_200 seed values, currently at 255_175_142_161_241_571_552\n",
      "Tried 72_300 seed values, currently at 255_222_355_424_553_222_552\n",
      "Tried 72_400 seed values, currently at 255_267_454_565_454_762_552\n",
      "Tried 72_500 seed values, currently at 255_310_588_727_885_013_552\n",
      "Tried 72_600 seed values, currently at 255_347_426_050_624_743_552\n",
      "Tried 72_700 seed values, currently at 255_384_276_888_672_483_552\n",
      "Tried 72_800 seed values, currently at 255_432_509_686_905_234_552\n",
      "Tried 72_900 seed values, currently at 255_471_328_949_823_174_552\n",
      "Tried 73_000 seed values, currently at 255_519_165_363_561_915_552\n",
      "Tried 73_100 seed values, currently at 255_552_214_626_412_255_552\n",
      "Tried 73_200 seed values, currently at 255_579_731_101_137_975_552\n",
      "Tried 73_300 seed values, currently at 255_627_517_323_715_726_552\n",
      "Tried 73_400 seed values, currently at 255_666_779_989_977_666_552\n",
      "Tried 73_500 seed values, currently at 255_715_066_686_660_517_552\n",
      "Tried 73_600 seed values, currently at 255_748_169_464_961_847_552\n",
      "Tried 73_700 seed values, currently at 255_776_632_101_236_677_552\n",
      "Tried 73_800 seed values, currently at 255_825_020_131_020_528_552\n",
      "Tried 73_900 seed values, currently at 255_868_275_606_572_868_552\n",
      "Tried 74_000 seed values, currently at 255_910_543_040_345_019_552\n",
      "Tried 74_100 seed values, currently at 255_951_317_727_713_159_552\n",
      "Tried 74_200 seed values, currently at 255_979_791_838_197_979_552\n",
      "Tried 74_300 seed values, currently at 256_046_233_787_332_640_652\n",
      "Tried 74_400 seed values, currently at 256_148_923_181_329_841_652\n",
      "Tried 74_500 seed values, currently at 256_244_521_868_125_442_652\n",
      "Tried 74_600 seed values, currently at 256_331_669_242_966_133_652\n",
      "Tried 74_700 seed values, currently at 256_411_414_595_414_114_652\n",
      "Tried 74_800 seed values, currently at 256_474_959_060_959_474_652\n",
      "Tried 74_900 seed values, currently at 256_552_120_808_021_255_652\n",
      "Tried 75_000 seed values, currently at 256_629_639_323_936_926_652\n",
      "Tried 75_100 seed values, currently at 256_696_784_545_487_696_652\n",
      "Tried 75_200 seed values, currently at 256_774_636_929_636_477_652\n",
      "Tried 75_300 seed values, currently at 256_856_521_040_125_658_652\n",
      "Tried 75_400 seed values, currently at 256_933_320_474_023_339_652\n",
      "Tried 75_500 seed values, currently at 256_990_928_575_829_099_652\n",
      "Tried 75_600 seed values, currently at 257_046_819_333_918_640_752\n",
      "Tried 75_700 seed values, currently at 257_096_373_484_373_690_752\n",
      "Tried 75_800 seed values, currently at 257_158_989_999_989_851_752\n",
      "Tried 75_900 seed values, currently at 257_213_347_606_743_312_752\n",
      "Tried 76_000 seed values, currently at 257_258_409_959_904_852_752\n",
      "Tried 76_100 seed values, currently at 257_294_081_484_180_492_752\n",
      "Tried 76_200 seed values, currently at 257_357_596_343_695_753_752\n",
      "Tried 76_300 seed values, currently at 257_396_926_727_629_693_752\n",
      "Tried 76_400 seed values, currently at 257_451_314_020_413_154_752\n",
      "Tried 76_500 seed values, currently at 257_487_144_323_441_784_752\n",
      "Tried 76_600 seed values, currently at 257_539_415_464_514_935_752\n",
      "Tried 76_700 seed values, currently at 257_580_701_515_107_085_752\n",
      "Tried 76_800 seed values, currently at 257_628_648_444_846_826_752\n",
      "Tried 76_900 seed values, currently at 257_665_215_141_512_566_752\n",
      "Tried 77_000 seed values, currently at 257_692_900_424_009_296_752\n",
      "Tried 77_100 seed values, currently at 257_755_374_828_473_557_752\n",
      "Tried 77_200 seed values, currently at 257_787_255_606_552_787_752\n",
      "Tried 77_300 seed values, currently at 257_841_425_969_524_148_752\n",
      "Tried 77_400 seed values, currently at 257_870_256_969_652_078_752\n",
      "Tried 77_500 seed values, currently at 257_899_987_979_789_998_752\n",
      "Tried 77_600 seed values, currently at 257_960_120_000_021_069_752\n",
      "Tried 77_700 seed values, currently at 257_995_676_767_676_599_752\n",
      "Tried 77_800 seed values, currently at 258_123_333_555_333_321_852\n",
      "Tried 77_900 seed values, currently at 258_252_257_383_752_252_852\n",
      "Tried 78_000 seed values, currently at 258_358_623_393_326_853_852\n",
      "Tried 78_100 seed values, currently at 258_456_221_434_122_654_852\n",
      "Tried 78_200 seed values, currently at 258_554_085_282_580_455_852\n",
      "Tried 78_300 seed values, currently at 258_640_123_868_321_046_852\n",
      "Tried 78_400 seed values, currently at 258_731_895_525_598_137_852\n",
      "Tried 78_500 seed values, currently at 258_792_351_525_153_297_852\n",
      "Tried 78_600 seed values, currently at 258_876_194_989_491_678_852\n",
      "Tried 78_700 seed values, currently at 258_960_556_313_655_069_852\n",
      "Tried 78_800 seed values, currently at 259_038_773_767_377_830_952\n",
      "Tried 78_900 seed values, currently at 259_108_299_141_992_801_952\n",
      "Tried 79_000 seed values, currently at 259_167_317_494_713_761_952\n",
      "Tried 79_100 seed values, currently at 259_239_882_000_288_932_952\n",
      "Tried 79_200 seed values, currently at 259_304_664_171_466_403_952\n",
      "Tried 79_300 seed values, currently at 259_360_711_535_117_063_952\n",
      "Tried 79_400 seed values, currently at 259_411_018_040_810_114_952\n",
      "Tried 79_500 seed values, currently at 259_480_594_707_495_084_952\n",
      "Tried 79_600 seed values, currently at 259_546_699_010_996_645_952\n",
      "Tried 79_700 seed values, currently at 259_585_115_989_511_585_952\n",
      "Tried 79_800 seed values, currently at 259_655_123_444_321_556_952\n",
      "Tried 79_900 seed values, currently at 259_694_547_858_745_496_952\n",
      "Tried 80_000 seed values, currently at 259_754_496_606_694_457_952\n",
      "Tried 80_100 seed values, currently at 259_793_246_909_642_397_952\n",
      "Tried 80_200 seed values, currently at 259_852_488_747_884_258_952\n",
      "Tried 80_300 seed values, currently at 259_894_182_282_281_498_952\n",
      "Tried 80_400 seed values, currently at 259_953_205_727_502_359_952\n",
      "Tried 80_500 seed values, currently at 259_986_446_626_644_689_952\n",
      "Tried 80_600 seed values, currently at 260_140_833_828_338_041_062\n",
      "Tried 80_700 seed values, currently at 260_358_904_151_409_853_062\n",
      "Tried 80_800 seed values, currently at 260_629_431_333_134_926_062\n",
      "Tried 80_900 seed values, currently at 260_899_679_080_976_998_062\n",
      "Tried 81_000 seed values, currently at 261_160_844_262_448_061_162\n",
      "Tried 81_100 seed values, currently at 261_372_142_161_241_273_162\n",
      "Tried 81_200 seed values, currently at 261_589_963_181_369_985_162\n",
      "Tried 81_300 seed values, currently at 261_846_283_595_382_648_162\n",
      "Tried 81_400 seed values, currently at 262_113_789_666_987_311_262\n",
      "Tried 81_500 seed values, currently at 262_315_527_464_725_513_262\n",
      "Tried 81_600 seed values, currently at 262_499_839_808_938_994_262\n",
      "Tried 81_700 seed values, currently at 262_678_627_565_726_876_262\n",
      "Tried 81_800 seed values, currently at 262_883_734_424_437_388_262\n",
      "Tried 81_900 seed values, currently at 263_132_565_545_565_231_362\n",
      "Tried 82_000 seed values, currently at 263_333_006_323_600_333_362\n",
      "Tried 82_100 seed values, currently at 263_524_627_545_726_425_362\n",
      "Tried 82_200 seed values, currently at 263_722_405_949_504_227_362\n",
      "Tried 82_300 seed values, currently at 263_933_647_262_746_339_362\n",
      "Tried 82_400 seed values, currently at 264_128_888_101_888_821_462\n",
      "Tried 82_500 seed values, currently at 264_337_736_161_637_733_462\n",
      "Tried 82_600 seed values, currently at 264_486_558_969_855_684_462\n",
      "Tried 82_700 seed values, currently at 264_659_666_989_666_956_462\n",
      "Tried 82_800 seed values, currently at 264_882_842_404_248_288_462\n",
      "Tried 82_900 seed values, currently at 265_118_469_363_964_811_562\n",
      "Tried 83_000 seed values, currently at 265_326_689_101_986_623_562\n",
      "Tried 83_100 seed values, currently at 265_501_137_363_731_105_562\n",
      "Tried 83_200 seed values, currently at 265_679_927_949_729_976_562\n",
      "Tried 83_300 seed values, currently at 265_870_330_121_033_078_562\n",
      "Tried 83_400 seed values, currently at 266_053_100_626_001_350_662\n",
      "Tried 83_500 seed values, currently at 266_271_938_848_839_172_662\n",
      "Tried 83_600 seed values, currently at 266_481_034_727_430_184_662\n",
      "Tried 83_700 seed values, currently at 266_684_151_060_151_486_662\n",
      "Tried 83_800 seed values, currently at 266_863_109_707_901_368_662\n",
      "Tried 83_900 seed values, currently at 267_055_152_222_251_550_762\n",
      "Tried 84_000 seed values, currently at 267_328_005_141_500_823_762\n",
      "Tried 84_100 seed values, currently at 267_537_006_363_600_735_762\n",
      "Tried 84_200 seed values, currently at 267_744_206_767_602_447_762\n",
      "Tried 84_300 seed values, currently at 267_948_927_888_729_849_762\n",
      "Tried 84_400 seed values, currently at 268_194_405_353_504_491_862\n",
      "Tried 84_500 seed values, currently at 268_468_235_565_532_864_862\n",
      "Tried 84_600 seed values, currently at 268_686_220_000_022_686_862\n",
      "Tried 84_700 seed values, currently at 268_877_255_282_552_778_862\n",
      "Tried 84_800 seed values, currently at 269_126_004_888_400_621_962\n",
      "Tried 84_900 seed values, currently at 269_474_435_020_534_474_962\n",
      "Tried 85_000 seed values, currently at 269_742_768_141_867_247_962\n",
      "Tried 85_100 seed values, currently at 269_966_587_121_785_669_962\n",
      "Tried 85_200 seed values, currently at 270_056_128_585_821_650_072\n",
      "Tried 85_300 seed values, currently at 270_124_868_686_868_421_072\n",
      "Tried 85_400 seed values, currently at 270_184_750_484_057_481_072\n",
      "Tried 85_500 seed values, currently at 270_247_977_989_779_742_072\n",
      "Tried 85_600 seed values, currently at 270_312_384_474_483_213_072\n",
      "Tried 85_700 seed values, currently at 270_369_849_444_948_963_072\n",
      "Tried 85_800 seed values, currently at 270_434_217_858_712_434_072\n",
      "Tried 85_900 seed values, currently at 270_509_563_202_365_905_072\n",
      "Tried 86_000 seed values, currently at 270_568_924_868_429_865_072\n",
      "Tried 86_100 seed values, currently at 270_639_626_272_626_936_072\n",
      "Tried 86_200 seed values, currently at 270_703_939_343_939_307_072\n",
      "Tried 86_300 seed values, currently at 270_749_621_878_126_947_072\n",
      "Tried 86_400 seed values, currently at 270_816_213_252_312_618_072\n",
      "Tried 86_500 seed values, currently at 270_879_800_525_008_978_072\n",
      "Tried 86_600 seed values, currently at 270_942_115_505_511_249_072\n",
      "Tried 86_700 seed values, currently at 271_009_111_424_111_900_172\n",
      "Tried 86_800 seed values, currently at 271_127_250_424_052_721_172\n",
      "Tried 86_900 seed values, currently at 271_227_859_585_958_722_172\n",
      "Tried 87_000 seed values, currently at 271_333_816_848_618_333_172\n",
      "Tried 87_100 seed values, currently at 271_446_715_565_517_644_172\n",
      "Tried 87_200 seed values, currently at 271_565_764_181_467_565_172\n",
      "Tried 87_300 seed values, currently at 271_668_937_676_739_866_172\n",
      "Tried 87_400 seed values, currently at 271_779_671_161_176_977_172\n",
      "Tried 87_500 seed values, currently at 271_890_068_383_860_098_172\n",
      "Tried 87_600 seed values, currently at 272_005_635_000_536_500_272\n",
      "Tried 87_700 seed values, currently at 272_056_311_262_113_650_272\n",
      "Tried 87_800 seed values, currently at 272_126_715_303_517_621_272\n",
      "Tried 87_900 seed values, currently at 272_188_842_565_248_881_272\n",
      "Tried 88_000 seed values, currently at 272_235_667_181_766_532_272\n",
      "Tried 88_100 seed values, currently at 272_282_864_080_468_282_272\n",
      "Tried 88_200 seed values, currently at 272_342_010_585_010_243_272\n",
      "Tried 88_300 seed values, currently at 272_403_072_858_270_304_272\n",
      "Tried 88_400 seed values, currently at 272_440_887_888_788_044_272\n",
      "Tried 88_500 seed values, currently at 272_487_904_868_409_784_272\n",
      "Tried 88_600 seed values, currently at 272_544_390_121_093_445_272\n",
      "Tried 88_700 seed values, currently at 272_600_624_383_426_006_272\n",
      "Tried 88_800 seed values, currently at 272_647_609_787_906_746_272\n",
      "Tried 88_900 seed values, currently at 272_690_764_373_467_096_272\n",
      "Tried 89_000 seed values, currently at 272_748_414_141_414_847_272\n",
      "Tried 89_100 seed values, currently at 272_805_377_656_773_508_272\n",
      "Tried 89_200 seed values, currently at 272_845_827_464_728_548_272\n",
      "Tried 89_300 seed values, currently at 272_893_921_424_129_398_272\n",
      "Tried 89_400 seed values, currently at 272_958_386_797_683_859_272\n",
      "Tried 89_500 seed values, currently at 273_046_867_747_768_640_372\n",
      "Tried 89_600 seed values, currently at 273_137_804_989_408_731_372\n",
      "Tried 89_700 seed values, currently at 273_246_218_787_812_642_372\n",
      "Tried 89_800 seed values, currently at 273_349_047_525_740_943_372\n",
      "Tried 89_900 seed values, currently at 273_460_015_646_510_064_372\n",
      "Tried 90_000 seed values, currently at 273_575_503_787_305_575_372\n",
      "Tried 90_100 seed values, currently at 273_676_317_323_713_676_372\n",
      "Tried 90_200 seed values, currently at 273_771_920_646_029_177_372\n",
      "Tried 90_300 seed values, currently at 273_877_703_242_307_778_372\n",
      "Tried 90_400 seed values, currently at 273_991_903_949_309_199_372\n",
      "Tried 90_500 seed values, currently at 274_056_215_767_512_650_472\n",
      "Tried 90_600 seed values, currently at 274_118_138_353_831_811_472\n",
      "Tried 90_700 seed values, currently at 274_165_070_888_070_561_472\n",
      "Tried 90_800 seed values, currently at 274_227_556_424_655_722_472\n",
      "Tried 90_900 seed values, currently at 274_288_318_949_813_882_472\n",
      "Tried 91_000 seed values, currently at 274_341_795_202_597_143_472\n",
      "Tried 91_100 seed values, currently at 274_385_515_808_515_583_472\n",
      "Tried 91_200 seed values, currently at 274_442_664_101_466_244_472\n",
      "Tried 91_300 seed values, currently at 274_497_750_262_057_794_472\n",
      "Tried 91_400 seed values, currently at 274_543_533_000_335_345_472\n",
      "Tried 91_500 seed values, currently at 274_582_421_424_124_285_472\n",
      "Tried 91_600 seed values, currently at 274_636_856_353_658_636_472\n",
      "Tried 91_700 seed values, currently at 274_685_313_464_313_586_472\n",
      "Tried 91_800 seed values, currently at 274_742_547_202_745_247_472\n",
      "Tried 91_900 seed values, currently at 274_783_608_000_806_387_472\n",
      "Tried 92_000 seed values, currently at 274_840_677_464_776_048_472\n",
      "Tried 92_100 seed values, currently at 274_885_624_686_426_588_472\n",
      "Tried 92_200 seed values, currently at 274_944_302_131_203_449_472\n",
      "Tried 92_300 seed values, currently at 274_982_050_070_050_289_472\n",
      "Tried 92_400 seed values, currently at 275_049_647_767_746_940_572\n",
      "Tried 92_500 seed values, currently at 275_161_111_747_111_161_572\n",
      "Tried 92_600 seed values, currently at 275_256_510_717_015_652_572\n",
      "Tried 92_700 seed values, currently at 275_355_997_767_799_553_572\n",
      "Tried 92_800 seed values, currently at 275_447_113_868_311_744_572\n",
      "Tried 92_900 seed values, currently at 275_527_082_626_280_725_572\n",
      "Tried 93_000 seed values, currently at 275_609_178_585_871_906_572\n",
      "Tried 93_100 seed values, currently at 275_688_747_525_747_886_572\n",
      "Tried 93_200 seed values, currently at 275_785_206_525_602_587_572\n",
      "Tried 93_300 seed values, currently at 275_874_646_787_646_478_572\n",
      "Tried 93_400 seed values, currently at 275_962_415_787_514_269_572\n",
      "Tried 93_500 seed values, currently at 276_024_964_838_469_420_672\n",
      "Tried 93_600 seed values, currently at 276_078_615_858_516_870_672\n",
      "Tried 93_700 seed values, currently at 276_139_316_444_613_931_672\n",
      "Tried 93_800 seed values, currently at 276_197_048_848_840_791_672\n",
      "Tried 93_900 seed values, currently at 276_245_577_545_775_542_672\n",
      "Tried 94_000 seed values, currently at 276_288_583_141_385_882_672\n",
      "Tried 94_100 seed values, currently at 276_351_686_727_686_153_672\n",
      "Tried 94_200 seed values, currently at 276_404_810_242_018_404_672\n",
      "Tried 94_300 seed values, currently at 276_453_081_171_180_354_672\n",
      "Tried 94_400 seed values, currently at 276_503_010_888_010_305_672\n",
      "Tried 94_500 seed values, currently at 276_566_524_424_425_665_672\n",
      "Tried 94_600 seed values, currently at 276_622_399_484_993_226_672\n",
      "Tried 94_700 seed values, currently at 276_666_233_181_332_666_672\n",
      "Tried 94_800 seed values, currently at 276_700_542_555_245_007_672\n",
      "Tried 94_900 seed values, currently at 276_763_722_767_227_367_672\n",
      "Tried 95_000 seed values, currently at 276_810_375_606_573_018_672\n",
      "Tried 95_100 seed values, currently at 276_856_335_060_533_658_672\n",
      "Tried 95_200 seed values, currently at 276_889_695_666_596_988_672\n",
      "Tried 95_300 seed values, currently at 276_951_809_444_908_159_672\n",
      "Tried 95_400 seed values, currently at 276_993_884_323_488_399_672\n",
      "Tried 95_500 seed values, currently at 277_105_974_444_479_501_772\n",
      "Tried 95_600 seed values, currently at 277_224_969_141_969_422_772\n",
      "Tried 95_700 seed values, currently at 277_320_275_101_572_023_772\n",
      "Tried 95_800 seed values, currently at 277_423_451_929_154_324_772\n",
      "Tried 95_900 seed values, currently at 277_514_499_525_994_415_772\n",
      "Tried 96_000 seed values, currently at 277_612_287_717_782_216_772\n",
      "Tried 96_100 seed values, currently at 277_693_654_949_456_396_772\n",
      "Tried 96_200 seed values, currently at 277_782_650_565_056_287_772\n",
      "Tried 96_300 seed values, currently at 277_867_796_101_697_768_772\n",
      "Tried 96_400 seed values, currently at 277_966_215_141_512_669_772\n",
      "Tried 96_500 seed values, currently at 278_033_297_545_792_330_872\n",
      "Tried 96_600 seed values, currently at 278_117_717_161_717_711_872\n",
      "Tried 96_700 seed values, currently at 278_177_116_838_611_771_872\n",
      "Tried 96_800 seed values, currently at 278_243_789_707_987_342_872\n",
      "Tried 96_900 seed values, currently at 278_308_272_858_272_803_872\n",
      "Tried 97_000 seed values, currently at 278_362_946_959_649_263_872\n",
      "Tried 97_100 seed values, currently at 278_419_545_060_545_914_872\n",
      "Tried 97_200 seed values, currently at 278_477_055_141_550_774_872\n",
      "Tried 97_300 seed values, currently at 278_534_344_242_443_435_872\n",
      "Tried 97_400 seed values, currently at 278_580_121_848_121_085_872\n",
      "Tried 97_500 seed values, currently at 278_644_641_000_146_446_872\n",
      "Tried 97_600 seed values, currently at 278_689_002_282_200_986_872\n",
      "Tried 97_700 seed values, currently at 278_742_786_303_687_247_872\n",
      "Tried 97_800 seed values, currently at 278_776_400_989_004_677_872\n",
      "Tried 97_900 seed values, currently at 278_840_225_323_522_048_872\n",
      "Tried 98_000 seed values, currently at 278_884_517_464_715_488_872\n",
      "Tried 98_100 seed values, currently at 278_948_891_959_198_849_872\n",
      "Tried 98_200 seed values, currently at 278_982_115_505_511_289_872\n",
      "Tried 98_300 seed values, currently at 279_077_605_787_506_770_972\n",
      "Tried 98_400 seed values, currently at 279_242_397_626_793_242_972\n",
      "Tried 98_500 seed values, currently at 279_385_115_909_511_583_972\n",
      "Tried 98_600 seed values, currently at 279_484_335_909_533_484_972\n",
      "Tried 98_700 seed values, currently at 279_589_751_585_157_985_972\n",
      "Tried 98_800 seed values, currently at 279_703_795_676_597_307_972\n",
      "Tried 98_900 seed values, currently at 279_814_489_040_984_418_972\n",
      "Tried 99_000 seed values, currently at 279_899_987_202_789_998_972\n",
      "Tried 99_100 seed values, currently at 279_998_124_747_421_899_972\n",
      "Tried 99_200 seed values, currently at 280_286_545_484_545_682_082\n",
      "Tried 99_300 seed values, currently at 280_626_132_474_231_626_082\n",
      "Tried 99_400 seed values, currently at 281_087_273_626_372_780_182\n",
      "Tried 99_500 seed values, currently at 281_421_715_424_517_124_182\n",
      "Tried 99_600 seed values, currently at 281_747_835_111_538_747_182\n",
      "Tried 99_700 seed values, currently at 282_075_340_181_043_570_282\n",
      "Tried 99_800 seed values, currently at 282_362_123_383_321_263_282\n",
      "Tried 99_900 seed values, currently at 282_657_504_060_405_756_282\n",
      "Tried 100_000 seed values, currently at 282_935_321_626_123_539_282\n",
      "Tried 100_100 seed values, currently at 283_197_245_464_542_791_382\n",
      "Tried 100_200 seed values, currently at 283_480_341_585_143_084_382\n",
      "Tried 100_300 seed values, currently at 283_776_812_000_218_677_382\n",
      "Tried 100_400 seed values, currently at 284_070_190_181_091_070_482\n",
      "Tried 100_500 seed values, currently at 284_376_775_262_577_673_482\n",
      "Tried 100_600 seed values, currently at 284_679_128_060_821_976_482\n",
      "Tried 100_700 seed values, currently at 284_942_534_929_435_249_482\n",
      "Tried 100_800 seed values, currently at 285_204_600_141_006_402_582\n",
      "Tried 100_900 seed values, currently at 285_510_227_323_722_015_582\n",
      "Tried 101_000 seed values, currently at 285_795_323_121_323_597_582\n",
      "Tried 101_100 seed values, currently at 286_076_050_868_050_670_682\n",
      "Tried 101_200 seed values, currently at 286_359_746_323_647_953_682\n",
      "Tried 101_300 seed values, currently at 286_596_044_161_440_695_682\n",
      "Tried 101_400 seed values, currently at 286_851_629_282_926_158_682\n",
      "Tried 101_500 seed values, currently at 287_109_045_303_540_901_782\n",
      "Tried 101_600 seed values, currently at 287_438_759_101_957_834_782\n",
      "Tried 101_700 seed values, currently at 287_695_211_101_112_596_782\n",
      "Tried 101_800 seed values, currently at 287_971_877_727_778_179_782\n",
      "Tried 101_900 seed values, currently at 288_285_200_505_002_582_882\n",
      "Tried 102_000 seed values, currently at 288_577_912_949_219_775_882\n",
      "Tried 102_100 seed values, currently at 288_846_953_020_359_648_882\n",
      "Tried 102_200 seed values, currently at 289_096_937_101_739_690_982\n",
      "Tried 102_300 seed values, currently at 289_465_257_888_752_564_982\n",
      "Tried 102_400 seed values, currently at 289_741_105_626_501_147_982\n",
      "Tried 102_500 seed values, currently at 289_979_753_656_357_979_982\n",
      "Tried 102_600 seed values, currently at 290_148_929_767_929_841_092\n",
      "Tried 102_700 seed values, currently at 290_315_859_282_958_513_092\n",
      "Tried 102_800 seed values, currently at 290_522_837_363_738_225_092\n",
      "Tried 102_900 seed values, currently at 290_714_092_868_290_417_092\n",
      "Tried 103_000 seed values, currently at 290_891_307_303_703_198_092\n",
      "Tried 103_100 seed values, currently at 291_014_918_828_819_410_192\n",
      "Tried 103_200 seed values, currently at 291_083_712_949_217_380_192\n",
      "Tried 103_300 seed values, currently at 291_164_744_686_447_461_192\n",
      "Tried 103_400 seed values, currently at 291_234_926_404_629_432_192\n",
      "Tried 103_500 seed values, currently at 291_318_241_020_142_813_192\n",
      "Tried 103_600 seed values, currently at 291_401_569_808_965_104_192\n",
      "Tried 103_700 seed values, currently at 291_464_405_464_504_464_192\n",
      "Tried 103_800 seed values, currently at 291_537_907_343_709_735_192\n",
      "Tried 103_900 seed values, currently at 291_617_040_242_040_716_192\n",
      "Tried 104_000 seed values, currently at 291_694_707_828_707_496_192\n",
      "Tried 104_100 seed values, currently at 291_783_925_767_529_387_192\n",
      "Tried 104_200 seed values, currently at 291_845_534_686_435_548_192\n",
      "Tried 104_300 seed values, currently at 291_923_725_010_527_329_192\n",
      "Tried 104_400 seed values, currently at 291_997_725_555_527_799_192\n",
      "Tried 104_500 seed values, currently at 292_129_316_020_613_921_292\n",
      "Tried 104_600 seed values, currently at 292_285_923_848_329_582_292\n",
      "Tried 104_700 seed values, currently at 292_437_414_969_414_734_292\n",
      "Tried 104_800 seed values, currently at 292_582_623_666_326_285_292\n",
      "Tried 104_900 seed values, currently at 292_725_813_474_318_527_292\n",
      "Tried 105_000 seed values, currently at 292_878_944_848_449_878_292\n",
      "Tried 105_100 seed values, currently at 293_021_334_343_433_120_392\n",
      "Tried 105_200 seed values, currently at 293_110_043_848_340_011_392\n",
      "Tried 105_300 seed values, currently at 293_171_097_696_790_171_392\n",
      "Tried 105_400 seed values, currently at 293_241_040_767_040_142_392\n",
      "Tried 105_500 seed values, currently at 293_313_052_949_250_313_392\n",
      "Tried 105_600 seed values, currently at 293_373_873_222_378_373_392\n",
      "Tried 105_700 seed values, currently at 293_444_988_343_889_444_392\n",
      "Tried 105_800 seed values, currently at 293_520_732_141_237_025_392\n",
      "Tried 105_900 seed values, currently at 293_576_621_929_126_675_392\n",
      "Tried 106_000 seed values, currently at 293_638_263_060_362_836_392\n",
      "Tried 106_100 seed values, currently at 293_707_385_929_583_707_392\n",
      "Tried 106_200 seed values, currently at 293_759_116_424_611_957_392\n",
      "Tried 106_300 seed values, currently at 293_833_937_464_739_338_392\n",
      "Tried 106_400 seed values, currently at 293_905_176_888_671_509_392\n",
      "Tried 106_500 seed values, currently at 293_954_146_202_641_459_392\n",
      "Tried 106_600 seed values, currently at 294_004_557_000_755_400_492\n",
      "Tried 106_700 seed values, currently at 294_141_131_040_131_141_492\n",
      "Tried 106_800 seed values, currently at 294_288_411_141_114_882_492\n",
      "Tried 106_900 seed values, currently at 294_424_658_848_856_424_492\n",
      "Tried 107_000 seed values, currently at 294_551_685_141_586_155_492\n",
      "Tried 107_100 seed values, currently at 294_679_764_747_467_976_492\n",
      "Tried 107_200 seed values, currently at 294_797_591_363_195_797_492\n",
      "Tried 107_300 seed values, currently at 294_942_292_949_292_249_492\n",
      "Tried 107_400 seed values, currently at 295_033_184_464_481_330_592\n",
      "Tried 107_500 seed values, currently at 295_089_132_181_231_980_592\n",
      "Tried 107_600 seed values, currently at 295_157_887_323_788_751_592\n",
      "Tried 107_700 seed values, currently at 295_220_702_959_207_022_592\n",
      "Tried 107_800 seed values, currently at 295_285_118_949_811_582_592\n",
      "Tried 107_900 seed values, currently at 295_359_253_565_352_953_592\n",
      "Tried 108_000 seed values, currently at 295_426_509_222_905_624_592\n",
      "Tried 108_100 seed values, currently at 295_475_873_242_378_574_592\n",
      "Tried 108_200 seed values, currently at 295_539_194_161_491_935_592\n",
      "Tried 108_300 seed values, currently at 295_607_362_727_263_706_592\n",
      "Tried 108_400 seed values, currently at 295_661_857_949_758_166_592\n",
      "Tried 108_500 seed values, currently at 295_730_879_525_978_037_592\n",
      "Tried 108_600 seed values, currently at 295_786_718_767_817_687_592\n",
      "Tried 108_700 seed values, currently at 295_855_775_848_577_558_592\n",
      "Tried 108_800 seed values, currently at 295_900_246_525_642_009_592\n",
      "Tried 108_900 seed values, currently at 295_970_939_484_939_079_592\n",
      "Tried 109_000 seed values, currently at 296_088_004_424_400_880_692\n",
      "Tried 109_100 seed values, currently at 296_246_404_404_404_642_692\n",
      "Tried 109_200 seed values, currently at 296_375_009_949_900_573_692\n",
      "Tried 109_300 seed values, currently at 296_501_412_777_214_105_692\n",
      "Tried 109_400 seed values, currently at 296_632_539_868_935_236_692\n",
      "Tried 109_500 seed values, currently at 296_744_637_444_736_447_692\n",
      "Tried 109_600 seed values, currently at 296_859_373_727_373_958_692\n",
      "Tried 109_700 seed values, currently at 296_966_831_959_138_669_692\n",
      "Tried 109_800 seed values, currently at 297_052_647_222_746_250_792\n",
      "Tried 109_900 seed values, currently at 297_126_343_808_343_621_792\n",
      "Tried 110_000 seed values, currently at 297_184_584_646_485_481_792\n",
      "Tried 110_100 seed values, currently at 297_259_735_424_537_952_792\n",
      "Tried 110_200 seed values, currently at 297_325_327_121_723_523_792\n",
      "Tried 110_300 seed values, currently at 297_379_503_666_305_973_792\n",
      "Tried 110_400 seed values, currently at 297_447_214_424_412_744_792\n",
      "Tried 110_500 seed values, currently at 297_519_179_989_971_915_792\n",
      "Tried 110_600 seed values, currently at 297_564_808_262_808_465_792\n",
      "Tried 110_700 seed values, currently at 297_623_933_686_339_326_792\n",
      "Tried 110_800 seed values, currently at 297_696_344_484_443_696_792\n",
      "Tried 110_900 seed values, currently at 297_766_962_909_269_667_792\n",
      "Tried 111_000 seed values, currently at 297_828_287_040_782_828_792\n",
      "Tried 111_100 seed values, currently at 297_884_957_929_759_488_792\n",
      "Tried 111_200 seed values, currently at 297_948_534_030_435_849_792\n",
      "Tried 111_300 seed values, currently at 297_991_989_282_989_199_792\n",
      "Tried 111_400 seed values, currently at 298_149_467_121_764_941_892\n",
      "Tried 111_500 seed values, currently at 298_296_113_626_311_692_892\n",
      "Tried 111_600 seed values, currently at 298_436_028_000_820_634_892\n",
      "Tried 111_700 seed values, currently at 298_560_719_545_917_065_892\n",
      "Tried 111_800 seed values, currently at 298_678_103_161_301_876_892\n",
      "Tried 111_900 seed values, currently at 298_777_203_414_302_777_892\n",
      "Tried 112_000 seed values, currently at 298_887_226_616_622_788_892\n",
      "Tried 112_100 seed values, currently at 298_994_505_969_505_499_892\n",
      "Tried 112_200 seed values, currently at 299_061_156_282_651_160_992\n",
      "Tried 112_300 seed values, currently at 299_148_235_505_532_841_992\n",
      "Tried 112_400 seed values, currently at 299_234_222_101_222_432_992\n",
      "Tried 112_500 seed values, currently at 299_297_145_888_541_792_992\n",
      "Tried 112_600 seed values, currently at 299_381_980_707_089_183_992\n",
      "Tried 112_700 seed values, currently at 299_445_131_333_131_544_992\n",
      "Tried 112_800 seed values, currently at 299_504_406_787_604_405_992\n",
      "Tried 112_900 seed values, currently at 299_586_315_848_513_685_992\n",
      "Tried 113_000 seed values, currently at 299_657_876_101_678_756_992\n",
      "Tried 113_100 seed values, currently at 299_718_258_404_852_817_992\n",
      "Tried 113_200 seed values, currently at 299_788_427_888_724_887_992\n",
      "Tried 113_300 seed values, currently at 299_856_037_313_730_658_992\n",
      "Tried 113_400 seed values, currently at 299_897_738_767_837_798_992\n",
      "Tried 113_500 seed values, currently at 299_980_212_525_212_089_992\n",
      "Tried 113_600 seed values, currently at 300_365_276_323_672_563_003\n",
      "Tried 113_700 seed values, currently at 301_130_451_848_154_031_103\n",
      "Tried 113_800 seed values, currently at 301_870_794_747_497_078_103\n",
      "Tried 113_900 seed values, currently at 302_647_376_161_673_746_203\n",
      "Tried 114_000 seed values, currently at 303_424_354_565_453_424_303\n",
      "Tried 114_100 seed values, currently at 304_219_346_565_643_912_403\n",
      "Tried 114_200 seed values, currently at 304_986_497_323_794_689_403\n",
      "Tried 114_300 seed values, currently at 305_740_373_767_373_047_503\n",
      "Tried 114_400 seed values, currently at 306_568_384_343_483_865_603\n",
      "Tried 114_500 seed values, currently at 307_635_173_383_371_536_703\n",
      "Tried 114_600 seed values, currently at 308_750_071_424_170_057_803\n",
      "Tried 114_700 seed values, currently at 310_021_964_101_469_120_013\n",
      "Tried 114_800 seed values, currently at 310_831_269_585_962_138_013\n",
      "Tried 114_900 seed values, currently at 311_651_046_303_640_156_113\n",
      "Tried 115_000 seed values, currently at 312_376_349_131_943_673_213\n",
      "Tried 115_100 seed values, currently at 313_144_074_585_470_441_313\n",
      "Tried 115_200 seed values, currently at 313_699_147_787_741_996_313\n",
      "Tried 115_300 seed values, currently at 314_494_438_010_834_494_413\n",
      "Tried 115_400 seed values, currently at 315_174_470_727_074_471_513\n",
      "Tried 115_500 seed values, currently at 315_813_337_767_733_318_513\n",
      "Tried 115_600 seed values, currently at 316_633_251_363_152_336_613\n",
      "Tried 115_700 seed values, currently at 317_543_042_545_240_345_713\n",
      "Tried 115_800 seed values, currently at 318_513_165_303_561_315_813\n",
      "Tried 115_900 seed values, currently at 319_706_018_747_810_607_913\n",
      "Tried 116_000 seed values, currently at 320_665_988_989_889_566_023\n",
      "Tried 116_100 seed values, currently at 321_535_135_040_531_535_123\n",
      "Tried 116_200 seed values, currently at 322_319_706_626_607_913_223\n",
      "Tried 116_300 seed values, currently at 322_970_850_404_058_079_223\n",
      "Tried 116_400 seed values, currently at 323_721_454_343_454_127_323\n",
      "Tried 116_500 seed values, currently at 324_346_555_868_555_643_423\n",
      "Tried 116_600 seed values, currently at 325_145_777_242_777_541_523\n",
      "Tried 116_700 seed values, currently at 325_844_962_787_269_448_523\n",
      "Tried 116_800 seed values, currently at 326_700_086_161_680_007_623\n",
      "Tried 116_900 seed values, currently at 327_533_240_464_042_335_723\n",
      "Tried 117_000 seed values, currently at 328_578_224_080_422_875_823\n",
      "Tried 117_100 seed values, currently at 329_693_459_575_954_396_923\n",
      "Tried 117_200 seed values, currently at 330_441_207_141_702_144_033\n",
      "Tried 117_300 seed values, currently at 331_273_914_888_419_372_133\n",
      "Tried 117_400 seed values, currently at 332_029_354_181_453_920_233\n",
      "Tried 117_500 seed values, currently at 332_828_635_080_536_828_233\n",
      "Tried 117_600 seed values, currently at 333_647_322_060_223_746_333\n",
      "Tried 117_700 seed values, currently at 334_349_716_808_617_943_433\n",
      "Tried 117_800 seed values, currently at 334_895_949_171_949_598_433\n",
      "Tried 117_900 seed values, currently at 335_739_335_060_533_937_533\n",
      "Tried 118_000 seed values, currently at 336_556_221_222_122_655_633\n",
      "Tried 118_100 seed values, currently at 337_355_613_090_316_553_733\n",
      "Tried 118_200 seed values, currently at 338_258_043_444_340_852_833\n",
      "Tried 118_300 seed values, currently at 339_263_116_373_611_362_933\n",
      "Tried 118_400 seed values, currently at 340_318_054_757_450_813_043\n",
      "Tried 118_500 seed values, currently at 341_328_237_393_732_823_143\n",
      "Tried 118_600 seed values, currently at 342_225_525_888_525_522_243\n",
      "Tried 118_700 seed values, currently at 343_085_904_333_409_580_343\n",
      "Tried 118_800 seed values, currently at 343_797_585_262_585_797_343\n",
      "Tried 118_900 seed values, currently at 344_666_964_888_469_666_443\n",
      "Tried 119_000 seed values, currently at 345_385_638_666_836_583_543\n",
      "Tried 119_100 seed values, currently at 346_065_431_929_134_560_643\n",
      "Tried 119_200 seed values, currently at 346_842_687_444_786_248_643\n",
      "Tried 119_300 seed values, currently at 347_784_350_222_053_487_743\n",
      "Tried 119_400 seed values, currently at 348_741_079_868_970_147_843\n",
      "Tried 119_500 seed values, currently at 349_689_666_949_666_986_943\n",
      "Tried 119_600 seed values, currently at 350_766_649_565_946_667_053\n",
      "Tried 119_700 seed values, currently at 351_943_513_040_315_349_153\n",
      "Tried 119_800 seed values, currently at 352_842_227_464_722_248_253\n",
      "Tried 119_900 seed values, currently at 353_686_762_363_267_686_353\n"
     ]
    },
    {
     "ename": "",
     "evalue": "",
     "output_type": "error",
     "traceback": [
      "\u001b[1;31mThe Kernel crashed while executing code in the current cell or a previous cell. \n",
      "\u001b[1;31mPlease review the code in the cell(s) to identify a possible cause of the failure. \n",
      "\u001b[1;31mClick <a href='https://aka.ms/vscodeJupyterKernelCrash'>here</a> for more info. \n",
      "\u001b[1;31mView Jupyter <a href='command:jupyter.viewOutput'>log</a> for further details."
     ]
    }
   ],
   "source": [
    "# WARNING: The code below will take several days to run, so be patient.  If you don't succeed at first try another solver or\n",
    "# go to larger seeds and wait even longer.\n",
    "n = 401 # 1/401 doesn't have an egyptian palindromic representation as of 1/11/2025\n",
    "best_score = 200\n",
    "# Small seeds have already been explored, so let's try larger values - this will take forever to run\n",
    "for p_wrapper in solver.palindrome_seed_iterator(1, n, \n",
    "                                                 start_search=10**20, end_search=10**21, \n",
    "                                                 min_num_divisors=10, max_num_divisors=46, # This number should be <48 for exact_knapsack\n",
    "                                                 verbose=True, report_frequency=100):\n",
    "    #print(f\"seed_value = {p_wrapper.seed_value:_}\")\n",
    "    score, a, error_code = solver.exact_knapsack(weight=p_wrapper.weight, capacity=p_wrapper.capacity, max_score=best_score, verbose=False)\n",
    "    # score, a, error_code = solver.egyptian_stack_search(weight=p_wrapper.weight, \n",
    "    #                                                     capacity=p_wrapper.capacity, \n",
    "    #                                                     max_score=best_score, \n",
    "    #                                                     max_tries=10_000_000,\n",
    "    #                                                     verbose=True)\n",
    "    if error_code==0 and score<best_score:\n",
    "        denominators = [p_wrapper.div_list[i] for i in range(len(a)) if a[i] > 0]\n",
    "        er.add([], denominators, discovered_by=\"Mr. Famous\", date='01/11/2025', method='egyptian_stack_search')\n",
    "        print(er.display())\n",
    "        er.save() # save it right away since your computer may die before the loop finishes running\n",
    "        best_score = score"
   ]
  },
  {
   "cell_type": "code",
   "execution_count": null,
   "metadata": {},
   "outputs": [],
   "source": []
  }
 ],
 "metadata": {
  "kernelspec": {
   "display_name": "palindrome",
   "language": "python",
   "name": "python3"
  },
  "language_info": {
   "codemirror_mode": {
    "name": "ipython",
    "version": 3
   },
   "file_extension": ".py",
   "mimetype": "text/x-python",
   "name": "python",
   "nbconvert_exporter": "python",
   "pygments_lexer": "ipython3",
   "version": "3.13.1"
  }
 },
 "nbformat": 4,
 "nbformat_minor": 2
}
